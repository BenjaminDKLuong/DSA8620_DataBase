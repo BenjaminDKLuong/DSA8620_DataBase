{
 "cells": [
  {
   "cell_type": "markdown",
   "metadata": {},
   "source": [
    "# Module 1: Review of Databases and SQL, Advanced SQL"
   ]
  },
  {
   "cell_type": "markdown",
   "metadata": {},
   "source": [
    "## Topics covered\n",
    "* Review of Foundations\n",
    "* Nested Queries\n",
    "* Table Expressions\n",
    "* Advanced Statistics with Aggregates\n"
   ]
  },
  {
   "cell_type": "markdown",
   "metadata": {},
   "source": [
    "## Readings\n",
    "* [Databases and Database Management Systems](./labs/DB-and-DBMS.ipynb) \n",
    "* [Nested Queries Overview](./resources/NestedQueries.ipynb)\n",
    "* [Table Expressions and Views](./resources/TableExpressions.ipynb)"
   ]
  },
  {
   "cell_type": "markdown",
   "metadata": {},
   "source": [
    "## Discussions\n",
    "No discussion board posts on canvas this week."
   ]
  },
  {
   "cell_type": "markdown",
   "metadata": {},
   "source": [
    "## Labs\n",
    "\n",
    "### Review of Foundations\n",
    "* [SQL - Select](./labs/SQL-Selects.ipynb)  \n",
    "* [Joins](./labs/Joins.ipynb) \n",
    "* [Basic Aggregates](./labs/Aggregations.ipynb) \n",
    "* [Query Plans](./labs/QueryExecutionPlan.ipynb) \n",
    "\n",
    "### Basic Nested Queries\n",
    "* [Basic Nested Queries Type I](./labs/Nesting-TypeI.ipynb)\n",
    "* [Basic Nested Queries Type II](./labs/Nesting-TypeII.ipynb)\n",
    "\n",
    "### Table Expressoins\n",
    "* [Nested Table Expressions](./labs/NestedTableExpressions.ipynb) \n",
    "\n",
    "### Advanced Statistics with Aggregates\n",
    "* [Advanced Aggregations](./labs/AdvancedAggregations.ipynb)\n",
    "\n",
    "### Database To Visualization : Programmatic Access\n",
    " * [Database to Pandas and Visualization](./labs/SQL_Visualization_Py.ipynb)\n",
    " * [Database to R and Visualization](./labs/SQL_Visualization_R.ipynb)\n"
   ]
  },
  {
   "cell_type": "markdown",
   "metadata": {},
   "source": [
    "## Practices\n",
    "  No practices this week as they are built in with the labs."
   ]
  },
  {
   "cell_type": "markdown",
   "metadata": {},
   "source": [
    "## Exercises\n",
    "\n",
    "  * [Nested Queries](./exercises/Nested.ipynb)\n",
    "  * [Advanced Aggregates](./exercises/AdvancedAggregates.ipynb)\n",
    "\n",
    "---\n",
    "\n",
    "**<span style='background:yellow'>Prerequisite of Modules 2 and 3</span>**  \n",
    "Modules 2 and 3 will focus constructing and populating databases.\n",
    "You will need to ensure you can connect to the `dsa_student` database for your work.\n",
    " * [PG Account Preview](./exercises/PG_Account_Preview.ipynb)\n",
    "\n",
    "\n"
   ]
  },
  {
   "cell_type": "markdown",
   "metadata": {},
   "source": [
    "## Submitting  work\n",
    "\n",
    "#### Steps:\n",
    "  1. Open Terminal in JupyterHub\n",
    "  1. Change into the course folder  \n",
    "  `cd f18dsa8620*`\n",
    "  1. Stage (Git Add) the module's exercise work   \n",
    "  `git  add   module1/exercises`\n",
    "  1. Create your work snapshot (Git Commit)  \n",
    "  `git   commit   -m   \"Module 1 submission\"`\n",
    "  1. Upload the snapshot to the server (Git Push)  \n",
    "  `git   push`\n"
   ]
  }
 ],
 "metadata": {
  "kernelspec": {
   "display_name": "Python 3",
   "language": "python",
   "name": "python3"
  },
  "language_info": {
   "codemirror_mode": {
    "name": "ipython",
    "version": 3
   },
   "file_extension": ".py",
   "mimetype": "text/x-python",
   "name": "python",
   "nbconvert_exporter": "python",
   "pygments_lexer": "ipython3",
   "version": "3.4.9"
  }
 },
 "nbformat": 4,
 "nbformat_minor": 2
}
