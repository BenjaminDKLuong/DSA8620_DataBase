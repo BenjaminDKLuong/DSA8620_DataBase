{
 "cells": [
  {
   "cell_type": "markdown",
   "metadata": {},
   "source": [
    "# JupyterHub Usage Instructions"
   ]
  },
  {
   "cell_type": "markdown",
   "metadata": {},
   "source": [
    "JupterHub allows interactive code execution.  The active cell is bordered, as shown below.\n",
    "\n",
    "![screen](../images/JH_Running_cells_1.png)\n",
    "\n",
    "## <span style=\"\">You try: Click in the cell below and then click the `run cell` button (shown above)"
   ]
  },
  {
   "cell_type": "code",
   "execution_count": null,
   "metadata": {},
   "outputs": [],
   "source": [
    "print(\"Hello JupyterHub\")"
   ]
  },
  {
   "cell_type": "markdown",
   "metadata": {},
   "source": [
    "** Note:** The `In[ ]` changed to have a number present. Then the output was rendered below."
   ]
  },
  {
   "cell_type": "markdown",
   "metadata": {},
   "source": [
    "![screen](../images/JH_Running_cells_2.png)\n",
    "\n",
    "## <span style=\"\">You try: Click in the cell below and then simultaneously press [SHIFT] + [ENTER]."
   ]
  },
  {
   "cell_type": "code",
   "execution_count": null,
   "metadata": {},
   "outputs": [],
   "source": [
    "print(\"Hello JupyterHub, SHIFT + ENTER = run me!\")"
   ]
  },
  {
   "cell_type": "markdown",
   "metadata": {},
   "source": [
    "# Take the time to take a tour of JupyterHub\n",
    "\n",
    "From the Help menu, select User Interface Tour  \n",
    "\n",
    "![screen](../images/JH_UI_Tour.png)\n",
    "\n"
   ]
  },
  {
   "cell_type": "markdown",
   "metadata": {},
   "source": [
    "# Keyboard Shortcuts are available as well\n",
    "\n",
    "![screen](../images/JH_Keyboard_Shortcuts.png)\n",
    "\n",
    "# Launching a Terminal\n",
    "\n",
    "![terminal launch](../images/JH_Terminal_Launch.png)\n"
   ]
  }
 ],
 "metadata": {
  "kernelspec": {
   "display_name": "Python 3",
   "language": "python",
   "name": "python3"
  },
  "language_info": {
   "codemirror_mode": {
    "name": "ipython",
    "version": 3
   },
   "file_extension": ".py",
   "mimetype": "text/x-python",
   "name": "python",
   "nbconvert_exporter": "python",
   "pygments_lexer": "ipython3",
   "version": "3.4.5"
  }
 },
 "nbformat": 4,
 "nbformat_minor": 1
}
