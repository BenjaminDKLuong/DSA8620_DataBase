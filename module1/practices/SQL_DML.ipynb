{
 "cells": [
  {
   "cell_type": "markdown",
   "metadata": {},
   "source": [
    "# SQLite and Data Manipulation Practice"
   ]
  },
  {
   "cell_type": "markdown",
   "metadata": {},
   "source": [
    "## The following cell copies the readonly survey database into this folder for you to open and manipulate it isolated from others\n",
    "\n",
    "### Please re-run this cell whenever you need to \"start over\" or reset a corrupted database."
   ]
  },
  {
   "cell_type": "code",
   "execution_count": null,
   "metadata": {},
   "outputs": [],
   "source": [
    "from shutil import copy\n",
    "\n",
    "copy('/dsa/data/all_datasets/survey.db', './')\n",
    "\n"
   ]
  },
  {
   "cell_type": "markdown",
   "metadata": {},
   "source": [
    "The expected output should be:\n",
    "```\n",
    "'./survey.db'\n",
    "```\n",
    "Once the file is in place, you can continue with the questions."
   ]
  },
  {
   "cell_type": "markdown",
   "metadata": {},
   "source": [
    "# Starting State of Survey Database \n",
    "\n",
    "\n",
    "<div class=\"row\">\n",
    "  <div class=\"col-md-6\">\n",
    "\n",
    "    <p><strong>Person</strong>: people who took readings.</p>\n",
    "\n",
    "    <table>\n",
    "      <thead>\n",
    "        <tr>\n",
    "          <th>id</th>\n",
    "          <th>personal</th>\n",
    "          <th>family</th>\n",
    "        </tr>\n",
    "      </thead>\n",
    "      <tbody>\n",
    "        <tr>\n",
    "          <td>dyer</td>\n",
    "          <td>William</td>\n",
    "          <td>Dyer</td>\n",
    "        </tr>\n",
    "        <tr>\n",
    "          <td>pb</td>\n",
    "          <td>Frank</td>\n",
    "          <td>Pabodie</td>\n",
    "        </tr>\n",
    "        <tr>\n",
    "          <td>lake</td>\n",
    "          <td>Anderson</td>\n",
    "          <td>Lake</td>\n",
    "        </tr>\n",
    "        <tr>\n",
    "          <td>roe</td>\n",
    "          <td>Valentina</td>\n",
    "          <td>Roerich</td>\n",
    "        </tr>\n",
    "        <tr>\n",
    "          <td>danforth</td>\n",
    "          <td>Frank</td>\n",
    "          <td>Danforth</td>\n",
    "        </tr>\n",
    "      </tbody>\n",
    "    </table>\n",
    "\n",
    "    <p><strong>Site</strong>: locations where readings were taken.</p>\n",
    "\n",
    "    <table>\n",
    "      <thead>\n",
    "        <tr>\n",
    "          <th>name</th>\n",
    "          <th>lat</th>\n",
    "          <th>long</th>\n",
    "        </tr>\n",
    "      </thead>\n",
    "      <tbody>\n",
    "        <tr>\n",
    "          <td>DR-1</td>\n",
    "          <td>-49.85</td>\n",
    "          <td>-128.57</td>\n",
    "        </tr>\n",
    "        <tr>\n",
    "          <td>DR-3</td>\n",
    "          <td>-47.15</td>\n",
    "          <td>-126.72</td>\n",
    "        </tr>\n",
    "        <tr>\n",
    "          <td>MSK-4</td>\n",
    "          <td>-48.87</td>\n",
    "          <td>-123.4</td>\n",
    "        </tr>\n",
    "      </tbody>\n",
    "    </table>\n",
    "\n",
    "    <p><strong>Visited</strong>: when readings were taken at specific sites.</p>\n",
    "\n",
    "    <table>\n",
    "      <thead>\n",
    "        <tr>\n",
    "          <th>id</th>\n",
    "          <th>site</th>\n",
    "          <th>dated</th>\n",
    "        </tr>\n",
    "      </thead>\n",
    "      <tbody>\n",
    "        <tr>\n",
    "          <td>619</td>\n",
    "          <td>DR-1</td>\n",
    "          <td>1927-02-08</td>\n",
    "        </tr>\n",
    "        <tr>\n",
    "          <td>622</td>\n",
    "          <td>DR-1</td>\n",
    "          <td>1927-02-10</td>\n",
    "        </tr>\n",
    "        <tr>\n",
    "          <td>734</td>\n",
    "          <td>DR-3</td>\n",
    "          <td>1930-01-07</td>\n",
    "        </tr>\n",
    "        <tr>\n",
    "          <td>735</td>\n",
    "          <td>DR-3</td>\n",
    "          <td>1930-01-12</td>\n",
    "        </tr>\n",
    "        <tr>\n",
    "          <td>751</td>\n",
    "          <td>DR-3</td>\n",
    "          <td>1930-02-26</td>\n",
    "        </tr>\n",
    "        <tr>\n",
    "          <td>752</td>\n",
    "          <td>DR-3</td>\n",
    "          <td>-null-</td>\n",
    "        </tr>\n",
    "        <tr>\n",
    "          <td>837</td>\n",
    "          <td>MSK-4</td>\n",
    "          <td>1932-01-14</td>\n",
    "        </tr>\n",
    "        <tr>\n",
    "          <td>844</td>\n",
    "          <td>DR-1</td>\n",
    "          <td>1932-03-22</td>\n",
    "        </tr>\n",
    "      </tbody>\n",
    "    </table>\n",
    "\n",
    "  </div>\n",
    "  <div class=\"col-md-6\">\n",
    "\n",
    "    <p><strong>Survey</strong>: the actual readings.</p>\n",
    "\n",
    "    <table>\n",
    "      <thead>\n",
    "        <tr>\n",
    "          <th>taken</th>\n",
    "          <th>person</th>\n",
    "          <th>quant</th>\n",
    "          <th>reading</th>\n",
    "        </tr>\n",
    "      </thead>\n",
    "      <tbody>\n",
    "        <tr>\n",
    "          <td>619</td>\n",
    "          <td>dyer</td>\n",
    "          <td>rad</td>\n",
    "          <td>9.82</td>\n",
    "        </tr>\n",
    "        <tr>\n",
    "          <td>619</td>\n",
    "          <td>dyer</td>\n",
    "          <td>sal</td>\n",
    "          <td>0.13</td>\n",
    "        </tr>\n",
    "        <tr>\n",
    "          <td>622</td>\n",
    "          <td>dyer</td>\n",
    "          <td>rad</td>\n",
    "          <td>7.8</td>\n",
    "        </tr>\n",
    "        <tr>\n",
    "          <td>622</td>\n",
    "          <td>dyer</td>\n",
    "          <td>sal</td>\n",
    "          <td>0.09</td>\n",
    "        </tr>\n",
    "        <tr>\n",
    "          <td>734</td>\n",
    "          <td>pb</td>\n",
    "          <td>rad</td>\n",
    "          <td>8.41</td>\n",
    "        </tr>\n",
    "        <tr>\n",
    "          <td>734</td>\n",
    "          <td>lake</td>\n",
    "          <td>sal</td>\n",
    "          <td>0.05</td>\n",
    "        </tr>\n",
    "        <tr>\n",
    "          <td>734</td>\n",
    "          <td>pb</td>\n",
    "          <td>temp</td>\n",
    "          <td>-21.5</td>\n",
    "        </tr>\n",
    "        <tr>\n",
    "          <td>735</td>\n",
    "          <td>pb</td>\n",
    "          <td>rad</td>\n",
    "          <td>7.22</td>\n",
    "        </tr>\n",
    "        <tr>\n",
    "          <td>735</td>\n",
    "          <td>-null-</td>\n",
    "          <td>sal</td>\n",
    "          <td>0.06</td>\n",
    "        </tr>\n",
    "        <tr>\n",
    "          <td>735</td>\n",
    "          <td>-null-</td>\n",
    "          <td>temp</td>\n",
    "          <td>-26.0</td>\n",
    "        </tr>\n",
    "        <tr>\n",
    "          <td>751</td>\n",
    "          <td>pb</td>\n",
    "          <td>rad</td>\n",
    "          <td>4.35</td>\n",
    "        </tr>\n",
    "        <tr>\n",
    "          <td>751</td>\n",
    "          <td>pb</td>\n",
    "          <td>temp</td>\n",
    "          <td>-18.5</td>\n",
    "        </tr>\n",
    "        <tr>\n",
    "          <td>751</td>\n",
    "          <td>lake</td>\n",
    "          <td>sal</td>\n",
    "          <td>0.1</td>\n",
    "        </tr>\n",
    "        <tr>\n",
    "          <td>752</td>\n",
    "          <td>lake</td>\n",
    "          <td>rad</td>\n",
    "          <td>2.19</td>\n",
    "        </tr>\n",
    "        <tr>\n",
    "          <td>752</td>\n",
    "          <td>lake</td>\n",
    "          <td>sal</td>\n",
    "          <td>0.09</td>\n",
    "        </tr>\n",
    "        <tr>\n",
    "          <td>752</td>\n",
    "          <td>lake</td>\n",
    "          <td>temp</td>\n",
    "          <td>-16.0</td>\n",
    "        </tr>\n",
    "        <tr>\n",
    "          <td>752</td>\n",
    "          <td>roe</td>\n",
    "          <td>sal</td>\n",
    "          <td>41.6</td>\n",
    "        </tr>\n",
    "        <tr>\n",
    "          <td>837</td>\n",
    "          <td>lake</td>\n",
    "          <td>rad</td>\n",
    "          <td>1.46</td>\n",
    "        </tr>\n",
    "        <tr>\n",
    "          <td>837</td>\n",
    "          <td>lake</td>\n",
    "          <td>sal</td>\n",
    "          <td>0.21</td>\n",
    "        </tr>\n",
    "        <tr>\n",
    "          <td>837</td>\n",
    "          <td>roe</td>\n",
    "          <td>sal</td>\n",
    "          <td>22.5</td>\n",
    "        </tr>\n",
    "        <tr>\n",
    "          <td>844</td>\n",
    "          <td>roe</td>\n",
    "          <td>rad</td>\n",
    "          <td>11.25</td>\n",
    "        </tr>\n",
    "      </tbody>\n",
    "    </table>\n",
    "\n",
    "  </div>\n",
    "</div>\n"
   ]
  },
  {
   "cell_type": "code",
   "execution_count": null,
   "metadata": {},
   "outputs": [],
   "source": [
    "%load_ext sql\n",
    "%sql sqlite:///survey.db"
   ]
  },
  {
   "cell_type": "markdown",
   "metadata": {},
   "source": [
    "<span style=\"background:yellow\">The above cell should be run when you (re-)start working on the lab.</span>\n",
    "\n",
    "# 1\n",
    "\n",
    "### Add two new persons to the Person table.\n",
    "\n",
    "  A. Grant Scott, id = scottgs ; the first provided as example  \n",
    "  B. Your own name, id = your PSDS ID\n",
    "\n",
    "**HINT** use `INSERT` and the `%sql` or `%%sql` notebook extension."
   ]
  },
  {
   "cell_type": "code",
   "execution_count": null,
   "metadata": {},
   "outputs": [],
   "source": [
    "%%sql  \n",
    "INSERT INTO Person (id,personal,family) values ('scottgs','Grant','Scott')"
   ]
  },
  {
   "cell_type": "code",
   "execution_count": null,
   "metadata": {
    "collapsed": true
   },
   "outputs": [],
   "source": [
    "%%sql\n"
   ]
  },
  {
   "cell_type": "code",
   "execution_count": null,
   "metadata": {
    "collapsed": true
   },
   "outputs": [],
   "source": [
    "%%sql\n",
    "SELECT * FROM PERSON"
   ]
  },
  {
   "cell_type": "markdown",
   "metadata": {},
   "source": [
    "# 2\n",
    "\n",
    "### Update the Survey table to set the two NULL `person` values to be `'danforth'`"
   ]
  },
  {
   "cell_type": "code",
   "execution_count": null,
   "metadata": {
    "collapsed": true
   },
   "outputs": [],
   "source": [
    "%%sql\n"
   ]
  },
  {
   "cell_type": "markdown",
   "metadata": {},
   "source": [
    "# 3\n",
    "\n",
    "### Delete the survey readings that are from the site with a NULL date. \n",
    "\n",
    "**NOTE**: In later SQL material you will learn of nested queries that make this type of statement easier and scalable. But for now, you are to use simple SQL that only involved one table, so use literal values in the delete statement."
   ]
  },
  {
   "cell_type": "code",
   "execution_count": null,
   "metadata": {
    "collapsed": true
   },
   "outputs": [],
   "source": [
    "%%sql\n"
   ]
  },
  {
   "cell_type": "markdown",
   "metadata": {},
   "source": [
    "# 4\n",
    "\n",
    "### Add a new site visit for `MSK-4` that is dated today."
   ]
  },
  {
   "cell_type": "code",
   "execution_count": null,
   "metadata": {
    "collapsed": true
   },
   "outputs": [],
   "source": [
    "%%sql\n"
   ]
  },
  {
   "cell_type": "markdown",
   "metadata": {},
   "source": [
    "# 5\n",
    "\n",
    "### Add a new reading to the survey table made by yourself and temperature (temp).\n",
    "Use the approximate temperature when you were last outside."
   ]
  },
  {
   "cell_type": "code",
   "execution_count": null,
   "metadata": {
    "collapsed": true
   },
   "outputs": [],
   "source": [
    "%%sql\n"
   ]
  },
  {
   "cell_type": "markdown",
   "metadata": {},
   "source": [
    "# 6\n",
    "\n",
    "### You have determined that all of the readings from Mr. Dyer were taken erroneously and need to be removed. Please remove them from the database."
   ]
  },
  {
   "cell_type": "code",
   "execution_count": null,
   "metadata": {
    "collapsed": true
   },
   "outputs": [],
   "source": [
    "%%sql\n"
   ]
  },
  {
   "cell_type": "markdown",
   "metadata": {},
   "source": [
    "# SAVE YOUR NOTEBOOK, then `File > Close and Halt`"
   ]
  },
  {
   "cell_type": "markdown",
   "metadata": {},
   "source": [
    "---"
   ]
  }
 ],
 "metadata": {
  "kernelspec": {
   "display_name": "Python 3",
   "language": "python",
   "name": "python3"
  },
  "language_info": {
   "codemirror_mode": {
    "name": "ipython",
    "version": 3
   },
   "file_extension": ".py",
   "mimetype": "text/x-python",
   "name": "python",
   "nbconvert_exporter": "python",
   "pygments_lexer": "ipython3",
   "version": "3.4.5"
  }
 },
 "nbformat": 4,
 "nbformat_minor": 1
}
