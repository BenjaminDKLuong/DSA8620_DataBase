{
 "cells": [
  {
   "cell_type": "markdown",
   "metadata": {},
   "source": [
    "# Extraction, Transform, and Loading\n",
    "\n",
    "ETL is a common necessity for data engineering and data processing pipelines.\n",
    "The source of the data may be other structured databases, unstructured data stores, data APIs, etc.\n",
    "\n",
    "ETL can be a simple data acquisition task, such as shown below."
   ]
  },
  {
   "cell_type": "markdown",
   "metadata": {},
   "source": [
    "![AutomatedDataAcquisition.png MISSING](../images/AutomatedDataAcquisition.png)"
   ]
  },
  {
   "cell_type": "markdown",
   "metadata": {},
   "source": [
    "**Or, it may be part of larger process to accumulated data and information in support of advanced analytical systems.**\n",
    "\n",
    "![AutomatedDataAcquisition_to_Analytics.png MISSING](../images/AutomatedDataAcquisition_to_Analytics.png)"
   ]
  },
  {
   "cell_type": "markdown",
   "metadata": {},
   "source": [
    "---\n",
    "\n",
    "## In the context of ETL, you now have the tools to perform this activity.\n",
    "\n",
    "In the previous module you experience the decomposition of data sources (files) into a normalized schema.\n",
    "In this module you then load the database with data from the files.\n",
    "\n",
    "\n",
    "## Task:\n",
    "\n",
    " **Find and Ponder some publicly available data, such as Wikipedia, Wikimapia, OpenStreetMap, Twitter, etc.**   \n",
    "In the cellas below, \n",
    "\n",
    " 1. add a link to the data and \n",
    " 1. provide a sample of the data and describe it's format (e.g., key entities and relationships)\n",
    " 1. Then describe some challenges you foresee with the data\n",
    " 1. Make a discussion board post encompasing the tasks listed above sharing what you found with your classmates. "
   ]
  },
  {
   "cell_type": "markdown",
   "metadata": {},
   "source": [
    "### M3:P3:Q1 - Data Link"
   ]
  },
  {
   "cell_type": "raw",
   "metadata": {},
   "source": [
    "## Add your answer in this cell\n",
    "## ----------------------------\n",
    "here is the link to the data: http://wikimapia.org/api/#placegetbyid\n",
    "\n",
    "\n",
    "\n",
    "\n",
    "\n"
   ]
  },
  {
   "cell_type": "markdown",
   "metadata": {},
   "source": [
    "### M3:P3:Q2 - Data Sample and elicitation of Entities"
   ]
  },
  {
   "cell_type": "raw",
   "metadata": {},
   "source": [
    "## Add your answer in this cell\n",
    "## ----------------------------\n",
    "- main - main information about place: url, title, description, categories, if place is a building, if it's a region. Also if it is deleted.\n",
    "\n",
    "- geometry - place geometry on map: polygon or rectangle\n",
    "edit - user_id and name of last editor and timestamp. If the place is in deletion state this info will be in the edit block also\n",
    "\n",
    "- location - place location: lat/lon coordinates, north/south/east/west coordinates, zoom level, country, state, city id and name, Wikimapia Cityguide domain name, street id and name\n",
    "\n",
    "- attached - places attached to selected one or parent place of selected one, only basic info: url, title, categories. Also if child place is deleted.\n",
    "\n",
    "- photos - photos of current place: urls to thumb, big and fullsize photo, id, size, author id and name, date of photo uploading, last editor of this photo, photo status (deleted/active)\n",
    "\n",
    "- comments - place comments: number, language of comment, author id, his ip and name, comment text, positive and negative votes, moderator id, name, and date of deletion if the comment was removed\n",
    "\n",
    "- translate - languages available for selected place\n",
    "similar_places, nearest_places, nearest_comments, nearest_streets, \n",
    "\n",
    "- nearest_hotels - extra information about objects around seleted one\n",
    "\n",
    "\n",
    "We need some entities:\n",
    "- place_information: has information about place: url, title, description, categories, if place is a building, if it's a region,geometry\n",
    "- users: has all users\n",
    "- edit: show who edit, what place\n",
    "- comments: show which user comment on which place by what language.\n",
    "- photos: hold all photo uploaded into database.  place_information or comments entities can pull photos from here.\n",
    "\n",
    "\n",
    "\n",
    "\n",
    "\n",
    "\n"
   ]
  },
  {
   "cell_type": "markdown",
   "metadata": {},
   "source": [
    "### M3:P3:Q3 - Challanges of the data"
   ]
  },
  {
   "cell_type": "raw",
   "metadata": {},
   "source": [
    "## Add your answer in this cell\n",
    "## ----------------------------\n",
    "- place_information entity contains many columns , while user entity has just user_id\n",
    "\n",
    "- if we keep the database running, we will see comments and photos entities increase so much in size. In contract, place_information and user entities dont increase by alot.\n",
    "\n",
    "\n",
    "\n",
    "\n",
    "\n"
   ]
  },
  {
   "cell_type": "markdown",
   "metadata": {},
   "source": [
    "### M3:P3:Q4 - Make a discussion board post encompasing the tasks listed above sharing what you found with your classmates. \n"
   ]
  },
  {
   "cell_type": "markdown",
   "metadata": {},
   "source": [
    "# Save your notebook, then `File > Close and Halt`"
   ]
  },
  {
   "cell_type": "markdown",
   "metadata": {},
   "source": [
    "---"
   ]
  }
 ],
 "metadata": {
  "kernelspec": {
   "display_name": "Python 3",
   "language": "python",
   "name": "python3"
  },
  "language_info": {
   "codemirror_mode": {
    "name": "ipython",
    "version": 3
   },
   "file_extension": ".py",
   "mimetype": "text/x-python",
   "name": "python",
   "nbconvert_exporter": "python",
   "pygments_lexer": "ipython3",
   "version": "3.4.9"
  }
 },
 "nbformat": 4,
 "nbformat_minor": 2
}
