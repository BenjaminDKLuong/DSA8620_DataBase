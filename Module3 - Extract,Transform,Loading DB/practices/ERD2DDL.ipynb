{
 "cells": [
  {
   "cell_type": "markdown",
   "metadata": {},
   "source": [
    "# Converting an ERD to DDL"
   ]
  },
  {
   "cell_type": "markdown",
   "metadata": {},
   "source": [
    "This practice will take the ERD diagram below and create the tables within our database.\n",
    "![erd](../images/ERD.jpg)"
   ]
  },
  {
   "cell_type": "markdown",
   "metadata": {},
   "source": [
    "## Order of creation\n",
    "\n",
    "One of the important things to consider when constructing SQL Data Definition Language script files is the order of creation.\n",
    "\n",
    "Before a foreign key can be designated, the table and key that it will refer to must exist within the database."
   ]
  },
  {
   "cell_type": "markdown",
   "metadata": {},
   "source": [
    "Based on the ERD above, we see that Course, Student, and Instructor do not have a foreign key and therefore can be definted first.\n",
    "\n",
    "```SQL\n",
    "CREATE TABLE Student (\n",
    "    StudentID INT NOT NULL,\n",
    "    LastName VARHCAR(50) NOT NULL,\n",
    "    FirstName VARCHAR(50) NOT NULL,\n",
    "    PRIMARY KEY (StudentID)\n",
    ");\n",
    "\n",
    "CREATE TABLE Instructor (\n",
    "    InstructorID INT NOT NULL,\n",
    "    LastName VARHCAR(50) NOT NULL,\n",
    "    FirstName VARCHAR(50) NOT NULL,\n",
    "    PRIMARY KEY (InstructorID)\n",
    ");\n",
    "\n",
    "CREATE TABLE Course (\n",
    "    Number CHAR(8) NOT NULL,\n",
    "    Title VARHCAR(100) NOT NULL,\n",
    "    Synopsis TEXT NOT NULL,\n",
    "    PRIMARY KEY (Number)\n",
    ");\n",
    "\n",
    "\n",
    "```"
   ]
  },
  {
   "cell_type": "markdown",
   "metadata": {},
   "source": [
    "Since the Enrollment table stores a ClassID, it will have to be build after Class.\n",
    "\n",
    "NOTE: These tables require foreign key references for referential integrity.\n",
    "\n",
    "```SQL\n",
    "CREATE TABLE Class (\n",
    "    ClassID INT NOT NULL,\n",
    "    Number CHAR(8) NOT NULL,\n",
    "    InstructorID INT NOT NULL,\n",
    "    DateStarted DATE,\n",
    "    DateEnded DATE,\n",
    "    PRIMARY KEY (ClassID),\n",
    "    FOREIGN KEY (InstructorID)\n",
    "      REFERENCES Instructor(InstructorID)\n",
    ");\n",
    "\n",
    "CREATE TABLE Enrollment (\n",
    "    ClassID INT NOT NULL,\n",
    "    StudentID INT NOT NULL,\n",
    "    PRIMARY KEY (ClassID,StudentID),\n",
    "    FOREIGN KEY (ClassID)\n",
    "      REFERENCES Class(ClassID),\n",
    "    FOREIGN KEY (StudentID)\n",
    "      REFERENCES Student(StudentID)\n",
    "\n",
    ");\n",
    "```"
   ]
  },
  {
   "cell_type": "code",
   "execution_count": 1,
   "metadata": {},
   "outputs": [
    {
     "name": "stdout",
     "output_type": "stream",
     "text": [
      "The history saving thread hit an unexpected error (OperationalError('disk I/O error',)).History will not be written to the database.\n"
     ]
    },
    {
     "data": {
      "text/plain": [
       "'Connected: None@../databases/courses.db'"
      ]
     },
     "execution_count": 1,
     "metadata": {},
     "output_type": "execute_result"
    }
   ],
   "source": [
    "## Load SQL Extension and open the database file\n",
    "%load_ext sql\n",
    "%sql sqlite:///../databases/courses.db"
   ]
  },
  {
   "cell_type": "code",
   "execution_count": 2,
   "metadata": {},
   "outputs": [
    {
     "name": "stdout",
     "output_type": "stream",
     "text": [
      "Done.\n",
      "Done.\n",
      "Done.\n"
     ]
    },
    {
     "data": {
      "text/plain": [
       "[]"
      ]
     },
     "execution_count": 2,
     "metadata": {},
     "output_type": "execute_result"
    }
   ],
   "source": [
    "%%sql\n",
    "CREATE TABLE Student (\n",
    "    StudentID INT NOT NULL,\n",
    "    LastName VARHCAR(50) NOT NULL,\n",
    "    FirstName VARCHAR(50) NOT NULL,\n",
    "    PRIMARY KEY (StudentID)\n",
    ");\n",
    "\n",
    "CREATE TABLE Instructor (\n",
    "    InstructorID INT NOT NULL,\n",
    "    LastName VARHCAR(50) NOT NULL,\n",
    "    FirstName VARCHAR(50) NOT NULL,\n",
    "    PRIMARY KEY (InstructorID)\n",
    ");\n",
    "\n",
    "CREATE TABLE Course (\n",
    "    Number CHAR(8) NOT NULL,\n",
    "    Title VARHCAR(100) NOT NULL,\n",
    "    Synopsis TEXT NOT NULL,\n",
    "    PRIMARY KEY (Number)\n",
    ");"
   ]
  },
  {
   "cell_type": "code",
   "execution_count": 3,
   "metadata": {},
   "outputs": [
    {
     "name": "stdout",
     "output_type": "stream",
     "text": [
      "Done.\n",
      "Done.\n"
     ]
    },
    {
     "data": {
      "text/plain": [
       "[]"
      ]
     },
     "execution_count": 3,
     "metadata": {},
     "output_type": "execute_result"
    }
   ],
   "source": [
    "%%sql\n",
    "CREATE TABLE Class (\n",
    "    ClassID INT NOT NULL,\n",
    "    Number CHAR(8) NOT NULL,\n",
    "    InstructorID INT NOT NULL,\n",
    "    DateStarted DATE,\n",
    "    DateEnded DATE,\n",
    "    PRIMARY KEY (ClassID),\n",
    "    FOREIGN KEY (InstructorID)\n",
    "      REFERENCES Instructor(InstructorID)\n",
    ");\n",
    "\n",
    "CREATE TABLE Enrollment (\n",
    "    ClassID INT NOT NULL,\n",
    "    StudentID INT NOT NULL,\n",
    "    PRIMARY KEY (ClassID,StudentID),\n",
    "    FOREIGN KEY (ClassID)\n",
    "      REFERENCES Class(ClassID),\n",
    "    FOREIGN KEY (StudentID)\n",
    "      REFERENCES Student(StudentID)\n",
    "\n",
    ");\n"
   ]
  },
  {
   "cell_type": "markdown",
   "metadata": {},
   "source": [
    "## <span style=\"background:yellow\">Your Turn</span>\n",
    "\n",
    "\n",
    "M3:P1:Q1 - Write a create table statement for a 'CourseGrade' table that would hold a student number, class number, and the grade they received\n"
   ]
  },
  {
   "cell_type": "code",
   "execution_count": 6,
   "metadata": {},
   "outputs": [
    {
     "name": "stdout",
     "output_type": "stream",
     "text": [
      "Done.\n"
     ]
    },
    {
     "data": {
      "text/plain": [
       "[]"
      ]
     },
     "execution_count": 6,
     "metadata": {},
     "output_type": "execute_result"
    }
   ],
   "source": [
    "%%sql\n",
    "CREATE TABLE CourseGrade (\n",
    "    StudentID INT NOT NULL,\n",
    "    Number CHAR(8) NOT NULL,\n",
    "    Grade CHAR(8) NOT NULL,\n",
    "    \n",
    "    PRIMARY KEY (StudentID),\n",
    "    FOREIGN KEY (StudentID)\n",
    "      REFERENCES Student(StudentID)\n",
    ");"
   ]
  },
  {
   "cell_type": "markdown",
   "metadata": {},
   "source": [
    "M3:P1:Q2 - Write a create table statement for a 'SudentInfo' table that would hold the student id and other relevant information like address, phone number, and date of birth\n"
   ]
  },
  {
   "cell_type": "code",
   "execution_count": 5,
   "metadata": {},
   "outputs": [
    {
     "name": "stdout",
     "output_type": "stream",
     "text": [
      "Done.\n"
     ]
    },
    {
     "data": {
      "text/plain": [
       "[]"
      ]
     },
     "execution_count": 5,
     "metadata": {},
     "output_type": "execute_result"
    }
   ],
   "source": [
    "%%sql\n",
    "CREATE TABLE StudentInfo (\n",
    "    StudentID INT NOT NULL,\n",
    "    Address CHAR(8) NOT NULL,\n",
    "    PhoneNumber CHAR(8) NOT NULL,\n",
    "    BirthDate DATE,\n",
    "    \n",
    "    PRIMARY KEY (StudentID),\n",
    "    FOREIGN KEY (StudentID)\n",
    "      REFERENCES Student(StudentID)\n",
    ");"
   ]
  },
  {
   "cell_type": "markdown",
   "metadata": {},
   "source": [
    "# SAVE YOUR NOTEBOOK"
   ]
  }
 ],
 "metadata": {
  "kernelspec": {
   "display_name": "Python 3",
   "language": "python",
   "name": "python3"
  },
  "language_info": {
   "codemirror_mode": {
    "name": "ipython",
    "version": 3
   },
   "file_extension": ".py",
   "mimetype": "text/x-python",
   "name": "python",
   "nbconvert_exporter": "python",
   "pygments_lexer": "ipython3",
   "version": "3.4.9"
  }
 },
 "nbformat": 4,
 "nbformat_minor": 1
}
