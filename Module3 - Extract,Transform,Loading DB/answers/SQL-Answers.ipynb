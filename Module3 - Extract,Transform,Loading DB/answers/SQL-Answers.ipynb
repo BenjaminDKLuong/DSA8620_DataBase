{
 "cells": [
  {
   "cell_type": "markdown",
   "metadata": {},
   "source": [
    "# Finalize and load the songs.db\n"
   ]
  },
  {
   "cell_type": "code",
   "execution_count": null,
   "metadata": {},
   "outputs": [],
   "source": [
    "## RUN THIS CELL Every time you open this notebook!!!\n",
    "%load_ext sql\n",
    "%sql sqlite:///../databases/songs.db"
   ]
  },
  {
   "cell_type": "markdown",
   "metadata": {},
   "source": [
    "#### Expected output from previous cell\n",
    "\n",
    "```\n",
    "'Connected: None@../../songs.db'\n",
    "```\n"
   ]
  },
  {
   "cell_type": "markdown",
   "metadata": {},
   "source": [
    "#### M3:P2:Q1: Load Data for Albums\n",
    "\n",
    "Using Python load the Albums into the database \n"
   ]
  },
  {
   "cell_type": "code",
   "execution_count": null,
   "metadata": {},
   "outputs": [],
   "source": [
    "# Write your Python here\n",
    "# ---------------------\n",
    "import pandas  # requires the xlrd optional library for Pandas\n",
    "import openpyxl as xl\n",
    "import sqlite3\n",
    "import numpy\n",
    "\n",
    "\n",
    "df = pandas.read_excel(open('../../../datasets/Module4Data.xlsx','rb'), sheetname='Albums', header=None)\n",
    "\n",
    "databaseFilename = '../databases/songs.db'\n",
    "connection = sqlite3.connect(databaseFilename)\n",
    "cursor = connection.cursor()\n",
    "\n",
    "sqlite3.register_adapter(numpy.int64, int)\n",
    "sqlite3.register_adapter(numpy.float64, float)\n",
    "\n",
    "\n",
    "query_start = 'SELECT artist_id FROM artist where name  = \\''\n",
    "query_end = '\\''\n",
    "\n",
    "count = 0\n",
    "for row in df.itertuples(index=True, name ='None'):\n",
    "    art_id_query = query_start + row[1] + query_end;\n",
    "    cursor.execute(art_id_query)\n",
    "    art_id = cursor.fetchone()\n",
    "    df.loc[[count],0] = art_id\n",
    "    count = count + 1\n",
    "    \n",
    "#for row in df.itertuples(index=True, name ='None'):\n",
    "#    cursor.execute('INSERT INTO Album VALUES(?,?,?,?)',row)\n",
    "connection.commit()\n"
   ]
  },
  {
   "cell_type": "markdown",
   "metadata": {},
   "source": [
    "#### M3:P2:Q2: Load Data for Songs\n",
    "\n",
    "Using Python load the Songs into the database \n",
    "\n"
   ]
  },
  {
   "cell_type": "code",
   "execution_count": null,
   "metadata": {
    "collapsed": true
   },
   "outputs": [],
   "source": [
    "import pandas  # requires the xlrd optional library for Pandas\n",
    "import openpyxl as xl\n",
    "import sqlite3\n",
    "import numpy\n",
    "\n",
    "\n",
    "df = pandas.read_excel(open('../../../datasets/Module4Data.xlsx','rb'), sheetname='Songs', header=None)\n",
    "\n",
    "databaseFilename = '../databases/songs.db'\n",
    "connection = sqlite3.connect(databaseFilename)\n",
    "cursor = connection.cursor()\n",
    "\n",
    "sqlite3.register_adapter(numpy.int64, int)\n",
    "sqlite3.register_adapter(numpy.float64, float)\n",
    "\n",
    "query_start = 'SELECT album_id FROM Album WHERE title = \\''\n",
    "query_end = '\\''\n",
    "\n",
    "count = 0\n",
    "for row in df.itertuples(index=True, name ='None'):\n",
    "    album_id_query = query_start + str(row[1]) + query_end;\n",
    "    cursor.execute(album_id_query)\n",
    "    album_id = cursor.fetchone()\n",
    "    df.loc[[count],0] = album_id\n",
    "    count = count + 1\n",
    "\n",
    "\n",
    "# Convert the datetime into a string that has \n",
    "# the number of seconds for each song.\n",
    "# .hours is actually the minutes\n",
    "# and the .minutes is actually the seconds\n",
    "# due to the format of the imported values.\n",
    "# for example Killer Queen is reading as 03:01:00\n",
    "# When it is 3 minutes and 1 second in length\n",
    "df[2] = [x.hour*60+x.minute for x in df[2]]\n",
    "\n",
    "for row in df.itertuples(index=True, name ='None'):\n",
    "    cursor.execute('INSERT INTO Song VALUES(?,?,?,?)',row)\n",
    "connection.commit()\n",
    "\n",
    "\n"
   ]
  },
  {
   "cell_type": "markdown",
   "metadata": {},
   "source": [
    "# Get some analytical answers\n",
    "\n",
    "Now that you have loaded the database, get some answers from the data.  These questions are in the context of the database you have loaded.\n",
    "\n",
    "\n",
    "#### M3:P2:Q3: How many bands are in the database?"
   ]
  },
  {
   "cell_type": "code",
   "execution_count": null,
   "metadata": {
    "collapsed": true
   },
   "outputs": [],
   "source": [
    "%%sql \n",
    "\n",
    "\n",
    "\n"
   ]
  },
  {
   "cell_type": "markdown",
   "metadata": {},
   "source": [
    "#### M3:P2:Q4: How many songs are played by each band?"
   ]
  },
  {
   "cell_type": "code",
   "execution_count": null,
   "metadata": {},
   "outputs": [],
   "source": [
    "%%sql \n",
    "\n",
    "\n",
    "\n",
    "\n",
    "\n",
    "\n"
   ]
  },
  {
   "cell_type": "markdown",
   "metadata": {},
   "source": [
    "#### M3:P2:Q5: What is the average song length?"
   ]
  },
  {
   "cell_type": "code",
   "execution_count": null,
   "metadata": {
    "collapsed": true
   },
   "outputs": [],
   "source": [
    "%%sql \n",
    "\n",
    "\n"
   ]
  },
  {
   "cell_type": "markdown",
   "metadata": {},
   "source": [
    "#### M3:P2:Q6: What is the average song length for The Beatles, per album?"
   ]
  },
  {
   "cell_type": "code",
   "execution_count": null,
   "metadata": {
    "collapsed": true
   },
   "outputs": [],
   "source": [
    "%%sql \n",
    "\n",
    "\n",
    "\n"
   ]
  },
  {
   "cell_type": "markdown",
   "metadata": {},
   "source": [
    "# PLEASE SAVE YOUR NOTEBOOK"
   ]
  }
 ],
 "metadata": {
  "kernelspec": {
   "display_name": "Python 3",
   "language": "python",
   "name": "python3"
  },
  "language_info": {
   "codemirror_mode": {
    "name": "ipython",
    "version": 3
   },
   "file_extension": ".py",
   "mimetype": "text/x-python",
   "name": "python",
   "nbconvert_exporter": "python",
   "pygments_lexer": "ipython3",
   "version": "3.4.9"
  }
 },
 "nbformat": 4,
 "nbformat_minor": 1
}
