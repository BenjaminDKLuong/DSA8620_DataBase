{
 "cells": [
  {
   "cell_type": "markdown",
   "metadata": {},
   "source": [
    "# Database Design and Load Exercise\n",
    "\n",
    "### Steps\n",
    " 1. Analyze - Completed last module\n",
    " 2. Design - Completed last module. \n",
    " 3. Data Carpentry\n",
    " 4. Data Loading\n",
    " 5. Analytical Queries"
   ]
  },
  {
   "cell_type": "markdown",
   "metadata": {},
   "source": [
    "# Smart Stores ERD\n",
    "Last module everyone was to build an ERD diagram based on the entities and attributes below.\n",
    "\n"
   ]
  },
  {
   "cell_type": "markdown",
   "metadata": {},
   "source": [
    "### orders :\n",
    "* `order_id`: order identifier\n",
    "* `user_id`: customer identifier\n",
    "* `eval_set`: which evaluation set this order belongs in (see `SET` described below)\n",
    "* `order_number`: the order sequence number for this user (1 = first, n = nth)\n",
    "* `order_dow`: the day of the week the order was placed on\n",
    "* `order_hour_of_day`: the hour of the day the order was placed on\n",
    "* `days_since_prior`: days since the last order, capped at 30 (with NAs for `order_number` = 1)\n",
    "\n",
    "### products :\n",
    "* `product_id`: product identifier\n",
    "* `product_name`: name of the product\n",
    "* `aisle_id`: foreign key\n",
    "* `department_id`: foreign key\n",
    "\n",
    "### aisles :\n",
    "* `aisle_id`: aisle identifier\n",
    "* `aisle`: the name of the aisle\n",
    "\n",
    "### deptartments :\n",
    "* `department_id`: department identifier\n",
    "* `department`: the name of the department\n",
    "\n",
    "### order_products :\n",
    "* `order_id`: foreign key\n",
    "* `product_id`: foreign key\n",
    "* `add_to_cart_order`: order in which each product was added to cart\n",
    "* `reordered`: 1 if this product has been ordered by this user in the past, 0 otherwise\n",
    "\n",
    "#### where SET is one of the four following evaluation sets (eval_set in orders):\n",
    "\n",
    "* \"prior\": orders prior to that users most recent order (~3.2m orders)\n",
    "* \"train\": training data supplied to participants (~131k orders)\n",
    "* \"test\": test data reserved for machine learning competitions (~75k orders)"
   ]
  },
  {
   "cell_type": "markdown",
   "metadata": {
    "collapsed": true
   },
   "source": [
    "# ERD Diagram\n",
    "\n",
    "For this assignment this is the ERD diagram everyone should use based on the requirements above. It is ok if you had something a little bit different in last week's exercise as long as you captured all of the requirements and relationships."
   ]
  },
  {
   "cell_type": "markdown",
   "metadata": {
    "collapsed": true
   },
   "source": [
    "![erd](../images/db_design.png)"
   ]
  },
  {
   "cell_type": "markdown",
   "metadata": {},
   "source": [
    "### M3:E1:Q1 - Create the tables in the database\n",
    " 1. Convert the Entities and attributes into a Database schema for Postgres\n",
    " 1. Remember to prefix table names with your database id, e.g., _SSO_.\n",
    "    * Example: `CREATE TABLE SSO.Order ... `\n",
    "    \n",
    "**Remember to specify your Primary Keys and Foreign Keys for each table!** "
   ]
  },
  {
   "cell_type": "code",
   "execution_count": 1,
   "metadata": {},
   "outputs": [
    {
     "name": "stdout",
     "output_type": "stream",
     "text": [
      "········\n"
     ]
    }
   ],
   "source": [
    "import getpass\n",
    "# This collects a masked password from the user\n",
    "mypasswd = getpass.getpass()"
   ]
  },
  {
   "cell_type": "code",
   "execution_count": 2,
   "metadata": {
    "collapsed": true
   },
   "outputs": [],
   "source": [
    "import psycopg2\n",
    "import numpy as np\n",
    "from psycopg2.extensions import adapt, register_adapter, AsIs\n",
    "\n",
    "# Then connects to the DB\n",
    "connection = psycopg2.connect(database = 'dsa_student', \n",
    "                              user = 'garwoode', \n",
    "                              host = 'dbase.dsa.missouri.edu',\n",
    "                              password = mypasswd)"
   ]
  },
  {
   "cell_type": "code",
   "execution_count": 3,
   "metadata": {
    "collapsed": true
   },
   "outputs": [],
   "source": [
    "# Then remove the password from computer memory\n",
    "del mypasswd"
   ]
  },
  {
   "cell_type": "code",
   "execution_count": null,
   "metadata": {
    "collapsed": true
   },
   "outputs": [],
   "source": [
    "CREATE_TABLES = \"\"\"\n",
    "DROP TABLE IF EXISTS garwoode.orders cascade;\n",
    "CREATE TABLE garwoode.orders(\n",
    "   order_id INT PRIMARY KEY,\n",
    "   user_id INT,\n",
    "   eval_set VARCHAR(5),\n",
    "   order_number INT,\n",
    "   order_dow INT,\n",
    "   order_hour_of_day INT,\n",
    "   days_since_prior_order INT\n",
    ");\n",
    "\n",
    "\n",
    "DROP TABLE IF EXISTS garwoode.departments cascade;\n",
    "CREATE TABLE garwoode.departments(\n",
    "   department_id INT PRIMARY KEY,\n",
    "   department VARCHAR(255)\n",
    ");\n",
    "\n",
    "DROP TABLE IF EXISTS garwoode.aisles cascade;\n",
    "CREATE TABLE garwoode.aisles(\n",
    "   aisle_id INT PRIMARY KEY,\n",
    "   aisle VARCHAR(255)\n",
    ");\n",
    "\n",
    "DROP TABLE IF EXISTS garwoode.products cascade;\n",
    "CREATE TABLE garwoode.products(\n",
    "   product_id INT PRIMARY KEY,\n",
    "   product_name VARCHAR(255),\n",
    "   aisle_id INT,\n",
    "   department_id INT,\n",
    "   FOREIGN KEY (aisle_id)\n",
    "        REFERENCES aisles(aisle_id),\n",
    "   FOREIGN KEY (department_id)\n",
    "       REFERENCES departments(department_id)\n",
    ");\n",
    "\n",
    "DROP TABLE IF EXISTS garwoode.order_products cascade;\n",
    "CREATE TABLE garwoode.order_products(\n",
    "   order_id INT, \n",
    "   product_id INT, \n",
    "   add_to_cart_order INT,\n",
    "   reordered INT,\n",
    "   PRIMARY KEY (order_id,product_id),\n",
    "   FOREIGN KEY (order_id) \n",
    "       REFERENCES orders(order_id),\n",
    "   FOREIGN KEY (product_id)\n",
    "       REFERENCES products(product_id)\n",
    ");\n",
    "\n",
    "\"\"\"\n",
    "with connection, connection.cursor() as cursor:\n",
    "    cursor.execute(CREATE_TABLES)"
   ]
  },
  {
   "cell_type": "markdown",
   "metadata": {},
   "source": [
    "### M3:E1:Q2 - Load data from the following files:\n",
    "\n",
    "## `/dsa/data/all_datasets/instacart/orders.csv`\n",
    " * 3421084 Rows\n",
    " * File Preview \n",
    "```\n",
    "order_id,user_id,eval_set,order_number,order_dow,order_hour_of_day,days_since_prior_order\n",
    "2539329,1,prior,1,2,08,\n",
    "2398795,1,prior,2,3,07,15.0\n",
    "473747,1,prior,3,3,12,21.0\n",
    "2254736,1,prior,4,4,07,29.0\n",
    "```\n",
    "\n",
    "## `/dsa/data/all_datasets/instacart/products.csv`\n",
    " * 49689 Rows\n",
    " * File Preview \n",
    "```\n",
    "product_id,product_name,aisle_id,department_id\n",
    "1,Chocolate Sandwich Cookies,61,19\n",
    "2,All-Seasons Salt,104,13\n",
    "3,Robust Golden Unsweetened Oolong Tea,94,7\n",
    "4,Smart Ones Classic Favorites Mini Rigatoni With Vodka Cream Sauce,38,1\n",
    "```\n",
    "\n",
    "## `/dsa/data/all_datasets/instacart/aisles.csv`\n",
    " * 135 Rows\n",
    " * File Preview \n",
    "```\n",
    "aisle_id,aisle\n",
    "1,prepared soups salads\n",
    "2,specialty cheeses\n",
    "3,energy granola bars\n",
    "4,instant foods\n",
    "```\n",
    "\n",
    "## `/dsa/data/all_datasets/instacart/departments.csv`\n",
    " * 22 Rows\n",
    " * File Preview \n",
    "```\n",
    "department_id,department\n",
    "1,frozen\n",
    "2,other\n",
    "3,bakery\n",
    "4,produce\n",
    "```\n",
    "\n",
    "## `/dsa/data/all_datasets/instacart/order_products.csv`\n",
    " * 1384618 Rows\n",
    " * File Preview \n",
    "```\n",
    "order_id,product_id,add_to_cart_order,reordered\n",
    "1,49302,1,1\n",
    "1,11109,2,1\n",
    "1,10246,3,0\n",
    "1,49683,4,0\n",
    "```\n",
    "     "
   ]
  },
  {
   "cell_type": "markdown",
   "metadata": {},
   "source": [
    "## In each designated cell, load the data using Python\n",
    "\n"
   ]
  },
  {
   "cell_type": "markdown",
   "metadata": {},
   "source": [
    "### M3:E1:Q2a - Orders "
   ]
  },
  {
   "cell_type": "code",
   "execution_count": null,
   "metadata": {},
   "outputs": [],
   "source": [
    "from psycopg2.extensions import adapt, register_adapter, AsIs\n",
    "\n",
    "\n",
    "import pandas as pd\n",
    "orders = '/dsa/data/all_datasets/instacart/orders.csv'\n",
    "\n",
    "orders = pd.read_csv(orders, nrows=10)\n",
    "orders.head()\n",
    "\n",
    "\n",
    "import numpy as np\n",
    "\n",
    "register_adapter(np.int64,AsIs)\n",
    "register_adapter(np.float64,AsIs)\n",
    "# Change NaN to None\n",
    "orders = orders.where(pd.notnull(orders), None)\n",
    "\n",
    "INSERT_SQL = 'INSERT INTO garwoode.orders '\n",
    "INSERT_SQL += ' (order_id,user_id,eval_set,order_number,order_dow,order_hour_of_day,days_since_prior_order ) VALUES '\n",
    "INSERT_SQL += '(%s,%s,%s,%s,%s,%s,%s)'\n",
    "\n",
    "\n",
    "with connection, connection.cursor() as cursor:\n",
    "    for row in orders.itertuples(index=False, name=None):  # pull each row as a tuple\n",
    "\n",
    "        # Insert the row\n",
    "        #cursor.execute(INSERT_SQL,row)\n",
    "        print(row)\n",
    "\n",
    "\n",
    "\n",
    "\n",
    "\n",
    "\n",
    "\n",
    "\n"
   ]
  },
  {
   "cell_type": "markdown",
   "metadata": {},
   "source": [
    "### M3:E1:Q2c - Aisles"
   ]
  },
  {
   "cell_type": "code",
   "execution_count": null,
   "metadata": {},
   "outputs": [],
   "source": [
    "import pandas as pd\n",
    "aisles_file = '/dsa/data/all_datasets/instacart/aisles.csv'\n",
    "aisles = pd.read_csv(aisles_file)\n",
    "aisles.head()\n",
    "\n",
    "import numpy as np\n",
    "# Magic adapters for the Numpy Fun of Pandas\n",
    "register_adapter(np.int64,AsIs)\n",
    "register_adapter(np.float64,AsIs)\n",
    "#aisles = aisles.where(pd.notnull(aisles), None)\n",
    "\n",
    "INSERT_SQL = 'INSERT INTO garwoode.aisles '\n",
    "INSERT_SQL += ' (aisle_id,aisle ) VALUES '\n",
    "# this is a parameterized string for SQL, the %s are placeholders\n",
    "# this prevents SQL-Injection attacks on the code\n",
    "# https://en.wikipedia.org/wiki/SQL_injection\n",
    "INSERT_SQL += '(%s,%s)'\n",
    "\n",
    "# Note: The Commit Will Be Automatic after this with clause\n",
    "with connection, connection.cursor() as cursor:\n",
    "    # https://pandas.pydata.org/pandas-docs/stable/generated/pandas.DataFrame.itertuples.html\n",
    "    for row in aisles.itertuples(index=False, name=None):  # pull each row as a tuple\n",
    "\n",
    "        # Insert the row\n",
    "        cursor.execute(INSERT_SQL,row)\n",
    "\n",
    "\n",
    "\n",
    "\n",
    "\n",
    "\n",
    "\n",
    "\n",
    "\n",
    "\n"
   ]
  },
  {
   "cell_type": "markdown",
   "metadata": {},
   "source": [
    "### M3:E1:Q2d - Departments"
   ]
  },
  {
   "cell_type": "code",
   "execution_count": null,
   "metadata": {},
   "outputs": [],
   "source": [
    "import pandas as pd\n",
    "departments_file = '/dsa/data/all_datasets/instacart/departments.csv'\n",
    "departments = pd.read_csv(departments_file)\n",
    "departments.head()\n",
    "\n",
    "print(list(departments))\n",
    "s = ''\n",
    "for i in list(departments):\n",
    "    s += '%s,'\n",
    "print(s)\n",
    "\n",
    "import numpy as np\n",
    "# Magic adapters for the Numpy Fun of Pandas\n",
    "register_adapter(np.int64,AsIs)\n",
    "register_adapter(np.float64,AsIs)\n",
    "departments = departments.where(pd.notnull(departments), None)\n",
    "\n",
    "INSERT_SQL = 'INSERT INTO garwoode.departments '\n",
    "INSERT_SQL += ' (department_id,department ) VALUES '\n",
    "# this is a parameterized string for SQL, the %s are placeholders\n",
    "# this prevents SQL-Injection attacks on the code\n",
    "# https://en.wikipedia.org/wiki/SQL_injection\n",
    "INSERT_SQL += '(%s,%s)'\n",
    "\n",
    "# Note: The Commit Will Be Automatic after this with clause\n",
    "with connection, connection.cursor() as cursor:\n",
    "    # https://pandas.pydata.org/pandas-docs/stable/generated/pandas.DataFrame.itertuples.html\n",
    "    for row in departments.itertuples(index=False, name=None):  # pull each row as a tuple\n",
    "\n",
    "        # Insert the row\n",
    "        cursor.execute(INSERT_SQL,row)\n",
    "\n",
    "\n",
    "\n",
    "\n",
    "\n",
    "\n",
    "\n",
    "\n",
    "\n",
    "\n"
   ]
  },
  {
   "cell_type": "markdown",
   "metadata": {},
   "source": [
    "### M3:E1:Q2b - Products\n",
    "\n",
    "\n",
    "\n",
    "\n",
    "\n"
   ]
  },
  {
   "cell_type": "code",
   "execution_count": null,
   "metadata": {},
   "outputs": [],
   "source": [
    "\n",
    "import pandas as pd\n",
    "products_file = '/dsa/data/all_datasets/instacart/products.csv'\n",
    "products = pd.read_csv(products_file)\n",
    "products.head()\n",
    "\n",
    "\n",
    "import numpy as np\n",
    "# Magic adapters for the Numpy Fun of Pandas\n",
    "#register_adapter(np.int64,AsIs)\n",
    "#register_adapter(np.float64,AsIs)\n",
    "products = products.where(pd.notnull(products), None)\n",
    "\n",
    "INSERT_SQL = 'INSERT INTO garwoode.products '\n",
    "INSERT_SQL += ' (product_id,product_name,aisle_id,department_id ) VALUES '\n",
    "# this is a parameterized string for SQL, the %s are placeholders\n",
    "# this prevents SQL-Injection attacks on the code\n",
    "# https://en.wikipedia.org/wiki/SQL_injection\n",
    "INSERT_SQL += '(%s,%s,%s,%s)'\n",
    "\n",
    "# Note: The Commit Will Be Automatic after this with clause\n",
    "with connection, connection.cursor() as cursor:\n",
    "    # https://pandas.pydata.org/pandas-docs/stable/generated/pandas.DataFrame.itertuples.html\n",
    "    for row in products.itertuples(index=False, name=None):  # pull each row as a tuple\n",
    "        print(row)\n",
    "        # Insert the row\n",
    "        #cursor.execute(INSERT_SQL,row)\n",
    "       \n",
    "\n",
    "\n",
    "\n",
    "\n",
    "\n",
    "\n",
    "\n"
   ]
  },
  {
   "cell_type": "code",
   "execution_count": null,
   "metadata": {},
   "outputs": [],
   "source": [
    "import sqlite3\n",
    "import numpy\n",
    "import pandas as pd\n",
    "df1 = pd.read_csv('/dsa/data/all_datasets/instacart/products.csv', sep=',', encoding='utf-8')\n",
    "\n",
    "cursor = connection.cursor()\n",
    "\n",
    "sqlite3.register_adapter(numpy.int64, int)\n",
    "sqlite3.register_adapter(numpy.float64, float)\n",
    "\n",
    "INSERT_SQL = 'INSERT INTO garwoode.products2 '\n",
    "INSERT_SQL += ' (product_id,product_name,aisle_id,department_id ) VALUES '\n",
    "# this is a parameterized string for SQL, the %s are placeholders\n",
    "# this prevents SQL-Injection attacks on the code\n",
    "# https://en.wikipedia.org/wiki/SQL_injection\n",
    "INSERT_SQL += '(%s,%s,%s,%s)'\n",
    "\n",
    "for row in df1.itertuples(index=False, name ='None'):\n",
    "    print(row)\n",
    "    cursor.execute(INSERT_SQL,row)\n",
    "# Save (commit) the changes\n",
    "connection.commit()"
   ]
  },
  {
   "cell_type": "markdown",
   "metadata": {},
   "source": [
    "### M3:E1:Q2e - Order Products"
   ]
  },
  {
   "cell_type": "code",
   "execution_count": null,
   "metadata": {},
   "outputs": [],
   "source": [
    "import pandas as pd\n",
    "order_products_file = '/dsa/data/all_datasets/instacart/order_products.csv'\n",
    "order_products = pd.read_csv(order_products_file)\n",
    "order_products.head()\n",
    "\n",
    "import numpy as np\n",
    "# Magic adapters for the Numpy Fun of Pandas\n",
    "register_adapter(np.int64,AsIs)\n",
    "register_adapter(np.float64,AsIs)\n",
    "order_products = order_products.where(pd.notnull(order_products), None)\n",
    "\n",
    "INSERT_SQL = 'INSERT INTO garwoode.order_products '\n",
    "INSERT_SQL += ' (order_id,product_id,add_to_cart_order,reordered ) VALUES '\n",
    "# this is a parameterized string for SQL, the %s are placeholders\n",
    "# this prevents SQL-Injection attacks on the code\n",
    "# https://en.wikipedia.org/wiki/SQL_injection\n",
    "INSERT_SQL += '(%s,%s, %s, %s)'\n",
    "\n",
    "# Note: The Commit Will Be Automatic after this with clause\n",
    "with connection, connection.cursor() as cursor:\n",
    "    # https://pandas.pydata.org/pandas-docs/stable/generated/pandas.DataFrame.itertuples.html\n",
    "    for row in order_products.itertuples(index=False, name=None):  # pull each row as a tuple\n",
    "\n",
    "        # Insert the row\n",
    "        cursor.execute(INSERT_SQL,row)\n",
    "\n",
    "\n",
    "\n",
    "\n",
    "\n",
    "\n",
    "\n",
    "\n",
    "\n"
   ]
  },
  {
   "cell_type": "markdown",
   "metadata": {},
   "source": [
    "--- \n",
    "\n",
    "### M3:E1:Q3\n",
    "\n",
    "In each of the cells below, use Python to pull the data out of the database. \n",
    "\n",
    "#### M3:E1:Q3a - Find the top 10 products, based on number of orders.\n",
    "Display in a table!"
   ]
  },
  {
   "cell_type": "code",
   "execution_count": 9,
   "metadata": {},
   "outputs": [
    {
     "name": "stdout",
     "output_type": "stream",
     "text": [
      "[(24852,), (13176,), (21137,), (21903,), (47626,), (47766,), (47209,), (16797,), (26209,), (27966,)]\n",
      "[(24852,), (13176,), (21137,), (21903,), (47626,), (47766,), (47209,), (16797,), (26209,), (27966,)]\n"
     ]
    }
   ],
   "source": [
    "\n",
    "\n",
    "\n",
    "SELECT = '(SELECT p.product_id '\n",
    "SELECT += 'FROM Products p '\n",
    "SELECT += 'JOIN Order_Products op USING(product_id) '\n",
    "SELECT += 'JOIN Orders o USING(order_id) '\n",
    "SELECT += 'GROUP BY p.product_id '\n",
    "SELECT += 'ORDER BY COUNT (*) DESC '\n",
    "SELECT += 'LIMIT 10)'\n",
    "\n",
    "\n",
    "with connection, connection.cursor() as cursor:\n",
    "    cursor.execute(SELECT)\n",
    "\n",
    "    print(cursor.fetchall())\n",
    "\n",
    "#for row in data:\n",
    "#    print(row)\n",
    "print(data)\n",
    "\n",
    "\n",
    "\n",
    "\n",
    "\n",
    "\n"
   ]
  },
  {
   "cell_type": "markdown",
   "metadata": {},
   "source": [
    "#### M3:E1:Q3a - Display how many products there are in each department"
   ]
  },
  {
   "cell_type": "code",
   "execution_count": null,
   "metadata": {
    "collapsed": true
   },
   "outputs": [],
   "source": [
    "\n",
    "\n",
    "\n",
    "\n",
    "\n",
    "\n",
    "\n",
    "\n",
    "\n"
   ]
  },
  {
   "cell_type": "markdown",
   "metadata": {},
   "source": [
    "# Save your notebook, then `File > Close and Halt`"
   ]
  },
  {
   "cell_type": "markdown",
   "metadata": {},
   "source": [
    "---"
   ]
  }
 ],
 "metadata": {
  "kernelspec": {
   "display_name": "Python 3",
   "language": "python",
   "name": "python3"
  },
  "language_info": {
   "codemirror_mode": {
    "name": "ipython",
    "version": 3
   },
   "file_extension": ".py",
   "mimetype": "text/x-python",
   "name": "python",
   "nbconvert_exporter": "python",
   "pygments_lexer": "ipython3",
   "version": "3.4.9"
  }
 },
 "nbformat": 4,
 "nbformat_minor": 2
}
