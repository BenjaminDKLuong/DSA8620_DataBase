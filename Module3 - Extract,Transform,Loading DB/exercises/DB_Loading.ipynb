{
 "cells": [
  {
   "cell_type": "markdown",
   "metadata": {},
   "source": [
    "# Database Design and Load Exercise\n",
    "\n",
    "### Steps\n",
    " 1. Analyze - Completed last module\n",
    " 2. Design - Completed last module. \n",
    " 3. Data Carpentry\n",
    " 4. Data Loading\n",
    " 5. Analytical Queries"
   ]
  },
  {
   "cell_type": "markdown",
   "metadata": {},
   "source": [
    "# Smart Stores ERD\n",
    "Last module everyone was to build an ERD diagram based on the entities and attributes below.\n",
    "\n"
   ]
  },
  {
   "cell_type": "markdown",
   "metadata": {},
   "source": [
    "### orders :\n",
    "* `order_id`: order identifier\n",
    "* `user_id`: customer identifier\n",
    "* `eval_set`: which evaluation set this order belongs in (see `SET` described below)\n",
    "* `order_number`: the order sequence number for this user (1 = first, n = nth)\n",
    "* `order_dow`: the day of the week the order was placed on\n",
    "* `order_hour_of_day`: the hour of the day the order was placed on\n",
    "* `days_since_prior`: days since the last order, capped at 30 (with NAs for `order_number` = 1)\n",
    "\n",
    "### products :\n",
    "* `product_id`: product identifier\n",
    "* `product_name`: name of the product\n",
    "* `aisle_id`: foreign key\n",
    "* `department_id`: foreign key\n",
    "\n",
    "### aisles :\n",
    "* `aisle_id`: aisle identifier\n",
    "* `aisle`: the name of the aisle\n",
    "\n",
    "### deptartments :\n",
    "* `department_id`: department identifier\n",
    "* `department`: the name of the department\n",
    "\n",
    "### order_products :\n",
    "* `order_id`: foreign key\n",
    "* `product_id`: foreign key\n",
    "* `add_to_cart_order`: order in which each product was added to cart\n",
    "* `reordered`: 1 if this product has been ordered by this user in the past, 0 otherwise\n",
    "\n",
    "#### where SET is one of the four following evaluation sets (eval_set in orders):\n",
    "\n",
    "* \"prior\": orders prior to that users most recent order (~3.2m orders)\n",
    "* \"train\": training data supplied to participants (~131k orders)\n",
    "* \"test\": test data reserved for machine learning competitions (~75k orders)"
   ]
  },
  {
   "cell_type": "markdown",
   "metadata": {
    "collapsed": true
   },
   "source": [
    "# ERD Diagram\n",
    "\n",
    "For this assignment this is the ERD diagram everyone should use based on the requirements above. It is ok if you had something a little bit different in last week's exercise as long as you captured all of the requirements and relationships."
   ]
  },
  {
   "cell_type": "markdown",
   "metadata": {
    "collapsed": true
   },
   "source": [
    "![erd](../images/db_design.png)"
   ]
  },
  {
   "cell_type": "markdown",
   "metadata": {},
   "source": [
    "### M3:E1:Q1 - Create the tables in the database\n",
    " 1. Convert the Entities and attributes into a Database schema for Postgres\n",
    " 1. Remember to prefix table names with your database id, e.g., _SSO_.\n",
    "    * Example: `CREATE TABLE SSO.Order ... `\n",
    "    \n",
    "**Remember to specify your Primary Keys and Foreign Keys for each table!** "
   ]
  },
  {
   "cell_type": "code",
   "execution_count": null,
   "metadata": {
    "collapsed": true
   },
   "outputs": [],
   "source": [
    "CREATE TABLE dlfy6.orders (\n",
    "    order_id INT PRIMARY KEY, \n",
    "    user_id INT, \n",
    "    eval_set VARCHAR(5), \n",
    "    order_number INT,\n",
    "    order_dow INT,\n",
    "    order_hour_of_day INT,\n",
    "    days_since_prior INT\n",
    ");\n",
    "\n",
    "\n",
    "CREATE TABLE dlfy6.aisles (\n",
    "    aisle_id INT PRIMARY KEY,\n",
    "    aisle VARCHAR(100)\n",
    ");\n",
    "\n",
    "\n",
    "CREATE TABLE dlfy6.departments (\n",
    "    department_id INT PRIMARY KEY,\n",
    "    department VARCHAR(50)\n",
    ");\n",
    "\n",
    "\n",
    "\n",
    "\n",
    "CREATE TABLE dlfy6.products (\n",
    "    product_id INT,\n",
    "    product_name VARCHAR(250),\n",
    "    aisle_id INT,\n",
    "    department_id INT, \n",
    "    PRIMARY KEY (product_id),\n",
    "    FOREIGN KEY (aisle_id)\n",
    "        REFERENCES aisles(aisle_id),\n",
    "    FOREIGN KEY (department_id)\n",
    "        REFERENCES departments(department_id)    \n",
    ");\n",
    "\n",
    "\n",
    "CREATE TABLE dlfy6.order_products (\n",
    "    order_id INT,\n",
    "    product_id INT,\n",
    "    add_to_cart_order INT,\n",
    "    reordered INT,    \n",
    "    PRIMARY KEY (order_id,product_id),\n",
    "    FOREIGN KEY (order_id)\n",
    "        REFERENCES orders(order_id),\n",
    "    FOREIGN KEY (product_id)\n",
    "        REFERENCES products(product_id)\n",
    ");\n",
    "\n",
    "\n",
    "\n"
   ]
  },
  {
   "cell_type": "code",
   "execution_count": 1,
   "metadata": {},
   "outputs": [
    {
     "name": "stdout",
     "output_type": "stream",
     "text": [
      "········\n"
     ]
    }
   ],
   "source": [
    "import getpass\n",
    "# This collects a masked password from the user\n",
    "mypasswd = getpass.getpass()"
   ]
  },
  {
   "cell_type": "code",
   "execution_count": 2,
   "metadata": {
    "collapsed": true
   },
   "outputs": [],
   "source": [
    "import psycopg2\n",
    "import numpy as np\n",
    "from psycopg2.extensions import adapt, register_adapter, AsIs\n",
    "\n",
    "# Then connects to the DB\n",
    "connection = psycopg2.connect(database = 'dsa_student', \n",
    "                              user = 'dlfy6', \n",
    "                              host = 'dbase.dsa.missouri.edu',\n",
    "                              password = mypasswd)"
   ]
  },
  {
   "cell_type": "code",
   "execution_count": 12,
   "metadata": {
    "collapsed": true
   },
   "outputs": [],
   "source": [
    "cursor = connection.cursor()"
   ]
  },
  {
   "cell_type": "code",
   "execution_count": 3,
   "metadata": {
    "collapsed": true
   },
   "outputs": [],
   "source": [
    "# Then remove the password from computer memory\n",
    "del mypasswd"
   ]
  },
  {
   "cell_type": "code",
   "execution_count": null,
   "metadata": {
    "collapsed": true
   },
   "outputs": [],
   "source": []
  },
  {
   "cell_type": "markdown",
   "metadata": {},
   "source": [
    "### M3:E1:Q2 - Load data from the following files:\n",
    "\n",
    "## `/dsa/data/all_datasets/instacart/orders.csv`\n",
    " * 3421084 Rows\n",
    " * File Preview \n",
    "```\n",
    "order_id,user_id,eval_set,order_number,order_dow,order_hour_of_day,days_since_prior_order\n",
    "2539329,1,prior,1,2,08,\n",
    "2398795,1,prior,2,3,07,15.0\n",
    "473747,1,prior,3,3,12,21.0\n",
    "2254736,1,prior,4,4,07,29.0\n",
    "```\n",
    "\n",
    "## `/dsa/data/all_datasets/instacart/products.csv`\n",
    " * 49689 Rows\n",
    " * File Preview \n",
    "```\n",
    "product_id,product_name,aisle_id,department_id\n",
    "1,Chocolate Sandwich Cookies,61,19\n",
    "2,All-Seasons Salt,104,13\n",
    "3,Robust Golden Unsweetened Oolong Tea,94,7\n",
    "4,Smart Ones Classic Favorites Mini Rigatoni With Vodka Cream Sauce,38,1\n",
    "```\n",
    "\n",
    "## `/dsa/data/all_datasets/instacart/aisles.csv`\n",
    " * 135 Rows\n",
    " * File Preview \n",
    "```\n",
    "aisle_id,aisle\n",
    "1,prepared soups salads\n",
    "2,specialty cheeses\n",
    "3,energy granola bars\n",
    "4,instant foods\n",
    "```\n",
    "\n",
    "## `/dsa/data/all_datasets/instacart/departments.csv`\n",
    " * 22 Rows\n",
    " * File Preview \n",
    "```\n",
    "department_id,department\n",
    "1,frozen\n",
    "2,other\n",
    "3,bakery\n",
    "4,produce\n",
    "```\n",
    "\n",
    "## `/dsa/data/all_datasets/instacart/order_products.csv`\n",
    " * 1384618 Rows\n",
    " * File Preview \n",
    "```\n",
    "order_id,product_id,add_to_cart_order,reordered\n",
    "1,49302,1,1\n",
    "1,11109,2,1\n",
    "1,10246,3,0\n",
    "1,49683,4,0\n",
    "```\n",
    "     "
   ]
  },
  {
   "cell_type": "markdown",
   "metadata": {},
   "source": [
    "## In each designated cell, load the data using Python\n",
    "\n"
   ]
  },
  {
   "cell_type": "markdown",
   "metadata": {},
   "source": [
    "### M3:E1:Q2a - Orders "
   ]
  },
  {
   "cell_type": "code",
   "execution_count": 6,
   "metadata": {
    "scrolled": true
   },
   "outputs": [
    {
     "data": {
      "text/html": [
       "<div>\n",
       "<style>\n",
       "    .dataframe thead tr:only-child th {\n",
       "        text-align: right;\n",
       "    }\n",
       "\n",
       "    .dataframe thead th {\n",
       "        text-align: left;\n",
       "    }\n",
       "\n",
       "    .dataframe tbody tr th {\n",
       "        vertical-align: top;\n",
       "    }\n",
       "</style>\n",
       "<table border=\"1\" class=\"dataframe\">\n",
       "  <thead>\n",
       "    <tr style=\"text-align: right;\">\n",
       "      <th></th>\n",
       "      <th>order_id</th>\n",
       "      <th>user_id</th>\n",
       "      <th>eval_set</th>\n",
       "      <th>order_number</th>\n",
       "      <th>order_dow</th>\n",
       "      <th>order_hour_of_day</th>\n",
       "      <th>days_since_prior_order</th>\n",
       "    </tr>\n",
       "  </thead>\n",
       "  <tbody>\n",
       "    <tr>\n",
       "      <th>0</th>\n",
       "      <td>2539329</td>\n",
       "      <td>1</td>\n",
       "      <td>prior</td>\n",
       "      <td>1</td>\n",
       "      <td>2</td>\n",
       "      <td>8</td>\n",
       "      <td>NaN</td>\n",
       "    </tr>\n",
       "    <tr>\n",
       "      <th>1</th>\n",
       "      <td>2398795</td>\n",
       "      <td>1</td>\n",
       "      <td>prior</td>\n",
       "      <td>2</td>\n",
       "      <td>3</td>\n",
       "      <td>7</td>\n",
       "      <td>15.0</td>\n",
       "    </tr>\n",
       "    <tr>\n",
       "      <th>2</th>\n",
       "      <td>473747</td>\n",
       "      <td>1</td>\n",
       "      <td>prior</td>\n",
       "      <td>3</td>\n",
       "      <td>3</td>\n",
       "      <td>12</td>\n",
       "      <td>21.0</td>\n",
       "    </tr>\n",
       "    <tr>\n",
       "      <th>3</th>\n",
       "      <td>2254736</td>\n",
       "      <td>1</td>\n",
       "      <td>prior</td>\n",
       "      <td>4</td>\n",
       "      <td>4</td>\n",
       "      <td>7</td>\n",
       "      <td>29.0</td>\n",
       "    </tr>\n",
       "    <tr>\n",
       "      <th>4</th>\n",
       "      <td>431534</td>\n",
       "      <td>1</td>\n",
       "      <td>prior</td>\n",
       "      <td>5</td>\n",
       "      <td>4</td>\n",
       "      <td>15</td>\n",
       "      <td>28.0</td>\n",
       "    </tr>\n",
       "  </tbody>\n",
       "</table>\n",
       "</div>"
      ],
      "text/plain": [
       "   order_id  user_id eval_set  order_number  order_dow  order_hour_of_day  \\\n",
       "0   2539329        1    prior             1          2                  8   \n",
       "1   2398795        1    prior             2          3                  7   \n",
       "2    473747        1    prior             3          3                 12   \n",
       "3   2254736        1    prior             4          4                  7   \n",
       "4    431534        1    prior             5          4                 15   \n",
       "\n",
       "   days_since_prior_order  \n",
       "0                     NaN  \n",
       "1                    15.0  \n",
       "2                    21.0  \n",
       "3                    29.0  \n",
       "4                    28.0  "
      ]
     },
     "execution_count": 6,
     "metadata": {},
     "output_type": "execute_result"
    }
   ],
   "source": [
    "import pandas as pd\n",
    "df_orders = pd.read_csv('/dsa/data/all_datasets/instacart/orders.csv')\n",
    "df_orders.head()\n",
    "\n"
   ]
  },
  {
   "cell_type": "code",
   "execution_count": null,
   "metadata": {
    "collapsed": true
   },
   "outputs": [],
   "source": [
    "import sqlite3\n",
    "import numpy\n",
    "\n",
    "df_orders = df_orders.where(pd.notnull(df_orders), None)\n",
    "\n",
    "register_adapter(np.int64,AsIs)\n",
    "register_adapter(np.float64,AsIs)\n",
    "\n",
    "for row in df_orders.itertuples(index=False, name ='None'):\n",
    "    #print(row)\n",
    "    cursor.execute('INSERT INTO dlfy6.orders VALUES(%s,%s,%s,%s,%s,%s,%s)',row)\n",
    "\n",
    "   \n",
    "# Save (commit) the changes\n",
    "connection.commit()\n"
   ]
  },
  {
   "cell_type": "markdown",
   "metadata": {},
   "source": [
    "### M3:E1:Q2b - Products\n",
    "\n",
    "\n",
    "\n",
    "\n",
    "\n"
   ]
  },
  {
   "cell_type": "code",
   "execution_count": 19,
   "metadata": {
    "scrolled": true
   },
   "outputs": [
    {
     "data": {
      "text/html": [
       "<div>\n",
       "<style>\n",
       "    .dataframe thead tr:only-child th {\n",
       "        text-align: right;\n",
       "    }\n",
       "\n",
       "    .dataframe thead th {\n",
       "        text-align: left;\n",
       "    }\n",
       "\n",
       "    .dataframe tbody tr th {\n",
       "        vertical-align: top;\n",
       "    }\n",
       "</style>\n",
       "<table border=\"1\" class=\"dataframe\">\n",
       "  <thead>\n",
       "    <tr style=\"text-align: right;\">\n",
       "      <th></th>\n",
       "      <th>product_id</th>\n",
       "      <th>product_name</th>\n",
       "      <th>aisle_id</th>\n",
       "      <th>department_id</th>\n",
       "    </tr>\n",
       "  </thead>\n",
       "  <tbody>\n",
       "    <tr>\n",
       "      <th>0</th>\n",
       "      <td>1</td>\n",
       "      <td>Chocolate Sandwich Cookies</td>\n",
       "      <td>61</td>\n",
       "      <td>19</td>\n",
       "    </tr>\n",
       "    <tr>\n",
       "      <th>1</th>\n",
       "      <td>2</td>\n",
       "      <td>All-Seasons Salt</td>\n",
       "      <td>104</td>\n",
       "      <td>13</td>\n",
       "    </tr>\n",
       "    <tr>\n",
       "      <th>2</th>\n",
       "      <td>3</td>\n",
       "      <td>Robust Golden Unsweetened Oolong Tea</td>\n",
       "      <td>94</td>\n",
       "      <td>7</td>\n",
       "    </tr>\n",
       "    <tr>\n",
       "      <th>3</th>\n",
       "      <td>4</td>\n",
       "      <td>Smart Ones Classic Favorites Mini Rigatoni Wit...</td>\n",
       "      <td>38</td>\n",
       "      <td>1</td>\n",
       "    </tr>\n",
       "    <tr>\n",
       "      <th>4</th>\n",
       "      <td>5</td>\n",
       "      <td>Green Chile Anytime Sauce</td>\n",
       "      <td>5</td>\n",
       "      <td>13</td>\n",
       "    </tr>\n",
       "  </tbody>\n",
       "</table>\n",
       "</div>"
      ],
      "text/plain": [
       "   product_id                                       product_name  aisle_id  \\\n",
       "0           1                         Chocolate Sandwich Cookies        61   \n",
       "1           2                                   All-Seasons Salt       104   \n",
       "2           3               Robust Golden Unsweetened Oolong Tea        94   \n",
       "3           4  Smart Ones Classic Favorites Mini Rigatoni Wit...        38   \n",
       "4           5                          Green Chile Anytime Sauce         5   \n",
       "\n",
       "   department_id  \n",
       "0             19  \n",
       "1             13  \n",
       "2              7  \n",
       "3              1  \n",
       "4             13  "
      ]
     },
     "execution_count": 19,
     "metadata": {},
     "output_type": "execute_result"
    }
   ],
   "source": [
    "df_products = pd.read_csv('/dsa/data/all_datasets/instacart/products.csv')\n",
    "df_products.head()\n"
   ]
  },
  {
   "cell_type": "code",
   "execution_count": 21,
   "metadata": {},
   "outputs": [
    {
     "name": "stdout",
     "output_type": "stream",
     "text": [
      "<class 'pandas.core.frame.DataFrame'>\n",
      "RangeIndex: 49688 entries, 0 to 49687\n",
      "Data columns (total 4 columns):\n",
      "product_id       49688 non-null int64\n",
      "product_name     49688 non-null object\n",
      "aisle_id         49688 non-null int64\n",
      "department_id    49688 non-null int64\n",
      "dtypes: int64(3), object(1)\n",
      "memory usage: 1.5+ MB\n"
     ]
    }
   ],
   "source": [
    "df_products.info()"
   ]
  },
  {
   "cell_type": "code",
   "execution_count": 23,
   "metadata": {},
   "outputs": [],
   "source": [
    "# run departments and aisles before run this\n",
    "df_products = df_products.where(pd.notnull(df_products), None)\n",
    "\n",
    "register_adapter(np.int64,AsIs)\n",
    "register_adapter(np.float64,AsIs)\n",
    "\n",
    "for row in df_products.itertuples(index=False, name ='None'):\n",
    "    #print(row)\n",
    "    cursor.execute('rollback;')\n",
    "    cursor.execute('INSERT INTO dlfy6.products VALUES(%s,%s,%s,%s)',row)\n",
    "\n",
    "# Save (commit) the changes\n",
    "connection.commit()\n"
   ]
  },
  {
   "cell_type": "markdown",
   "metadata": {},
   "source": [
    "### M3:E1:Q2c - Aisles"
   ]
  },
  {
   "cell_type": "code",
   "execution_count": 9,
   "metadata": {},
   "outputs": [
    {
     "data": {
      "text/html": [
       "<div>\n",
       "<style>\n",
       "    .dataframe thead tr:only-child th {\n",
       "        text-align: right;\n",
       "    }\n",
       "\n",
       "    .dataframe thead th {\n",
       "        text-align: left;\n",
       "    }\n",
       "\n",
       "    .dataframe tbody tr th {\n",
       "        vertical-align: top;\n",
       "    }\n",
       "</style>\n",
       "<table border=\"1\" class=\"dataframe\">\n",
       "  <thead>\n",
       "    <tr style=\"text-align: right;\">\n",
       "      <th></th>\n",
       "      <th>aisle_id</th>\n",
       "      <th>aisle</th>\n",
       "    </tr>\n",
       "  </thead>\n",
       "  <tbody>\n",
       "    <tr>\n",
       "      <th>0</th>\n",
       "      <td>1</td>\n",
       "      <td>prepared soups salads</td>\n",
       "    </tr>\n",
       "    <tr>\n",
       "      <th>1</th>\n",
       "      <td>2</td>\n",
       "      <td>specialty cheeses</td>\n",
       "    </tr>\n",
       "    <tr>\n",
       "      <th>2</th>\n",
       "      <td>3</td>\n",
       "      <td>energy granola bars</td>\n",
       "    </tr>\n",
       "    <tr>\n",
       "      <th>3</th>\n",
       "      <td>4</td>\n",
       "      <td>instant foods</td>\n",
       "    </tr>\n",
       "    <tr>\n",
       "      <th>4</th>\n",
       "      <td>5</td>\n",
       "      <td>marinades meat preparation</td>\n",
       "    </tr>\n",
       "  </tbody>\n",
       "</table>\n",
       "</div>"
      ],
      "text/plain": [
       "   aisle_id                       aisle\n",
       "0         1       prepared soups salads\n",
       "1         2           specialty cheeses\n",
       "2         3         energy granola bars\n",
       "3         4               instant foods\n",
       "4         5  marinades meat preparation"
      ]
     },
     "execution_count": 9,
     "metadata": {},
     "output_type": "execute_result"
    }
   ],
   "source": [
    "df_aisles = pd.read_csv('/dsa/data/all_datasets/instacart/aisles.csv')\n",
    "df_aisles.head()\n"
   ]
  },
  {
   "cell_type": "code",
   "execution_count": 13,
   "metadata": {},
   "outputs": [],
   "source": [
    "df_aisles = df_aisles.where(pd.notnull(df_aisles), None)\n",
    "\n",
    "register_adapter(np.int64,AsIs)\n",
    "register_adapter(np.float64,AsIs)\n",
    "\n",
    "for row in df_aisles.itertuples(index=False, name ='None'):\n",
    "    #print(row)\n",
    "    #cursor.execute('rollback;')\n",
    "    cursor.execute('INSERT INTO dlfy6.aisles VALUES (%s,%s);',row)\n",
    "\n",
    "# Save (commit) the changes\n",
    "connection.commit()\n"
   ]
  },
  {
   "cell_type": "markdown",
   "metadata": {},
   "source": [
    "### M3:E1:Q2d - Departments"
   ]
  },
  {
   "cell_type": "code",
   "execution_count": 18,
   "metadata": {},
   "outputs": [
    {
     "data": {
      "text/html": [
       "<div>\n",
       "<style>\n",
       "    .dataframe thead tr:only-child th {\n",
       "        text-align: right;\n",
       "    }\n",
       "\n",
       "    .dataframe thead th {\n",
       "        text-align: left;\n",
       "    }\n",
       "\n",
       "    .dataframe tbody tr th {\n",
       "        vertical-align: top;\n",
       "    }\n",
       "</style>\n",
       "<table border=\"1\" class=\"dataframe\">\n",
       "  <thead>\n",
       "    <tr style=\"text-align: right;\">\n",
       "      <th></th>\n",
       "      <th>department_id</th>\n",
       "      <th>department</th>\n",
       "    </tr>\n",
       "  </thead>\n",
       "  <tbody>\n",
       "    <tr>\n",
       "      <th>0</th>\n",
       "      <td>1</td>\n",
       "      <td>frozen</td>\n",
       "    </tr>\n",
       "    <tr>\n",
       "      <th>1</th>\n",
       "      <td>2</td>\n",
       "      <td>other</td>\n",
       "    </tr>\n",
       "    <tr>\n",
       "      <th>2</th>\n",
       "      <td>3</td>\n",
       "      <td>bakery</td>\n",
       "    </tr>\n",
       "    <tr>\n",
       "      <th>3</th>\n",
       "      <td>4</td>\n",
       "      <td>produce</td>\n",
       "    </tr>\n",
       "    <tr>\n",
       "      <th>4</th>\n",
       "      <td>5</td>\n",
       "      <td>alcohol</td>\n",
       "    </tr>\n",
       "  </tbody>\n",
       "</table>\n",
       "</div>"
      ],
      "text/plain": [
       "   department_id department\n",
       "0              1     frozen\n",
       "1              2      other\n",
       "2              3     bakery\n",
       "3              4    produce\n",
       "4              5    alcohol"
      ]
     },
     "execution_count": 18,
     "metadata": {},
     "output_type": "execute_result"
    }
   ],
   "source": [
    "df_departments = pd.read_csv('/dsa/data/all_datasets/instacart/departments.csv')\n",
    "df_departments.head()\n"
   ]
  },
  {
   "cell_type": "code",
   "execution_count": 16,
   "metadata": {
    "collapsed": true
   },
   "outputs": [],
   "source": [
    "df_departments = df_departments.where(pd.notnull(df_departments), None)\n",
    "\n",
    "register_adapter(np.int64,AsIs)\n",
    "register_adapter(np.float64,AsIs)\n",
    "\n",
    "for row in df_departments.itertuples(index=False, name ='None'):\n",
    "    #print(row)\n",
    "    cursor.execute('INSERT INTO dlfy6.departments VALUES(%s,%s);',row)\n",
    "\n",
    "# Save (commit) the changes\n",
    "connection.commit()\n"
   ]
  },
  {
   "cell_type": "markdown",
   "metadata": {},
   "source": [
    "### M3:E1:Q2e - Order Products"
   ]
  },
  {
   "cell_type": "code",
   "execution_count": 24,
   "metadata": {},
   "outputs": [
    {
     "data": {
      "text/html": [
       "<div>\n",
       "<style>\n",
       "    .dataframe thead tr:only-child th {\n",
       "        text-align: right;\n",
       "    }\n",
       "\n",
       "    .dataframe thead th {\n",
       "        text-align: left;\n",
       "    }\n",
       "\n",
       "    .dataframe tbody tr th {\n",
       "        vertical-align: top;\n",
       "    }\n",
       "</style>\n",
       "<table border=\"1\" class=\"dataframe\">\n",
       "  <thead>\n",
       "    <tr style=\"text-align: right;\">\n",
       "      <th></th>\n",
       "      <th>order_id</th>\n",
       "      <th>product_id</th>\n",
       "      <th>add_to_cart_order</th>\n",
       "      <th>reordered</th>\n",
       "    </tr>\n",
       "  </thead>\n",
       "  <tbody>\n",
       "    <tr>\n",
       "      <th>0</th>\n",
       "      <td>1</td>\n",
       "      <td>49302</td>\n",
       "      <td>1</td>\n",
       "      <td>1</td>\n",
       "    </tr>\n",
       "    <tr>\n",
       "      <th>1</th>\n",
       "      <td>1</td>\n",
       "      <td>11109</td>\n",
       "      <td>2</td>\n",
       "      <td>1</td>\n",
       "    </tr>\n",
       "    <tr>\n",
       "      <th>2</th>\n",
       "      <td>1</td>\n",
       "      <td>10246</td>\n",
       "      <td>3</td>\n",
       "      <td>0</td>\n",
       "    </tr>\n",
       "    <tr>\n",
       "      <th>3</th>\n",
       "      <td>1</td>\n",
       "      <td>49683</td>\n",
       "      <td>4</td>\n",
       "      <td>0</td>\n",
       "    </tr>\n",
       "    <tr>\n",
       "      <th>4</th>\n",
       "      <td>1</td>\n",
       "      <td>43633</td>\n",
       "      <td>5</td>\n",
       "      <td>1</td>\n",
       "    </tr>\n",
       "  </tbody>\n",
       "</table>\n",
       "</div>"
      ],
      "text/plain": [
       "   order_id  product_id  add_to_cart_order  reordered\n",
       "0         1       49302                  1          1\n",
       "1         1       11109                  2          1\n",
       "2         1       10246                  3          0\n",
       "3         1       49683                  4          0\n",
       "4         1       43633                  5          1"
      ]
     },
     "execution_count": 24,
     "metadata": {},
     "output_type": "execute_result"
    }
   ],
   "source": [
    "df_order_products = pd.read_csv('/dsa/data/all_datasets/instacart/order_products.csv')\n",
    "df_order_products.head()\n"
   ]
  },
  {
   "cell_type": "code",
   "execution_count": 26,
   "metadata": {},
   "outputs": [
    {
     "name": "stdout",
     "output_type": "stream",
     "text": [
      "<class 'pandas.core.frame.DataFrame'>\n",
      "RangeIndex: 1384617 entries, 0 to 1384616\n",
      "Data columns (total 4 columns):\n",
      "order_id             1384617 non-null int64\n",
      "product_id           1384617 non-null int64\n",
      "add_to_cart_order    1384617 non-null int64\n",
      "reordered            1384617 non-null int64\n",
      "dtypes: int64(4)\n",
      "memory usage: 42.3 MB\n"
     ]
    }
   ],
   "source": [
    "df_order_products.info()"
   ]
  },
  {
   "cell_type": "code",
   "execution_count": 27,
   "metadata": {
    "collapsed": true
   },
   "outputs": [],
   "source": [
    "df_order_products = df_order_products.where(pd.notnull(df_order_products), None)\n",
    "\n",
    "register_adapter(np.int64,AsIs)\n",
    "register_adapter(np.float64,AsIs)\n",
    "\n",
    "for row in df_order_products.itertuples(index=False, name ='None'):\n",
    "    #print(row)\n",
    "    cursor.execute('rollback;')\n",
    "    cursor.execute('INSERT INTO dlfy6.order_products VALUES(%s,%s,%s,%s);',row)\n",
    "\n",
    "# Save (commit) the changes\n",
    "connection.commit()\n"
   ]
  },
  {
   "cell_type": "markdown",
   "metadata": {},
   "source": [
    "--- \n",
    "\n",
    "### M3:E1:Q3\n",
    "\n",
    "In each of the cells below, use Python to pull the data out of the database. \n",
    "\n",
    "#### M3:E1:Q3a - Find the top 10 products, based on number of orders.\n",
    "Display in a table!"
   ]
  },
  {
   "cell_type": "code",
   "execution_count": 41,
   "metadata": {},
   "outputs": [],
   "source": [
    "SQL =\"\"\"\n",
    "\n",
    "SELECT p.product_name, count(order_id) \n",
    "FROM dlfy6.products p \n",
    "JOIN dlfy6.order_products op \n",
    "USING (product_id) \n",
    "\n",
    "GROUP BY op.product_id,p.product_name \n",
    "ORDER BY count DESC \n",
    "LIMIT 10 ;\n",
    "\n",
    "\"\"\"\n",
    "\n",
    "with connection, connection.cursor() as cursor:\n",
    "    cursor.execute(SQL)\n",
    "    data = cursor.fetchall()\n",
    "    \n"
   ]
  },
  {
   "cell_type": "code",
   "execution_count": 42,
   "metadata": {},
   "outputs": [
    {
     "data": {
      "text/html": [
       "<div>\n",
       "<style>\n",
       "    .dataframe thead tr:only-child th {\n",
       "        text-align: right;\n",
       "    }\n",
       "\n",
       "    .dataframe thead th {\n",
       "        text-align: left;\n",
       "    }\n",
       "\n",
       "    .dataframe tbody tr th {\n",
       "        vertical-align: top;\n",
       "    }\n",
       "</style>\n",
       "<table border=\"1\" class=\"dataframe\">\n",
       "  <thead>\n",
       "    <tr style=\"text-align: right;\">\n",
       "      <th></th>\n",
       "      <th>Top10products</th>\n",
       "      <th>number_orders</th>\n",
       "    </tr>\n",
       "  </thead>\n",
       "  <tbody>\n",
       "    <tr>\n",
       "      <th>0</th>\n",
       "      <td>Banana</td>\n",
       "      <td>18726</td>\n",
       "    </tr>\n",
       "    <tr>\n",
       "      <th>1</th>\n",
       "      <td>Bag of Organic Bananas</td>\n",
       "      <td>15480</td>\n",
       "    </tr>\n",
       "    <tr>\n",
       "      <th>2</th>\n",
       "      <td>Organic Strawberries</td>\n",
       "      <td>10894</td>\n",
       "    </tr>\n",
       "    <tr>\n",
       "      <th>3</th>\n",
       "      <td>Organic Baby Spinach</td>\n",
       "      <td>9784</td>\n",
       "    </tr>\n",
       "    <tr>\n",
       "      <th>4</th>\n",
       "      <td>Large Lemon</td>\n",
       "      <td>8135</td>\n",
       "    </tr>\n",
       "    <tr>\n",
       "      <th>5</th>\n",
       "      <td>Organic Avocado</td>\n",
       "      <td>7409</td>\n",
       "    </tr>\n",
       "    <tr>\n",
       "      <th>6</th>\n",
       "      <td>Organic Hass Avocado</td>\n",
       "      <td>7293</td>\n",
       "    </tr>\n",
       "    <tr>\n",
       "      <th>7</th>\n",
       "      <td>Strawberries</td>\n",
       "      <td>6494</td>\n",
       "    </tr>\n",
       "    <tr>\n",
       "      <th>8</th>\n",
       "      <td>Limes</td>\n",
       "      <td>6033</td>\n",
       "    </tr>\n",
       "    <tr>\n",
       "      <th>9</th>\n",
       "      <td>Organic Raspberries</td>\n",
       "      <td>5546</td>\n",
       "    </tr>\n",
       "  </tbody>\n",
       "</table>\n",
       "</div>"
      ],
      "text/plain": [
       "            Top10products  number_orders\n",
       "0                  Banana          18726\n",
       "1  Bag of Organic Bananas          15480\n",
       "2    Organic Strawberries          10894\n",
       "3    Organic Baby Spinach           9784\n",
       "4             Large Lemon           8135\n",
       "5         Organic Avocado           7409\n",
       "6    Organic Hass Avocado           7293\n",
       "7            Strawberries           6494\n",
       "8                   Limes           6033\n",
       "9     Organic Raspberries           5546"
      ]
     },
     "execution_count": 42,
     "metadata": {},
     "output_type": "execute_result"
    }
   ],
   "source": [
    "data =pd.DataFrame(data,columns=['Top10products','number_orders'])\n",
    "data"
   ]
  },
  {
   "cell_type": "markdown",
   "metadata": {},
   "source": [
    "#### M3:E1:Q3a - Display how many products there are in each department"
   ]
  },
  {
   "cell_type": "code",
   "execution_count": 39,
   "metadata": {},
   "outputs": [],
   "source": [
    "SQL =\"\"\"\n",
    "SELECT d.department, count(*) \n",
    "FROM dlfy6.products p \n",
    "JOIN dlfy6.departments d\n",
    "USING (department_id)\n",
    "GROUP BY d.department_id;\n",
    "\n",
    "\"\"\"\n",
    "\n",
    "with connection, connection.cursor() as cursor:\n",
    "    cursor.execute(SQL)\n",
    "    data1 = cursor.fetchall()\n",
    "    "
   ]
  },
  {
   "cell_type": "code",
   "execution_count": 40,
   "metadata": {},
   "outputs": [
    {
     "data": {
      "text/html": [
       "<div>\n",
       "<style>\n",
       "    .dataframe thead tr:only-child th {\n",
       "        text-align: right;\n",
       "    }\n",
       "\n",
       "    .dataframe thead th {\n",
       "        text-align: left;\n",
       "    }\n",
       "\n",
       "    .dataframe tbody tr th {\n",
       "        vertical-align: top;\n",
       "    }\n",
       "</style>\n",
       "<table border=\"1\" class=\"dataframe\">\n",
       "  <thead>\n",
       "    <tr style=\"text-align: right;\">\n",
       "      <th></th>\n",
       "      <th>Departments</th>\n",
       "      <th>number_products</th>\n",
       "    </tr>\n",
       "  </thead>\n",
       "  <tbody>\n",
       "    <tr>\n",
       "      <th>0</th>\n",
       "      <td>deli</td>\n",
       "      <td>1322</td>\n",
       "    </tr>\n",
       "    <tr>\n",
       "      <th>1</th>\n",
       "      <td>personal care</td>\n",
       "      <td>6563</td>\n",
       "    </tr>\n",
       "    <tr>\n",
       "      <th>2</th>\n",
       "      <td>household</td>\n",
       "      <td>3085</td>\n",
       "    </tr>\n",
       "    <tr>\n",
       "      <th>3</th>\n",
       "      <td>meat seafood</td>\n",
       "      <td>907</td>\n",
       "    </tr>\n",
       "    <tr>\n",
       "      <th>4</th>\n",
       "      <td>bulk</td>\n",
       "      <td>38</td>\n",
       "    </tr>\n",
       "    <tr>\n",
       "      <th>5</th>\n",
       "      <td>babies</td>\n",
       "      <td>1081</td>\n",
       "    </tr>\n",
       "    <tr>\n",
       "      <th>6</th>\n",
       "      <td>other</td>\n",
       "      <td>548</td>\n",
       "    </tr>\n",
       "    <tr>\n",
       "      <th>7</th>\n",
       "      <td>canned goods</td>\n",
       "      <td>2092</td>\n",
       "    </tr>\n",
       "    <tr>\n",
       "      <th>8</th>\n",
       "      <td>pantry</td>\n",
       "      <td>5371</td>\n",
       "    </tr>\n",
       "    <tr>\n",
       "      <th>9</th>\n",
       "      <td>missing</td>\n",
       "      <td>1258</td>\n",
       "    </tr>\n",
       "    <tr>\n",
       "      <th>10</th>\n",
       "      <td>alcohol</td>\n",
       "      <td>1054</td>\n",
       "    </tr>\n",
       "    <tr>\n",
       "      <th>11</th>\n",
       "      <td>snacks</td>\n",
       "      <td>6264</td>\n",
       "    </tr>\n",
       "    <tr>\n",
       "      <th>12</th>\n",
       "      <td>pets</td>\n",
       "      <td>972</td>\n",
       "    </tr>\n",
       "    <tr>\n",
       "      <th>13</th>\n",
       "      <td>international</td>\n",
       "      <td>1139</td>\n",
       "    </tr>\n",
       "    <tr>\n",
       "      <th>14</th>\n",
       "      <td>dairy eggs</td>\n",
       "      <td>3449</td>\n",
       "    </tr>\n",
       "    <tr>\n",
       "      <th>15</th>\n",
       "      <td>produce</td>\n",
       "      <td>1684</td>\n",
       "    </tr>\n",
       "    <tr>\n",
       "      <th>16</th>\n",
       "      <td>frozen</td>\n",
       "      <td>4007</td>\n",
       "    </tr>\n",
       "    <tr>\n",
       "      <th>17</th>\n",
       "      <td>bakery</td>\n",
       "      <td>1516</td>\n",
       "    </tr>\n",
       "    <tr>\n",
       "      <th>18</th>\n",
       "      <td>breakfast</td>\n",
       "      <td>1115</td>\n",
       "    </tr>\n",
       "    <tr>\n",
       "      <th>19</th>\n",
       "      <td>dry goods pasta</td>\n",
       "      <td>1858</td>\n",
       "    </tr>\n",
       "    <tr>\n",
       "      <th>20</th>\n",
       "      <td>beverages</td>\n",
       "      <td>4365</td>\n",
       "    </tr>\n",
       "  </tbody>\n",
       "</table>\n",
       "</div>"
      ],
      "text/plain": [
       "        Departments  number_products\n",
       "0              deli             1322\n",
       "1     personal care             6563\n",
       "2         household             3085\n",
       "3      meat seafood              907\n",
       "4              bulk               38\n",
       "5            babies             1081\n",
       "6             other              548\n",
       "7      canned goods             2092\n",
       "8            pantry             5371\n",
       "9           missing             1258\n",
       "10          alcohol             1054\n",
       "11           snacks             6264\n",
       "12             pets              972\n",
       "13    international             1139\n",
       "14       dairy eggs             3449\n",
       "15          produce             1684\n",
       "16           frozen             4007\n",
       "17           bakery             1516\n",
       "18        breakfast             1115\n",
       "19  dry goods pasta             1858\n",
       "20        beverages             4365"
      ]
     },
     "execution_count": 40,
     "metadata": {},
     "output_type": "execute_result"
    }
   ],
   "source": [
    "data1 =pd.DataFrame(data1,columns=['Departments','number_products'])\n",
    "data1"
   ]
  },
  {
   "cell_type": "markdown",
   "metadata": {},
   "source": [
    "# Save your notebook, then `File > Close and Halt`"
   ]
  },
  {
   "cell_type": "markdown",
   "metadata": {},
   "source": [
    "---"
   ]
  }
 ],
 "metadata": {
  "kernelspec": {
   "display_name": "Python 3",
   "language": "python",
   "name": "python3"
  },
  "language_info": {
   "codemirror_mode": {
    "name": "ipython",
    "version": 3
   },
   "file_extension": ".py",
   "mimetype": "text/x-python",
   "name": "python",
   "nbconvert_exporter": "python",
   "pygments_lexer": "ipython3",
   "version": "3.4.9"
  }
 },
 "nbformat": 4,
 "nbformat_minor": 2
}
