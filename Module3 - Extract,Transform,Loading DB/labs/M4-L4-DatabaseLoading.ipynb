{
 "cells": [
  {
   "cell_type": "markdown",
   "metadata": {},
   "source": [
    "# Database Loading\n",
    "\n",
    "To load the data into your system you can use multiple methods.\n",
    "\n",
    "You could manually convert the data to CSV files and load data from CSV, or you could use a programmatic approach with Python.\n",
    "\n",
    "\n",
    "## Python + Excel + SQLite\n",
    "\n",
    "Another idea is to use python to load the data in for you.\n",
    "\n",
    "First step is to pull data from Excel into Python.  For this, we will used the [PpenPyXL](https://openpyxl.readthedocs.io/en/stable/) library.\n",
    "\n",
    "[This link](https://automatetheboringstuff.com/chapter12/) is a good read, as your time permits!\n",
    "\n"
   ]
  },
  {
   "cell_type": "code",
   "execution_count": 1,
   "metadata": {},
   "outputs": [
    {
     "name": "stdout",
     "output_type": "stream",
     "text": [
      "2.4.8\n",
      "['Artist', 'Albums', 'Songs']\n"
     ]
    }
   ],
   "source": [
    "import openpyxl as xl\n",
    "import pandas as pd\n",
    "wb = xl.load_workbook(filename='../../../datasets/Module4Data.xlsx')\n",
    "\n",
    "print (xl.__version__)  # This needs to be openPyXL 2.4.0 or later\n",
    "# Show the Tabs\n",
    "print (wb.get_sheet_names())\n"
   ]
  },
  {
   "cell_type": "markdown",
   "metadata": {},
   "source": [
    "Now that you have the data from tabs (worksheets) in data structures, you can manipulate the data and then put it into the database. \n",
    "Note: This can take a couple tries to get right.  Don't be afraid to remove all your data or your entire database and start over.\n",
    "\n",
    "To make things a little easier we are going to move over to a panda dataframe - http://openpyxl.readthedocs.io/en/2.4/pandas.html"
   ]
  },
  {
   "cell_type": "code",
   "execution_count": 2,
   "metadata": {
    "scrolled": true
   },
   "outputs": [
    {
     "name": "stdout",
     "output_type": "stream",
     "text": [
      "                        0                  1     2\n",
      "0                   Queen               Rock  1970\n",
      "1      The Rolling Stones               Rock  1962\n",
      "2                  Prince               Rock  1958\n",
      "3             The Beatles               Rock  1960\n",
      "4                 Nirvana             Grunge  1987\n",
      "5               Pearl Jam             Grunge  1990\n",
      "6             Soundgarden             Grunge  1984\n",
      "7   Red Hot Chili Peppers          Funk Rock  1983\n",
      "8        Jane’s Addiction   Alternative Rock  1985\n",
      "9                No Doubt           Ska Punk  1986\n",
      "10                   Bush   Alternative Rock  1992\n",
      "11    Stone Temple Pilots   Alternative Rock  1989\n",
      "12       System of a Down  Alternative Metal  1994\n",
      "13                Dr. Dre            Hip Hop  1984\n",
      "14              Radiohead   Alternative Rock  1985\n",
      "15              Green Day          Punk Rock  1986\n",
      "16           Foo Fighters   Alternative Rock  1994\n"
     ]
    }
   ],
   "source": [
    "import openpyxl as xl\n",
    "import pandas as pd\n",
    "wb = xl.load_workbook(filename='../../../datasets/Module4Data.xlsx')\n",
    "# If you try to load the workbook readonly, you will get an error.  If you find this curious,\n",
    "# I suggest you print (type(ws)) below... with readonly and not readonly\n",
    "# wb = xl.load_workbook(filename='../datasets/Module4Data.xlsx', read_only=True)\n",
    "\n",
    "ws = wb['Artist'] # ws is now an IterableWorksheet\n",
    "\n",
    "# http://openpyxl.readthedocs.io/en/2.4/pandas.html\n",
    "df = pd.DataFrame(ws.values)\n",
    "print(df)\n"
   ]
  },
  {
   "cell_type": "code",
   "execution_count": 4,
   "metadata": {},
   "outputs": [
    {
     "name": "stdout",
     "output_type": "stream",
     "text": [
      "                    Queen               Rock  1970\n",
      "0      The Rolling Stones               Rock  1962\n",
      "1                  Prince               Rock  1958\n",
      "2             The Beatles               Rock  1960\n",
      "3                 Nirvana             Grunge  1987\n",
      "4               Pearl Jam             Grunge  1990\n",
      "5             Soundgarden             Grunge  1984\n",
      "6   Red Hot Chili Peppers          Funk Rock  1983\n",
      "7        Jane’s Addiction   Alternative Rock  1985\n",
      "8                No Doubt           Ska Punk  1986\n",
      "9                    Bush   Alternative Rock  1992\n",
      "10    Stone Temple Pilots   Alternative Rock  1989\n",
      "11       System of a Down  Alternative Metal  1994\n",
      "12                Dr. Dre            Hip Hop  1984\n",
      "13              Radiohead   Alternative Rock  1985\n",
      "14              Green Day          Punk Rock  1986\n",
      "15           Foo Fighters   Alternative Rock  1994\n"
     ]
    }
   ],
   "source": [
    "# Alternative, use Pandas directly\n",
    "import pandas  # requires the xlrd optional library for Pandas\n",
    "df = pandas.read_excel(open('../../../datasets/Module4Data.xlsx','rb'), sheetname='Artist')\n",
    "print(df)"
   ]
  },
  {
   "cell_type": "markdown",
   "metadata": {},
   "source": [
    "#### Consider the task of loading the entire Excel file into the DB.  \n",
    "\n",
    "  1. Should you have a dataframe for each tab?\n",
    "  1. Load all at once ?\n",
    "  1. If the file is massive, you will need to use the memory efficient readonly mode.  This increases the complexity of the code, however also increases the scalability. Please consider this an advanced exercise for later.\n"
   ]
  },
  {
   "cell_type": "markdown",
   "metadata": {
    "collapsed": true
   },
   "source": [
    "## Data Loading Considerations \n",
    "\n",
    "It important to review your database design.  One of the things you have to ensure does not exist are cyclic foreign key relationships. \n",
    "\n",
    "Basically, you cannot load a table that has a foreign key reference for data that has not been first loaded. In the case of this lab, you cannot load __Songs__ that are properly associated to an __Album__ without first loading the album data.\n"
   ]
  },
  {
   "cell_type": "markdown",
   "metadata": {},
   "source": [
    "### The cell below loads the Artist table.  More work would have to be done to keep the linkages for Artist ID and songs, using additional Python Data Structures. \n",
    "\n"
   ]
  },
  {
   "cell_type": "code",
   "execution_count": 5,
   "metadata": {},
   "outputs": [
    {
     "name": "stdout",
     "output_type": "stream",
     "text": [
      "(0, 'The Rolling Stones', 'Rock', 1962)\n",
      "(1, 'Prince', 'Rock', 1958)\n",
      "(2, 'The Beatles', 'Rock', 1960)\n",
      "(3, 'Nirvana', 'Grunge', 1987)\n",
      "(4, 'Pearl Jam', 'Grunge', 1990)\n",
      "(5, 'Soundgarden', 'Grunge', 1984)\n",
      "(6, 'Red Hot Chili Peppers', 'Funk Rock', 1983)\n",
      "(7, 'Jane’s Addiction', 'Alternative Rock', 1985)\n",
      "(8, 'No Doubt', 'Ska Punk', 1986)\n",
      "(9, 'Bush', 'Alternative Rock', 1992)\n",
      "(10, 'Stone Temple Pilots', 'Alternative Rock', 1989)\n",
      "(11, 'System of a Down', 'Alternative Metal', 1994)\n",
      "(12, 'Dr. Dre', 'Hip Hop', 1984)\n",
      "(13, 'Radiohead', 'Alternative Rock', 1985)\n",
      "(14, 'Green Day', 'Punk Rock', 1986)\n",
      "(15, 'Foo Fighters', 'Alternative Rock', 1994)\n"
     ]
    }
   ],
   "source": [
    "import sqlite3\n",
    "import numpy\n",
    "\n",
    "databaseFilename = '../databases/songs.db'\n",
    "connection = sqlite3.connect(databaseFilename)\n",
    "cursor = connection.cursor()\n",
    "\n",
    "sqlite3.register_adapter(numpy.int64, int)\n",
    "sqlite3.register_adapter(numpy.float64, float)\n",
    "\n",
    "for row in df.itertuples(index=True, name ='None'):\n",
    "    print(row)\n",
    "    cursor.execute('INSERT INTO Artist VALUES(?,?,?,?)',row)\n",
    "\n",
    "# Save (commit) the changes\n",
    "connection.commit()\n"
   ]
  },
  {
   "cell_type": "markdown",
   "metadata": {},
   "source": [
    "# PLEASE SAVE YOUR NOTEBOOK"
   ]
  }
 ],
 "metadata": {
  "kernelspec": {
   "display_name": "Python 3",
   "language": "python",
   "name": "python3"
  },
  "language_info": {
   "codemirror_mode": {
    "name": "ipython",
    "version": 3
   },
   "file_extension": ".py",
   "mimetype": "text/x-python",
   "name": "python",
   "nbconvert_exporter": "python",
   "pygments_lexer": "ipython3",
   "version": "3.4.9"
  }
 },
 "nbformat": 4,
 "nbformat_minor": 1
}
