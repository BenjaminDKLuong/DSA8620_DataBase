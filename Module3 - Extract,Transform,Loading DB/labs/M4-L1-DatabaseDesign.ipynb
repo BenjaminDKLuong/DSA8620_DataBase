{
 "cells": [
  {
   "cell_type": "markdown",
   "metadata": {
    "collapsed": true
   },
   "source": [
    "# Database Design\n",
    "\n",
    "\n",
    "\n",
    "\n",
    "## From Excel to DB to Answers\n",
    "\n",
    "For this lab you will be taking a MS Excel file __with three tabs__ of data and using that to create a database in SQLite and run queries on that.\n",
    "\n",
    "The file is located under datasets as [Module4Data.xlsx](../../../datasets/Module4Data.xlsx).\n",
    "\n",
    "### Data \n",
    "The three pages of data are: \n",
    "  1. Artist - contains artist name, genre, and year formed;\n",
    "  1. Albums - contains artist name, album title, year produced\n",
    "  1. Songs - contains album title, song name, song length.\n",
    "\n",
    "You will notice that the last tab, Songs is  unnormalized data discussed previously.\n"
   ]
  },
  {
   "cell_type": "markdown",
   "metadata": {},
   "source": [
    "### Methodology\n",
    "\n",
    "Please recall the steps of the database design process!\n",
    "\n",
    "  1. Discovery\n",
    "  1. Modelling\n",
    "  1. Defining\n",
    "\n",
    "### Discovery \n",
    "\n",
    "You should now take a moment to go and look at the data.  Identify the entities that are relevant for your database, and what their respective attributes will be.  Then, contemplate the identifiers for those entities."
   ]
  },
  {
   "cell_type": "markdown",
   "metadata": {},
   "source": [
    "### Modelling\n",
    "Once you have identified all the aspects of the database, try to sketch out a model.  \n",
    "  1. How are the entities connected through relationships?\n",
    "  1. Is there one table per file tab? \n",
    "  1. Are you going to use __id__ columns as done in the previous examples?\n",
    "  1. Which columns of data create overlaps that we can use as foriegn keys to reference other tables?\n",
    "  1. Is your model normalized to remove redundancy?\n",
    "  \n",
    "Your resulting model should be able to hold all the data that you have been given. \n",
    "\n",
    "This portion of the activity is one of the most important so don't be afraid to take a while to design the system.\n",
    "\n"
   ]
  },
  {
   "cell_type": "markdown",
   "metadata": {},
   "source": [
    "Once you have thought thru your own module. Take a look here [Music](../resources/music.jpg). There were some assumptions made based on the data give. There are no collaborative albums, and songs must be associated with an album. We will use this diagram as a basis for the rest of the lab."
   ]
  },
  {
   "cell_type": "markdown",
   "metadata": {},
   "source": [
    "### Defining\n",
    "\n",
    "Now that you have finalized your DDL, you need to create a SQLite database, named \"../__songs.db__\" and write the CREATE TABLE statements.\n",
    "\n",
    "\n",
    "\n"
   ]
  },
  {
   "cell_type": "code",
   "execution_count": 1,
   "metadata": {
    "scrolled": true
   },
   "outputs": [
    {
     "data": {
      "text/plain": [
       "'Connected: None@../databases/songs.db'"
      ]
     },
     "execution_count": 1,
     "metadata": {},
     "output_type": "execute_result"
    }
   ],
   "source": [
    "## Load SQL Extension and open the database file\n",
    "%load_ext sql\n",
    "%sql sqlite:///../databases/songs.db"
   ]
  },
  {
   "cell_type": "markdown",
   "metadata": {},
   "source": [
    "This is here so that you can go thru the lab more than once. These commands delete the table and the all of the data associated with the table. "
   ]
  },
  {
   "cell_type": "code",
   "execution_count": 2,
   "metadata": {},
   "outputs": [
    {
     "name": "stdout",
     "output_type": "stream",
     "text": [
      "Done.\n"
     ]
    },
    {
     "data": {
      "text/plain": [
       "[]"
      ]
     },
     "execution_count": 2,
     "metadata": {},
     "output_type": "execute_result"
    }
   ],
   "source": [
    "%sql DROP TABLE IF EXISTS Artist;"
   ]
  },
  {
   "cell_type": "code",
   "execution_count": 3,
   "metadata": {},
   "outputs": [
    {
     "name": "stdout",
     "output_type": "stream",
     "text": [
      "Done.\n"
     ]
    },
    {
     "data": {
      "text/plain": [
       "[]"
      ]
     },
     "execution_count": 3,
     "metadata": {},
     "output_type": "execute_result"
    }
   ],
   "source": [
    "%sql DROP TABLE IF EXISTS Album;"
   ]
  },
  {
   "cell_type": "code",
   "execution_count": 4,
   "metadata": {},
   "outputs": [
    {
     "name": "stdout",
     "output_type": "stream",
     "text": [
      "Done.\n"
     ]
    },
    {
     "data": {
      "text/plain": [
       "[]"
      ]
     },
     "execution_count": 4,
     "metadata": {},
     "output_type": "execute_result"
    }
   ],
   "source": [
    "%sql DROP TABLE IF EXISTS Song;"
   ]
  },
  {
   "cell_type": "markdown",
   "metadata": {},
   "source": [
    "### Create Table for Artists\n",
    "\n",
    "Write the Create Table statement for the artist table.\n",
    "Ensure you use appropriate data types and column/table constraints as necessary.  \n",
    "\n",
    "**Remember** to define a primary key for the table."
   ]
  },
  {
   "cell_type": "markdown",
   "metadata": {},
   "source": [
    "##  Artist SQL\n",
    "\n",
    "```SQL\n",
    "CREATE TABLE Artist (\n",
    "    artist_id INT, \n",
    "    name varchar(100), \n",
    "    genre varchar(100), \n",
    "    year_formed INT,\n",
    "    PRIMARY KEY (artist_id)\n",
    ");\n",
    "```\n",
    "\n",
    "We make a choice fo using an `artist_id` because artists may have the same name and this integer type (counting id) will be well suited for `FOREIGN KEY` usage.\n"
   ]
  },
  {
   "cell_type": "code",
   "execution_count": 5,
   "metadata": {},
   "outputs": [
    {
     "name": "stdout",
     "output_type": "stream",
     "text": [
      "Done.\n"
     ]
    },
    {
     "data": {
      "text/plain": [
       "[]"
      ]
     },
     "execution_count": 5,
     "metadata": {},
     "output_type": "execute_result"
    }
   ],
   "source": [
    "%%sql \n",
    "CREATE TABLE Artist (\n",
    "    artist_id INT, \n",
    "    name varchar(100), \n",
    "    genre varchar(100), \n",
    "    year_formed INT,\n",
    "    PRIMARY KEY (artist_id)\n",
    ");\n"
   ]
  },
  {
   "cell_type": "markdown",
   "metadata": {},
   "source": [
    "### Create Table for Albums\n",
    "\n",
    "Write the Create Table statement for the artist table.\n",
    "Ensure you use appropriate data types and column/table constraints as necessary.  \n",
    "\n",
    "**Remember** to link the Albums records to the Artist records via a foreign key relationship."
   ]
  },
  {
   "cell_type": "markdown",
   "metadata": {},
   "source": [
    "## Albums Definition\n",
    "\n",
    "Recall, an Album is recorded by and Artist.\n",
    "Therefore, we expect the album to have a foreign key reference back to the Artist table.\n",
    "\n",
    "```SQL\n",
    "CREATE TABLE Album (\n",
    "    album_id INT,\n",
    "    artist_id INT, \n",
    "    title varchar(100), \n",
    "    year_produced INT,\n",
    "    PRIMARY KEY (album_id),\n",
    "    FOREIGN KEY (artist_id)\n",
    "        REFERENCES Artist(artist_id)\n",
    ");\n",
    "```\n"
   ]
  },
  {
   "cell_type": "code",
   "execution_count": 6,
   "metadata": {},
   "outputs": [
    {
     "name": "stdout",
     "output_type": "stream",
     "text": [
      "Done.\n"
     ]
    },
    {
     "data": {
      "text/plain": [
       "[]"
      ]
     },
     "execution_count": 6,
     "metadata": {},
     "output_type": "execute_result"
    }
   ],
   "source": [
    "%%sql\n",
    "CREATE TABLE Album (\n",
    "    album_id INT,\n",
    "    artist_id INT, \n",
    "    title varchar(100), \n",
    "    year_produced INT,\n",
    "    PRIMARY KEY (album_id),\n",
    "    FOREIGN KEY (artist_id)\n",
    "        REFERENCES Artist(artist_id)\n",
    ");"
   ]
  },
  {
   "cell_type": "markdown",
   "metadata": {},
   "source": [
    "## Songs Definition\n",
    "\n",
    "Albums have tracks, so we can number the tracks sequentially on the album.\n",
    "We will work with the second definition of Album, where the primary key is an `album_id`.\n",
    "Therefore, we expect the song to have a foreign key reference back to the Album table.\n",
    "\n",
    "We can define the song to be a proper child of the album by making the `album_id` first part of the key structure for Song.\n",
    "\n",
    "```SQL\n",
    "CREATE TABLE Song (\n",
    "    album_id INT,\n",
    "    track INT,\n",
    "    title varchar(100), \n",
    "    length varchar(20),\n",
    "    PRIMARY KEY (album_id, track),\n",
    "    FOREIGN KEY (album_id)\n",
    "        REFERENCES Album(album_id)\n",
    ");\n",
    "```\n",
    "\n",
    "Notice the primary key is a composite of the `(artist_id, title)`.\n",
    "\n"
   ]
  },
  {
   "cell_type": "code",
   "execution_count": 7,
   "metadata": {},
   "outputs": [
    {
     "name": "stdout",
     "output_type": "stream",
     "text": [
      "Done.\n"
     ]
    },
    {
     "data": {
      "text/plain": [
       "[]"
      ]
     },
     "execution_count": 7,
     "metadata": {},
     "output_type": "execute_result"
    }
   ],
   "source": [
    "%%sql\n",
    "CREATE TABLE Song (\n",
    "    album_id INT,\n",
    "    track INT,\n",
    "    title varchar(100),\n",
    "    length varchar(20),\n",
    "    PRIMARY KEY (album_id, track),\n",
    "    FOREIGN KEY (album_id)\n",
    "        REFERENCES Album(album_id)\n",
    ");"
   ]
  },
  {
   "cell_type": "markdown",
   "metadata": {},
   "source": [
    "#### Note\n",
    "You will add to this atabase and populate it with data in a practice.\n"
   ]
  },
  {
   "cell_type": "markdown",
   "metadata": {},
   "source": [
    "\n",
    "\n",
    "# PLEASE SAVE YOUR NOTEBOOK"
   ]
  }
 ],
 "metadata": {
  "kernelspec": {
   "display_name": "Python 3",
   "language": "python",
   "name": "python3"
  },
  "language_info": {
   "codemirror_mode": {
    "name": "ipython",
    "version": 3
   },
   "file_extension": ".py",
   "mimetype": "text/x-python",
   "name": "python",
   "nbconvert_exporter": "python",
   "pygments_lexer": "ipython3",
   "version": "3.4.9"
  }
 },
 "nbformat": 4,
 "nbformat_minor": 1
}
