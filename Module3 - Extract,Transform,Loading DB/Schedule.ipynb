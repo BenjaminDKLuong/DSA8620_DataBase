{
 "cells": [
  {
   "cell_type": "markdown",
   "metadata": {},
   "source": [
    "# Module 3: Data Engineering"
   ]
  },
  {
   "cell_type": "markdown",
   "metadata": {},
   "source": [
    "## Topics covered\n",
    " 1. Database Design Continued\n",
    "   * Data Definition Language (DDL)\n",
    "   * Data loading and preprocessing\n",
    " 1. Extraction Transform Loading (Data Pipelines)\n",
    "   * Data Acquisition\n",
    "   * Data Modeling\n",
    "   * Data Loading\n",
    " 1. Data Warehouses & Decision Support\n",
    "\n"
   ]
  },
  {
   "cell_type": "markdown",
   "metadata": {},
   "source": [
    "\n",
    "## Readings\n",
    "\n",
    "### Database Design\n",
    " * [Data formats, types, usage and standards](resources/DataTypesAndStandards.ipynb)\n",
    " * [SQLite, Creation of Database](https://www.sqlite.org/lang_createtable.html)\n",
    " * [SQL, Modification of Database](https://www.sqlite.org/lang_altertable.html)\n",
    " * [What is a Data Engineer](https://www.dataquest.io/blog/what-is-a-data-engineer/)\n",
    " \n",
    "### Extraction Transform Loading\n",
    " * [ETL What it is and why it matters](https://www.sas.com/en_us/insights/data-management/what-is-etl.html)\n",
    " * [ETL (Extract, Transform, and Load) Process & Concept](http://blog.appliedinformaticsinc.com/etl-extract-transform-and-load-process-concept/)\n",
    " * For more in-depth discussion of the underlying file structures, indexing, and such please continue to [read Part 7](https://web.dsa.missouri.edu/static/PDF/DB/Database_Fundamentals_Part7.pdf) of the text book.\n",
    " \n",
    "### Data Warehouse & Decision Support\n",
    "  * [Database vs. Data Warehouse](https://web.dsa.missouri.edu/static/PDF/DB/Database-vs-Data-Warehouse-A-Comparative-Review.pdf)"
   ]
  },
  {
   "cell_type": "markdown",
   "metadata": {
    "collapsed": true
   },
   "source": [
    "## Videos\n",
    "### Database Design\n",
    "* [Create Tables](https://www.youtube.com/watch?v=rtL5S0PoGU0) \n",
    "\n",
    "### Creating Tables and Loading Data (Last weeks material copied here for reference)\n",
    "* [Database Loading Part 1](https://web.dsa.missouri.edu/~garwoode/DB_Loading_Part1.mp4)\n",
    "* [Database Loading Part 2](https://web.dsa.missouri.edu/~garwoode/DB_Loading_Part2.mp4)\n",
    "* [Database Loading Part 3](https://web.dsa.missouri.edu/~garwoode/DB_Loading_Part3.mp4)"
   ]
  },
  {
   "cell_type": "markdown",
   "metadata": {},
   "source": [
    "## Discussions\n",
    "* [Share ETL from Extraction, Transform, Loading Practice](https://missouri.instructure.com/courses/14888/discussion_topics/370647)"
   ]
  },
  {
   "cell_type": "markdown",
   "metadata": {},
   "source": [
    "## Labs\n",
    "  * [From Excel to a Database, pt1](./labs/M4-L1-DatabaseDesign.ipynb)\n",
    "  * [From Excel to a Database, pt2](./labs/M4-L4-DatabaseLoading.ipynb)\n",
    "  "
   ]
  },
  {
   "cell_type": "markdown",
   "metadata": {},
   "source": [
    "## Practices\n",
    "\n",
    "  * [Converting ERD to DDL](./practices/ERD2DDL.ipynb)\n",
    "  * [From Execl to a Database, pt3](./practices/SQL.ipynb)\n",
    "  * [Extraction, Transform, Loading](./practices/ETL.ipynb)"
   ]
  },
  {
   "cell_type": "markdown",
   "metadata": {},
   "source": [
    "## Exercises\n",
    " * [Database Loading](./exercises/DB_Loading.ipynb)\n",
    " * [Data Ingestion](./exercises/DataIngestion.ipynb) "
   ]
  },
  {
   "cell_type": "markdown",
   "metadata": {},
   "source": [
    "## Submitting  work\n",
    "\n",
    "#### Steps:\n",
    "  1. Open Terminal in JupyterHub\n",
    "  1. Change into the course folder\n",
    "  1. Stage (Git Add) the module's practice and exercise work   \n",
    "  `git  add   module3/practices    module3/exercises`\n",
    "  1. Create your work snapshot (Git Commit)  \n",
    "  `git   commit   -m   \"Module 3 submission\"`\n",
    "  1. Upload the snapshot to the server (Git Push)  \n",
    "  `git   push`\n"
   ]
  },
  {
   "cell_type": "markdown",
   "metadata": {},
   "source": [
    "---"
   ]
  }
 ],
 "metadata": {
  "kernelspec": {
   "display_name": "Python 3",
   "language": "python",
   "name": "python3"
  },
  "language_info": {
   "codemirror_mode": {
    "name": "ipython",
    "version": 3
   },
   "file_extension": ".py",
   "mimetype": "text/x-python",
   "name": "python",
   "nbconvert_exporter": "python",
   "pygments_lexer": "ipython3",
   "version": "3.4.9"
  }
 },
 "nbformat": 4,
 "nbformat_minor": 2
}
