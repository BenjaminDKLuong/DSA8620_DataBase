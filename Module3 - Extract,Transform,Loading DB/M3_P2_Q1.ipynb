{
 "cells": [
  {
   "cell_type": "markdown",
   "metadata": {},
   "source": [
    "#### M3:P2:Q1: Load Data for Albums\n",
    "\n",
    "Using Python load the Albums into the database"
   ]
  },
  {
   "cell_type": "code",
   "execution_count": null,
   "metadata": {},
   "outputs": [],
   "source": [
    "# Write your Python here\n",
    "# ---------------------\n",
    "import pandas  # requires the xlrd optional library for Pandas\n",
    "import openpyxl as xl\n",
    "import sqlite3\n",
    "import numpy\n",
    "\n",
    "\n",
    "df = pandas.read_excel(open('../../../datasets/Module4Data.xlsx','rb'), sheetname='Albums', header=None)\n",
    "\n",
    "databaseFilename = '../databases/songs.db'\n",
    "connection = sqlite3.connect(databaseFilename)\n",
    "cursor = connection.cursor()\n",
    "\n",
    "sqlite3.register_adapter(numpy.int64, int)\n",
    "sqlite3.register_adapter(numpy.float64, float)\n",
    "\n",
    "# The XX needs to replace the query you will used to find an artist id based on the name of the arist\n",
    "# the actually artist name will come later line 30\n",
    "# \\' is used to escape the ' so that your string with be in quotes for the query.  \n",
    "query_start = 'SELECT XX FROM XX where XX  = \\''\n",
    "query_end = '\\''\n",
    "\n",
    "count = 0\n",
    "## Loop thru the data frame and replace artist name with artist id\n",
    "for row in df.itertuples(index=True, name ='None'):\n",
    "    # Assembling the query with \n",
    "    artist_id_query = query_start + row[1] + query_end;\n",
    "    \n",
    "    # execute the query\n",
    "    cursor.execute(artist_id_query)\n",
    "    # there should be only one result but fetching one just to be safe.\n",
    "    artist_id = cursor.fetchone()\n",
    "    #this will replace the artist name with the artist id\n",
    "    df.loc[[count],0] = artist_id\n",
    "    count = count + 1\n",
    "    \n",
    "# create a loop to loop thru the data frame\n",
    "# and insert each row in the database\n"
   ]
  }
 ],
 "metadata": {
  "kernelspec": {
   "display_name": "Python 3",
   "language": "python",
   "name": "python3"
  },
  "language_info": {
   "codemirror_mode": {
    "name": "ipython",
    "version": 3
   },
   "file_extension": ".py",
   "mimetype": "text/x-python",
   "name": "python",
   "nbconvert_exporter": "python",
   "pygments_lexer": "ipython3",
   "version": "3.4.9"
  }
 },
 "nbformat": 4,
 "nbformat_minor": 2
}
