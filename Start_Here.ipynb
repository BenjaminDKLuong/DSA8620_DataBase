{
 "cells": [
  {
   "cell_type": "markdown",
   "metadata": {},
   "source": [
    "# Welcome to Database and Analytics\n",
    "\n",
    "This course covers core concepts for heterogeneous data management, including relational databases, NoSQL databases, and other data storage systems. \n",
    "Advanced database topics are covered related to relational modeling, normalization, and optimization. \n",
    "The data management lifecycle for various data types and storage systems is investigated by participants, allowing them to learn to balance the data characteristics and the analytical needs when constructing and exploiting database solutions. \n",
    "Additionally, predictive modeling and machine learning topics are linked into this course to provide thematic linkages to data science.\n",
    "\n",
    "\n",
    "__Resources:__   \n",
    "\n",
    "The course does not use these references directly. They aren't components of a textbook; instead, they are references that you can use as a starting point to grasp concepts or key areas for development more deeply. \n",
    "\n",
    "1. **Basic Database and Analytics _REFERENCE_ Text** [Free PDF](https://web.dsa.missouri.edu/static/PDF/Database_Fundamentals.pdf)\n",
    "2. **Assorted Readings about Big Data and Current Challenges**\n",
    "    - Industry focused article about managing and storing biomedical data, which is one of the earliest fields to deal with data at scale every day [Free PDF](https://web.dsa.missouri.edu/static/PDF/Industry_SustainingtheBigDataEcosystem.pdf) \n",
    "    - Academic article that is nonetheless a helpful inventory of **technical** issues facing data at scale [Free PDF](https://web.dsa.missouri.edu/static/PDF/Research_BigDataCloud.pdf)\n",
    "    - Academic article that is nonetheless a helpful inventory of **organizational** issues facing data at scale [Free PDF](https://web.dsa.missouri.edu/static/PDF/Research_BigDataOnClouds.pdf)\n",
    "3. **Introduction to Graph Databases** [Free PDF](https://web.dsa.missouri.edu/static/PDF/Industry_Graph_Databases_2e_Neo4j.pdf)\n",
    "4. **POSTGres SQL Cheat Sheet** [Free PDF](https://web.dsa.missouri.edu/static/PDF/Postgres-Cheat-Sheet.pdf)\n",
    "5. **10,000 foot view of Spark as a Cluster** [Web PDF](https://web.dsa.missouri.edu/static/PDF/Spark_is_a_cluster.pdf)"
   ]
  },
  {
   "cell_type": "markdown",
   "metadata": {},
   "source": [
    "## Course Module Schedule\n",
    "\n",
    "  1. [Review of Databases and SQL, Advanced SQL](./module1/Schedule.ipynb)\n",
    "  2. [Database Design](./module2/Schedule.ipynb)\n",
    "  3. [Data Engineering](./module3/Schedule.ipynb)\n",
    "  4. [Big Data Ecosystems](./module4/Schedule.ipynb)\n",
    "  5. [NoSQL Systems](./module5/Schedule.ipynb)\n",
    "  6. [Graph Databases](./module6/Schedule.ipynb)\n",
    "  7. [Geospatial Databases](./module7/Schedule.ipynb)\n",
    "  8. [Database Extensions, Final Project](./module8/Schedule.ipynb)\n",
    "  \n",
    "### Weekly Module Download\n",
    "\n",
    "Each Monday morning, the new module will become available.\n",
    "You will be using Git Pull to acquire the module's learning activities.  \n",
    "Clicking on the modules above before the content is pulled is expected to give you a **404 Error**\n",
    "\n",
    "#### Steps:\n",
    "  1. Open Terminal in JupyterHub\n",
    "  1. Change into the course folder\n",
    "  1. Execute command:  \n",
    "  `git pull   --no-edit   upstream   master`\n"
   ]
  },
  {
   "cell_type": "markdown",
   "metadata": {},
   "source": [
    "## Technologies\n",
    "  * PostgreSQL and Relational Databases\n",
    "  * Hadoop and Spark\n",
    "  * Neo4j\n",
    "  * MongoDB\n",
    "  * PostGIS"
   ]
  },
  {
   "cell_type": "markdown",
   "metadata": {},
   "source": [
    "## Weekly Module Schedule\n",
    "This is the suggested weekly schedule for each module\n",
    "  * Monday - Wednesday: Readings, Videos, Labs and Practices\n",
    "  * Tuesday - Thursday: Discussion Board Activities\n",
    "  * Friday - Sunday: Weekly Exercise(s)\n",
    "  \n",
    "All material will be released at the beginning of each module to allow you to work through the week and manage your time as needed.\n",
    "\n",
    "Module exercises will be collected midnight central time at the end of the Tuesday after the exercise was assigned.\n",
    "\n",
    "Exercises should be submitted by way of Git : Add, Commit, Push. More details will be provided in the learning activities on JupyterHub."
   ]
  },
  {
   "cell_type": "markdown",
   "metadata": {},
   "source": [
    "## Resources\n",
    "\n",
    "Each module will have reading links and resources.\n",
    "Please consult the weekly `Schedule` notebook for details and modular particulars."
   ]
  },
  {
   "cell_type": "markdown",
   "metadata": {},
   "source": [
    "# Submission\n",
    "\n",
    "You should be submitting two sets of work each week:\n",
    " 1. Practices, typically use git to add the files such as (module 1 example)\n",
    "```\n",
    "git add module1/practices\n",
    "git commit -m 'my module 1 practices'\n",
    "git push\n",
    "```\n",
    " 2. Exercises, typically (module 1 example)\n",
    "```\n",
    "git add module1/exercises\n",
    "git commit -m 'my module 1 exercises'\n",
    "git push\n",
    "```\n",
    "\n",
    "Remember, you can commit as often as you want, even partial solutions.\n",
    "The collection system get the sum of all changes that have been pushed at the module Due date/time."
   ]
  }
 ],
 "metadata": {
  "kernelspec": {
   "display_name": "Python 3",
   "language": "python",
   "name": "python3"
  },
  "language_info": {
   "codemirror_mode": {
    "name": "ipython",
    "version": 3
   },
   "file_extension": ".py",
   "mimetype": "text/x-python",
   "name": "python",
   "nbconvert_exporter": "python",
   "pygments_lexer": "ipython3",
   "version": "3.4.9"
  }
 },
 "nbformat": 4,
 "nbformat_minor": 1
}
