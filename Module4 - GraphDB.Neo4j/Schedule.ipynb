{
 "cells": [
  {
   "cell_type": "markdown",
   "metadata": {},
   "source": [
    "# Module 4 : Graph Databases"
   ]
  },
  {
   "cell_type": "markdown",
   "metadata": {},
   "source": [
    "## Topics covered\n",
    " 1. Graph Data Structure Concepts\n",
    " 1. Graph Database (Neo4j)   "
   ]
  },
  {
   "cell_type": "markdown",
   "metadata": {},
   "source": [
    "## Node Assignments \n",
    "\n",
    "* Server 0: Last name A - G \n",
    "* Server 1: Last name H - M\n",
    "* Server 2: Last name N - S\n",
    "* Server 3: Last name T - Y\n"
   ]
  },
  {
   "cell_type": "markdown",
   "metadata": {},
   "source": [
    "## Readings\n",
    "  * [What is a Graph Database](https://neo4j.com/developer/graph-database/)\n",
    "  * [Relational to Graph](https://neo4j.com/developer/graph-db-vs-rdbms/)\n",
    "  * [Introduction to Graph Databases, Chapters 1-5](http://indigo.sgn.missouri.edu/static/PDF/Industry_Graph_Databases_2e_Neo4j.pdf)\n",
    "  * [Getting Started with Cypher](https://neo4j.com/docs/developer-manual/3.3/get-started/cypher/)\n",
    "  * [Neo4j Developer Manual, Chapter 3 - Cypher](https://neo4j.com/docs/developer-manual/3.3/cypher/)   \n",
    "  * [Cypher Reference Card](https://neo4j.com/docs/cypher-refcard/3.3/)\n",
    "  * [Case Study on Graph Databases: Distributed Pagerank](https://www.airpair.com/apache-spark/posts/distributed-pagerank-using-apache-spark-and-neo4j)"
   ]
  },
  {
   "cell_type": "markdown",
   "metadata": {},
   "source": [
    "## Videos\n",
    "* [Graph Databases 101](https://www.youtube.com/watch?v=vJcxRjJ982k)\n",
    "* [Intro to Graph Databases Episode #2 - Properties of Graph DBs & Use Cases](https://www.youtube.com/watch?v=-dCeFEqDkUI) This is a series by Neo4j, feel free to watch as many as you like.\n"
   ]
  },
  {
   "cell_type": "markdown",
   "metadata": {},
   "source": [
    "## Labs\n",
    "  * [Neo4j Basics](./labs/Intro_to_Cypher.ipynb)"
   ]
  },
  {
   "cell_type": "markdown",
   "metadata": {},
   "source": [
    "## Practices\n",
    "  * [Graph Node Analytics](./practices/Graph_Analytics_Basic_Node_Analysis.ipynb)\n",
    "  * [Graph Link Analytics](./practices/Graph_Analytics_Link_Analysis.ipynb)\n",
    "  * [Graph Visualization](./practices/Graph_Visualization.ipynb)"
   ]
  },
  {
   "cell_type": "markdown",
   "metadata": {},
   "source": [
    "## Exercise\n",
    "  * [6 Degrees of Separation and/or Kevin Bacon](./exercises/BaconStats.ipynb)"
   ]
  },
  {
   "cell_type": "markdown",
   "metadata": {},
   "source": [
    "## Submitting  work\n",
    "\n",
    "#### Steps:\n",
    "  1. Open Terminal in JupyterHub\n",
    "  1. Change into the course folder  \n",
    "  `cd f18dsa8620*`\n",
    "  1. Stage (Git Add) the module's exercise work   \n",
    "  `git  add    module4/practices module4/exercises`\n",
    "  1. Create your work snapshot (Git Commit)  \n",
    "  `git   commit   -m   \"Module 4 submission\"`\n",
    "  1. Upload the snapshot to the server (Git Push)  \n",
    "  `git   push`"
   ]
  }
 ],
 "metadata": {
  "kernelspec": {
   "display_name": "Python 3",
   "language": "python",
   "name": "python3"
  },
  "language_info": {
   "codemirror_mode": {
    "name": "ipython",
    "version": 3
   },
   "file_extension": ".py",
   "mimetype": "text/x-python",
   "name": "python",
   "nbconvert_exporter": "python",
   "pygments_lexer": "ipython3",
   "version": "3.4.9"
  }
 },
 "nbformat": 4,
 "nbformat_minor": 2
}
