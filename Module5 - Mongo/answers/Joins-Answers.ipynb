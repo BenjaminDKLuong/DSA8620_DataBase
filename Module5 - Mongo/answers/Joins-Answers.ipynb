{
 "cells": [
  {
   "cell_type": "markdown",
   "metadata": {},
   "source": [
    "# MongoDB Joins"
   ]
  },
  {
   "cell_type": "markdown",
   "metadata": {},
   "source": [
    "In MongoDB joins happen within the context of the aggregate pipeline.\n",
    "\n",
    "Unlike relational databases where there is a variety of joins to utilize, MongoDB has only left outer equi-joins at it's disposal.\n",
    "\n",
    "The most basic form of this syntax looks like so:\n",
    "\n",
    "```json\n",
    "db.COLLECTION_NAME.aggregate([{\n",
    "    $lookup: {\n",
    "        from: \"COLLECTION_TO_JOIN\",\n",
    "        localField: \"localField\",\n",
    "        foreignField: \"foreignField\",\n",
    "        as: \"jsonKey\"\n",
    "    }\n",
    "}]);\n",
    "```"
   ]
  },
  {
   "cell_type": "markdown",
   "metadata": {},
   "source": [
    "## Example 1 -  A Simple Join Using Foreign Keys\n",
    "\n",
    "1. Let's get our collections"
   ]
  },
  {
   "cell_type": "code",
   "execution_count": null,
   "metadata": {},
   "outputs": [],
   "source": [
    "from pymongo import MongoClient\n",
    "from pprint import pprint\n",
    "\n",
    "import pymongo\n",
    "\n",
    "# Initialize a Mongo Client\n",
    "#################################################\n",
    "# Update UPDATE-ME in the connection code\n",
    "#################################################\n",
    "# Client 1 - mongodb-1.dsa.missouri.edu\n",
    "# Client 2 - mongodb-2.dsa.missouri.edu\n",
    "# Client 3 - mongodb-3.dsa.missouri.edu\n",
    "# Client 4 - mongodb-4.dsa.missouri.edu\n",
    "#################################################\n",
    "#\n",
    "client = MongoClient('UPDATE-ME',\n",
    "                     username='mlLargeReader',\n",
    "                     password='mlLargeReader.create.role',\n",
    "                     authSource='mlLarge')\n",
    "\n",
    "db = client.mlLarge\n",
    "\n",
    "# Get list of collections\n",
    "cursor = db.collection_names()\n",
    "for document in cursor:\n",
    "    pprint(document)"
   ]
  },
  {
   "cell_type": "markdown",
   "metadata": {},
   "source": [
    "2. Let's join two collections:"
   ]
  },
  {
   "cell_type": "code",
   "execution_count": null,
   "metadata": {},
   "outputs": [],
   "source": [
    "documents = db.movies.aggregate([{\n",
    "    # Let's bring in the links collection using movieId as our key\n",
    "    \"$lookup\": {\n",
    "        \"from\": \"links\",\n",
    "        \"localField\": \"movieId\",\n",
    "        \"foreignField\": \"movieId\",\n",
    "        \"as\": \"links\"\n",
    "    }\n",
    "},{\n",
    "    # Let's limit ourselves to something reasonable, just one document for now\n",
    "    \"$limit\": 1\n",
    "}]);\n",
    "\n",
    "for document in documents:\n",
    "    pprint(document)"
   ]
  },
  {
   "cell_type": "markdown",
   "metadata": {},
   "source": [
    "**Note:** The joined tables are created as children of the root object, in Mongo v3.6+ you can use the $mergeObjects directive to merge them with the root object.\n",
    "\n",
    "## Example 2 - Multiple Joins"
   ]
  },
  {
   "cell_type": "code",
   "execution_count": null,
   "metadata": {},
   "outputs": [],
   "source": [
    "documents = db.movies.aggregate([{\n",
    "    # Let's join the ratings collection using movieId\n",
    "    \"$lookup\": {\n",
    "        \"from\": \"ratings\",\n",
    "        \"localField\": \"movieId\",\n",
    "        \"foreignField\": \"movieId\",\n",
    "        \"as\": \"ratings\"\n",
    "    }\n",
    "}, {\n",
    "    # Specify that we only want movies that have ratings\n",
    "    \"$match\": {\n",
    "        \"ratings\": {\n",
    "            \"$ne\": []\n",
    "        }\n",
    "    }\n",
    "}, {\n",
    "    # Limit ourselves to one movie\n",
    "    \"$limit\": 1\n",
    "}, {\n",
    "    # Bring in the links for our movie\n",
    "    \"$lookup\": {\n",
    "        \"from\": \"links\",\n",
    "        \"localField\": \"movieId\",\n",
    "        \"foreignField\": \"movieId\",\n",
    "        \"as\": \"links\"\n",
    "    }\n",
    "}]);\n",
    "#{\n",
    "#     \"$unwind\": \"$ratings\"\n",
    "# },{\n",
    "#     \"$limit\": 3\n",
    "# }]);\n",
    "\n",
    "for document in documents:\n",
    "    pprint(document)"
   ]
  },
  {
   "cell_type": "markdown",
   "metadata": {},
   "source": [
    "## Example 3 - Joins with filtering\n",
    "\n",
    "**Note:** In version 3.6+ of MongoDB you can pass an aggregate pipeline to the `$lookup` directive allowing you to filter those results directly, this is not possible in our version (3.4.15) of mongo."
   ]
  },
  {
   "cell_type": "code",
   "execution_count": null,
   "metadata": {},
   "outputs": [],
   "source": [
    "documents = db.movies.aggregate([{\n",
    "    # Let's join the ratings collection using movieId\n",
    "    \"$lookup\": {\n",
    "        \"from\": \"ratings\",\n",
    "        \"localField\": \"movieId\",\n",
    "        \"foreignField\": \"movieId\",\n",
    "        \"as\": \"ratings\"\n",
    "    }\n",
    "}, {\n",
    "    # Specify that we only want movies that have ratings\n",
    "    \"$match\": {\n",
    "        \"ratings\": {\n",
    "            \"$ne\": []\n",
    "        }\n",
    "    }\n",
    "}, {\n",
    "    # Limit ourselves to one movie\n",
    "    \"$limit\": 1\n",
    "}, {\n",
    "    # Bring in the links for our movie\n",
    "    \"$lookup\": {\n",
    "        \"from\": \"links\",\n",
    "        \"localField\": \"movieId\",\n",
    "        \"foreignField\": \"movieId\",\n",
    "        \"as\": \"links\"\n",
    "    }\n",
    "}, {\n",
    "    # Filter the ratings and specify our columns.\n",
    "    # Note: There is no '*' specifier as in PostgresQL and most relational databases\n",
    "    # you must explicitly list all desired columns if you project any of them.\n",
    "    \"$project\": {\n",
    "        \"movieId\": 1,\n",
    "        \"title\": 1,\n",
    "        \"genres\": 1,\n",
    "        \"links\": 1,\n",
    "        \"ratings\": {\n",
    "            \"$filter\": {\n",
    "                \"input\": \"$ratings\",\n",
    "                \"as\": \"rating\",\n",
    "                \"cond\": {\n",
    "                    \"$gte\": [\"$$rating.rating\", 4.0]\n",
    "                }\n",
    "            },\n",
    "        }\n",
    "    }\n",
    "}]);\n",
    "\n",
    "for document in documents:\n",
    "    pprint(document)"
   ]
  },
  {
   "cell_type": "markdown",
   "metadata": {},
   "source": [
    "## <span style='background:yellow'>Your Turn</span>"
   ]
  },
  {
   "cell_type": "code",
   "execution_count": null,
   "metadata": {},
   "outputs": [],
   "source": [
    "## Create a query that returns a single movie with it's tags \n",
    "## ---------------------------------------------------------\n",
    "\n",
    "documents = db.movies.aggregate([{\n",
    "    # Let's bring in the links collection using movieId as our key\n",
    "    \"$lookup\": {\n",
    "        \"from\": \"tags\",\n",
    "        \"localField\": \"movieId\",\n",
    "        \"foreignField\": \"movieId\",\n",
    "        \"as\": \"tags\"\n",
    "    }\n",
    "},{\n",
    "    # Let's limit ourselves to something reasonable, just one document for now\n",
    "    \"$limit\": 1\n",
    "}]);\n",
    "\n",
    "\n",
    "for document in documents:\n",
    "    pprint(document)"
   ]
  },
  {
   "cell_type": "code",
   "execution_count": null,
   "metadata": {},
   "outputs": [],
   "source": [
    "## Create a query that returns the movie and it's tags, but only if it has a rating, limit your query to 5 results.\n",
    "## ---------------------------------------------------------\n",
    "\n",
    "\n",
    "documents = db.movies.aggregate([{\n",
    "    \"$lookup\": {\n",
    "        \"from\": \"tags\",\n",
    "        \"localField\": \"movieId\",\n",
    "        \"foreignField\": \"movieId\",\n",
    "        \"as\": \"tags\"\n",
    "    }\n",
    "},{\n",
    "    \"$limit\": 5\n",
    "}, { \"$lookup\": {\n",
    "        \"from\": \"ratings\",\n",
    "        \"localField\": \"movieId\",\n",
    "        \"foreignField\": \"movieId\",\n",
    "        \"as\": \"ratings\"\n",
    "    }\n",
    "}, {\n",
    "    \"$match\": {\n",
    "        \"ratings\": {\n",
    "            \"$ne\": []\n",
    "        }\n",
    "    }\n",
    "}]);\n",
    "\n",
    "for document in documents:\n",
    "    pprint(document)"
   ]
  },
  {
   "cell_type": "code",
   "execution_count": null,
   "metadata": {
    "collapsed": true
   },
   "outputs": [],
   "source": [
    "# Be sure to run this cell when you are finished. Thank you.\n",
    "client.close()"
   ]
  },
  {
   "cell_type": "markdown",
   "metadata": {},
   "source": [
    "# Save your notebook, then `File > Close and Halt`"
   ]
  },
  {
   "cell_type": "markdown",
   "metadata": {},
   "source": [
    "---"
   ]
  }
 ],
 "metadata": {
  "kernelspec": {
   "display_name": "Python 3",
   "language": "python",
   "name": "python3"
  },
  "language_info": {
   "codemirror_mode": {
    "name": "ipython",
    "version": 3
   },
   "file_extension": ".py",
   "mimetype": "text/x-python",
   "name": "python",
   "nbconvert_exporter": "python",
   "pygments_lexer": "ipython3",
   "version": "3.4.9"
  }
 },
 "nbformat": 4,
 "nbformat_minor": 2
}
