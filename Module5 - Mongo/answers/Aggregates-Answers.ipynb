{
 "cells": [
  {
   "cell_type": "markdown",
   "metadata": {},
   "source": [
    "# Aggregates in MongoDB\n",
    "\n",
    "In MongoDB, aggregations are handled via the so-called \"aggregation pipeline\". \n",
    "\n",
    "\n",
    "For each aggregation pipeline, there is a match stage and a group stage. \n",
    "These two stages, when combined together cleverly, \n",
    "allow for powerful aggregate expressions. \n",
    "\n",
    "Documentation for the aggregate pipeline can be found at: https://docs.mongodb.com/v3.4/core/aggregation-pipeline/ which in turn has several related links. \n",
    "If you are looking for more information, we suggest reading these pages. \n",
    "\n",
    "The examples we are providing below are largely based on the exmaples in the documentation, \n",
    "adapted for our data and extended where relevant. "
   ]
  },
  {
   "cell_type": "code",
   "execution_count": null,
   "metadata": {
    "collapsed": true
   },
   "outputs": [],
   "source": [
    "from bson.son import SON # for ordering by more than one column\n",
    "from pprint import pprint\n",
    "from pymongo import MongoClient\n",
    "import pymongo\n",
    "\n",
    "# Initialize a Mongo Client\n",
    "#################################################\n",
    "# Update UPDATE-ME in the connection code\n",
    "#################################################\n",
    "# Client 1 - mongodb-1.dsa.missouri.edu\n",
    "# Client 2 - mongodb-2.dsa.missouri.edu\n",
    "# Client 3 - mongodb-3.dsa.missouri.edu\n",
    "# Client 4 - mongodb-4.dsa.missouri.edu\n",
    "#################################################\n",
    "#\n",
    "client = MongoClient('UPDATE-ME',\n",
    "                     username='ml_small_reader',\n",
    "                     password='mlsmall.read',\n",
    "                     authSource='ml_small')\n",
    "# retrieve the ml_small database from the connection\n",
    "db = client.ml_small"
   ]
  },
  {
   "cell_type": "markdown",
   "metadata": {},
   "source": [
    "### Number of movies released per year\n",
    "\n",
    "Let's jump into the aggregate pipeline with a few examples, \n",
    "beginning with the number of movies released each year, ordered by date ascending."
   ]
  },
  {
   "cell_type": "code",
   "execution_count": null,
   "metadata": {},
   "outputs": [],
   "source": [
    "pipeline = [\n",
    "    {\"$group\" : { \"_id\" : {\"$year\": \"$release_date\"} , \"count\" : { \"$sum\" : 1 }}},\n",
    "    {\"$sort\": { \"_id\": 1 }}\n",
    "]\n",
    "for doc in db.item.aggregate(pipeline):\n",
    "    print(doc)"
   ]
  },
  {
   "cell_type": "markdown",
   "metadata": {
    "collapsed": true
   },
   "source": [
    "### Number of movies released per year: Top 10 years, ordered by count.\n"
   ]
  },
  {
   "cell_type": "code",
   "execution_count": null,
   "metadata": {},
   "outputs": [],
   "source": [
    "pipeline = [\n",
    "    {\"$group\" : { \"_id\" : {\"$year\": \"$release_date\"} , \"count\" : { \"$sum\" : 1 }}},\n",
    "    {\"$sort\": { \"count\": -1 }},\n",
    "    {\"$limit\": 10}\n",
    "]\n",
    "\n",
    "for doc in db.item.aggregate(pipeline):\n",
    "    print(doc)"
   ]
  },
  {
   "cell_type": "markdown",
   "metadata": {},
   "source": [
    "**The above query: **\n",
    " 1. Groups the information based on the year of release, calculated using `$year` command and the date.  \n",
    " 1. Creates a new field called \"count\" whose value comes from the `$sum` directive\n",
    " 1. Sort the rows based on the count field in descending order\n",
    " 1. Limit the results to 10 documents."
   ]
  },
  {
   "cell_type": "markdown",
   "metadata": {},
   "source": [
    "### Number of movies released for each month, sorted most to fewest\n"
   ]
  },
  {
   "cell_type": "code",
   "execution_count": null,
   "metadata": {},
   "outputs": [],
   "source": [
    "pipeline = [\n",
    "    {\"$group\" : { \"_id\" : {\"$month\": \"$release_date\"} , \"count\" : { \"$sum\" : 1 }}},\n",
    "    {\"$sort\": { \"count\": -1 }}\n",
    "]\n",
    "\n",
    "for doc in db.item.aggregate(pipeline):\n",
    "    print(doc)"
   ]
  },
  {
   "cell_type": "markdown",
   "metadata": {},
   "source": [
    "As you can see, most of the documents in our dataset were released in Janurary. \n",
    "Now is a good time to highlight the fact that our data may not represent the reality.\n",
    "Seeing such a huge bias for the first month in the year suggest that movies which the data\n",
    "collectors could not find a specific release date for probably ended up with Janurary as the default date. \n",
    "\n",
    "Let's explore this idea by looking at the same breakdown, but based on day."
   ]
  },
  {
   "cell_type": "code",
   "execution_count": null,
   "metadata": {},
   "outputs": [],
   "source": [
    "pipeline = [\n",
    "    {\"$group\" : { \"_id\" : {\"$dayOfMonth\": \"$release_date\"} , \"count\" : { \"$sum\" : 1 }}},\n",
    "    {\"$sort\": { \"count\": -1 }}\n",
    "]\n",
    "\n",
    "for doc in db.item.aggregate(pipeline):\n",
    "    print(doc)"
   ]
  },
  {
   "cell_type": "markdown",
   "metadata": {},
   "source": [
    "With 1121 entries having their release date by the first day of the month, \n",
    "it would seem our suspicions are founded. \n",
    "\n",
    "As just one more example of aggregation with filtering, \n",
    "let's count the number of movies per relese day, where the release month is January."
   ]
  },
  {
   "cell_type": "code",
   "execution_count": null,
   "metadata": {},
   "outputs": [],
   "source": [
    "pipeline = [\n",
    "    {\"$project\": {\n",
    "        \"_id\": {\"$dayOfMonth\": \"$release_date\"}, \n",
    "        \"monthReleased\": {\"$month\": \"$release_date\"}\n",
    "    }},\n",
    "    {\"$match\": {\"monthReleased\": 1}},\n",
    "    {\"$group\" : { \"_id\" : \"$_id\" , \"count\" : { \"$sum\" : 1 }}},\n",
    "    {\"$sort\": { \"count\": -1 }}\n",
    "]\n",
    "\n",
    "for doc in db.item.aggregate(pipeline):\n",
    "    print(doc)"
   ]
  },
  {
   "cell_type": "markdown",
   "metadata": {},
   "source": [
    "**The above pipeline:**\n",
    " 1. Sets the \\_id field to the result of the `$dayOfMonth` operation on the `$releaseDate` field.\n",
    " 1. Calculates a new value to be used for matching, to filter our documents to only those where the match condition is met. This value is the month of the release date.\n",
    " 1. Limits our results using `$match` to those documents that meet the filter.\n",
    " 1. Groups the remaining documents by their release day (of the month) and adds a count field. \n",
    " 1. Sorts the collection in descending order based on the count field."
   ]
  },
  {
   "cell_type": "markdown",
   "metadata": {},
   "source": [
    "There are even more powerful things you can do with the aggregation pipeline.\n",
    "In fact, if you can think of something you want to know about the data, \n",
    "there is almost definitely a way to get the answer using the aggregate pipeline. "
   ]
  },
  {
   "cell_type": "markdown",
   "metadata": {},
   "source": [
    "## <span style=\"background:yellow\">Your Turn</span>\n",
    "\n",
    "Complete following lab work to gain hands-on experience with the Aggregate Pipeline.\n",
    "**Make sure that you have ran the above cells, and have a connection to the DB!**\n",
    "\n",
    "### Task 1\n",
    "\n",
    "#### Get counts of movies based on combinations of (Action, Adventure) genres. \n",
    "This means that your result should have 4 documents."
   ]
  },
  {
   "cell_type": "code",
   "execution_count": null,
   "metadata": {},
   "outputs": [],
   "source": [
    "# Add your code below\n",
    "# -------------------------\n",
    "\n",
    "\n",
    "\n",
    "pipeline = [\n",
    "    {\"$group\" : { \n",
    "            \"_id\" : {\n",
    "                \"Action\": \"$Action\", \"Adventure\": \"$Adventure\"\n",
    "            }, \n",
    "            \"count\" : { \"$sum\" : 1 }\n",
    "    }}\n",
    "]\n",
    "\n",
    "for doc in db.item.aggregate(pipeline):\n",
    "    print(doc)"
   ]
  },
  {
   "cell_type": "markdown",
   "metadata": {},
   "source": [
    "### Task 2\n",
    "\n",
    "#### Get counts of reviewers based on gender.\n",
    "Use the `user` collection. Explore this collection using find_one() if necessary."
   ]
  },
  {
   "cell_type": "code",
   "execution_count": null,
   "metadata": {},
   "outputs": [],
   "source": [
    "# Add your code below\n",
    "# -------------------------\n",
    "\n",
    "pipeline = [\n",
    "    {\"$group\": {\n",
    "        \"_id\": \"$gender\",\n",
    "        \"count\" : {\"$sum\": 1}\n",
    "    }}\n",
    "]\n",
    "for doc in db.user.aggregate(pipeline):\n",
    "    print(doc)\n",
    "\n",
    "\n",
    "\n",
    "\n"
   ]
  },
  {
   "cell_type": "markdown",
   "metadata": {},
   "source": [
    "### Task 3\n",
    "\n",
    "#### Get counts of reviewers, grouped by gender and age.\n",
    "To sort by both gender and age, you will need to use __[SON](https://stackoverflow.com/questions/36566166/sort-the-result-from-a-pymongo-query#36566229)__."
   ]
  },
  {
   "cell_type": "code",
   "execution_count": null,
   "metadata": {},
   "outputs": [],
   "source": [
    "# Add your code below\n",
    "# -------------------------\n",
    "\n",
    "pipeline = [\n",
    "    {\"$group\": {\n",
    "        \"_id\": {\"gender\": \"$gender\", \"age\": \"$age\"},\n",
    "        \"count\" : {\"$sum\": 1}\n",
    "    }},\n",
    "    {\"$sort\": SON([(\"_id.gender\", 1), (\"_id.age\", 1)])}\n",
    "]\n",
    "for doc in db.user.aggregate(pipeline):\n",
    "    print(doc)\n",
    "\n",
    "\n"
   ]
  },
  {
   "cell_type": "code",
   "execution_count": null,
   "metadata": {
    "collapsed": true
   },
   "outputs": [],
   "source": [
    "# Be sure to run this cell when you are finished. Thank you.\n",
    "client.close()"
   ]
  },
  {
   "cell_type": "markdown",
   "metadata": {},
   "source": [
    "# Save your notebook, then `File > Close and Halt`"
   ]
  },
  {
   "cell_type": "markdown",
   "metadata": {},
   "source": [
    "---"
   ]
  }
 ],
 "metadata": {
  "kernelspec": {
   "display_name": "Python 3",
   "language": "python",
   "name": "python3"
  },
  "language_info": {
   "codemirror_mode": {
    "name": "ipython",
    "version": 3
   },
   "file_extension": ".py",
   "mimetype": "text/x-python",
   "name": "python",
   "nbconvert_exporter": "python",
   "pygments_lexer": "ipython3",
   "version": "3.4.9"
  }
 },
 "nbformat": 4,
 "nbformat_minor": 2
}
