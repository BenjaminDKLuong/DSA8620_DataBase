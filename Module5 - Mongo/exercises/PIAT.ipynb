{
 "cells": [
  {
   "cell_type": "markdown",
   "metadata": {},
   "source": [
    "# MongoDB - Putting It All Together\n",
    "\n",
    "The goal of this exercise is to utilize joins and the aggregate pipeline together and get a complete overview of how querying a NoSQL database like mongo works. We will use both the MovieLens data we used for the labs, and also a new Taxi dataset. You are expected to create cells to do data exploration as needed. "
   ]
  },
  {
   "cell_type": "code",
   "execution_count": 1,
   "metadata": {
    "collapsed": true
   },
   "outputs": [],
   "source": [
    "from pprint import pprint\n",
    "from pymongo import MongoClient\n",
    "import pymongo\n",
    "\n",
    "# Initialize a Mongo Client\n",
    "#################################################\n",
    "# Update UPDATE-ME in the connection code\n",
    "#################################################\n",
    "# Client 1 - mongodb-1.dsa.missouri.edu\n",
    "# Client 2 - mongodb-2.dsa.missouri.edu\n",
    "# Client 3 - mongodb-3.dsa.missouri.edu\n",
    "# Client 4 - mongodb-4.dsa.missouri.edu\n",
    "#################################################\n",
    "#\n",
    "client = MongoClient('mongodb-2.dsa.missouri.edu',\n",
    "                     username='mlLargeReader',\n",
    "                     password='mlLargeReader.create.role',\n",
    "                     authSource='mlLarge')\n",
    "\n",
    "# retrieve the mlLarge database from the connection\n",
    "db = client.mlLarge"
   ]
  },
  {
   "cell_type": "code",
   "execution_count": 2,
   "metadata": {},
   "outputs": [
    {
     "data": {
      "text/plain": [
       "['movies', 'links', 'tags', 'ratings', 'genome-scores', 'genome-tags', 'users']"
      ]
     },
     "execution_count": 2,
     "metadata": {},
     "output_type": "execute_result"
    }
   ],
   "source": [
    "db.collection_names()"
   ]
  },
  {
   "cell_type": "code",
   "execution_count": 3,
   "metadata": {},
   "outputs": [
    {
     "data": {
      "text/plain": [
       "{'_id': ObjectId('5b18b242d698289b410b776c'),\n",
       " 'genres': 'Comedy|Drama|Romance',\n",
       " 'movieId': 4,\n",
       " 'title': 'Waiting to Exhale (1995)'}"
      ]
     },
     "execution_count": 3,
     "metadata": {},
     "output_type": "execute_result"
    }
   ],
   "source": [
    "db.movies.find_one()"
   ]
  },
  {
   "cell_type": "code",
   "execution_count": 4,
   "metadata": {},
   "outputs": [
    {
     "data": {
      "text/plain": [
       "{'_id': ObjectId('5b18b23cd698289b41045af7'),\n",
       " 'movieId': 4141,\n",
       " 'tag': 'Mark Waters',\n",
       " 'timestamp': 1240597180,\n",
       " 'userId': 18}"
      ]
     },
     "execution_count": 4,
     "metadata": {},
     "output_type": "execute_result"
    }
   ],
   "source": [
    "db.tags.find_one()"
   ]
  },
  {
   "cell_type": "code",
   "execution_count": 27,
   "metadata": {},
   "outputs": [
    {
     "data": {
      "text/plain": [
       "{'_id': ObjectId('5b18b242d698289b410be21d'),\n",
       " 'movieId': 32,\n",
       " 'rating': 3.5,\n",
       " 'timestamp': 1112484819,\n",
       " 'userId': 1}"
      ]
     },
     "execution_count": 27,
     "metadata": {},
     "output_type": "execute_result"
    }
   ],
   "source": [
    "db.ratings.find_one()"
   ]
  },
  {
   "cell_type": "code",
   "execution_count": 28,
   "metadata": {},
   "outputs": [
    {
     "data": {
      "text/plain": [
       "{'_id': ObjectId('5b18b23cd698289b41045af7'),\n",
       " 'userId': 18,\n",
       " 'username': 'Sandy'}"
      ]
     },
     "execution_count": 28,
     "metadata": {},
     "output_type": "execute_result"
    }
   ],
   "source": [
    "db.users.find_one()"
   ]
  },
  {
   "cell_type": "markdown",
   "metadata": {},
   "source": [
    "## Task 1\n",
    "\n",
    "Using the aggregate pipeline get all movies and their tags, sort by title, limit to 10 results."
   ]
  },
  {
   "cell_type": "code",
   "execution_count": 2,
   "metadata": {},
   "outputs": [
    {
     "name": "stdout",
     "output_type": "stream",
     "text": [
      "{'_id': {'tags': ['BD-R'], 'title': '\"Great Performances\" Cats (1998)'}}\n",
      "{'_id': {'tags': [],\n",
      "         'title': '#chicagoGirl: The Social Network Takes on a Dictator '\n",
      "                  '(2013)'}}\n",
      "{'_id': {'tags': ['BD-R'], 'title': '$ (Dollars) (1971)'}}\n",
      "{'_id': {'tags': [], 'title': '$5 a Day (2008)'}}\n",
      "{'_id': {'tags': ['Australia', 'claymation'], 'title': '$9.99 (2008)'}}\n",
      "{'_id': {'tags': ['BD-R'], 'title': '$ellebrity (Sellebrity) (2012)'}}\n",
      "{'_id': {'tags': ['Yann Demange'], 'title': \"'71 (2014)\"}}\n",
      "{'_id': {'tags': [], 'title': \"'Hellboy': The Seeds of Creation (2004)\"}}\n",
      "{'_id': {'tags': [],\n",
      "         'title': \"'Human' Factor, The (Human Factor, The) (1975)\"}}\n",
      "{'_id': {'tags': ['youtube', 'based on a short story', 'based on a book'],\n",
      "         'title': \"'Neath the Arizona Skies (1934)\"}}\n"
     ]
    }
   ],
   "source": [
    "# Add your code below\n",
    "# -------------------------\n",
    "documents = db.movies.aggregate([{\n",
    "    \"$lookup\": {\n",
    "        \"from\": \"tags\",\n",
    "        \"localField\": \"movieId\",\n",
    "        \"foreignField\": \"movieId\",\n",
    "        \"as\": \"tags\"\n",
    "    }\n",
    "},{    \n",
    "    \"$group\": { \"_id\": {\"title\": \"$title\", \"tags\":\"$tags.tag\"}}\n",
    "},{\n",
    "    \"$sort\": {\"_id.title\":1}\n",
    "},{\n",
    "    \"$limit\": 10\n",
    "}]);\n",
    "\n",
    "for document in documents:\n",
    "    pprint(document)\n",
    "\n"
   ]
  },
  {
   "cell_type": "markdown",
   "metadata": {},
   "source": [
    "## Task 2\n",
    "\n",
    "Using the aggregate pipeline get the top 10 movies by their average rating, select their title and their average rating.\n",
    "\n",
    "Note that because of the __[default behavior](https://stackoverflow.com/questions/45724785/aggregate-lookup-total-size-of-documents-in-matching-pipeline-exceeds-maximum-d1)__ of `$lookup` you'll want to use the unwind directive. \n",
    "\n",
    "To paraphrase, `$lookup` produces a target array within the parent document. If there are too many matches, this can cause the document size to exceed the 16MB limit.\n",
    "\n",
    "By using `$unwind`, `$lookup` will instead produce one document per element of the would-be array, with the value in the arrays place."
   ]
  },
  {
   "cell_type": "code",
   "execution_count": 3,
   "metadata": {},
   "outputs": [
    {
     "name": "stdout",
     "output_type": "stream",
     "text": [
      "{'Average': 5.0, '_id': {'title': 'The Wrecking Crew (2008)'}}\n",
      "{'Average': 5.0, '_id': {'title': 'Mutantes (2009)'}}\n",
      "{'Average': 5.0, '_id': {'title': 'The Color of Milk (2004)'}}\n",
      "{'Average': 5.0, '_id': {'title': 'A Blank on the Map (1971)'}}\n",
      "{'Average': 5.0, '_id': {'title': 'The Beautiful Story (1992)'}}\n",
      "{'Average': 5.0, '_id': {'title': 'Slingshot Hip Hop (2008)'}}\n",
      "{'Average': 5.0, '_id': {'title': 'A Gun for Jennifer (1997)'}}\n",
      "{'Average': 5.0, '_id': {'title': 'Freeheld (2007)'}}\n",
      "{'Average': 5.0, '_id': {'title': 'Bill Hicks: Sane Man (1989)'}}\n",
      "{'Average': 5.0,\n",
      " '_id': {'title': 'The Garden of Sinners - Chapter 5: Paradox Paradigm '\n",
      "                  '(2008)'}}\n"
     ]
    }
   ],
   "source": [
    "# Add your code below\n",
    "# -------------------------\n",
    "documents = db.movies.aggregate([{\n",
    "    \"$lookup\": {\n",
    "        \"from\": \"ratings\",\n",
    "        \"localField\": \"movieId\",\n",
    "        \"foreignField\": \"movieId\",\n",
    "        \"as\": \"ratings\"\n",
    "    }\n",
    "},{\n",
    "    \"$unwind\": \"$ratings\" \n",
    "},{\n",
    "    # Specify that we only want movies that have ratings\n",
    "    \"$match\": {\n",
    "        \"ratings\": {\n",
    "            \"$ne\": []\n",
    "        }\n",
    "    }\n",
    "},{    \n",
    "    \"$group\": { \"_id\": {\"title\": \"$title\"}, \"Average\":{\"$avg\": \"$ratings.rating\"}}\n",
    "},{\n",
    "    \"$sort\": {\"Average\":-1}\n",
    "},{\n",
    "    \"$limit\": 10\n",
    "}]);\n",
    "\n",
    "for document in documents:\n",
    "    pprint(document)\n"
   ]
  },
  {
   "cell_type": "markdown",
   "metadata": {},
   "source": [
    "## Task 3\n",
    "\n",
    "Using the aggregate pipeline get the movie with the highest average rating starting with the letter M, select the title, the movieId, and the average rating."
   ]
  },
  {
   "cell_type": "code",
   "execution_count": 5,
   "metadata": {},
   "outputs": [
    {
     "name": "stdout",
     "output_type": "stream",
     "text": [
      "{'Average': 5.0, '_id': {'movieId': 116387, 'title': 'Muddy River (1981)'}}\n",
      "{'Average': 5.0, '_id': {'movieId': 126219, 'title': 'Marihuana (1936)'}}\n",
      "{'Average': 5.0, '_id': {'movieId': 81117, 'title': 'Moth, The (Cma) (1980)'}}\n",
      "{'Average': 5.0, '_id': {'movieId': 114214, 'title': 'Mishen (Target) (2011)'}}\n",
      "{'Average': 5.0, '_id': {'movieId': 129741, 'title': 'Mutantes (2009)'}}\n"
     ]
    }
   ],
   "source": [
    "# Add your code below\n",
    "# -------------------------\n",
    "documents = db.movies.aggregate([{\n",
    "    \"$lookup\": {\n",
    "        \"from\": \"ratings\",\n",
    "        \"localField\": \"movieId\",\n",
    "        \"foreignField\": \"movieId\",\n",
    "        \"as\": \"ratings\"\n",
    "    }\n",
    "},{\n",
    "    \"$unwind\": \"$ratings\" \n",
    "},{\n",
    "    \"$match\": {\"title\":{ '$regex': '^m', '$options': 'i'},\"ratings\": {\"$ne\": []}}\n",
    "},{    \n",
    "    \"$group\": { \"_id\": {\"title\": \"$title\",\"movieId\": \"$movieId\"},\n",
    "                \"Average\":{\"$avg\": \"$ratings.rating\"}}\n",
    "},{\n",
    "    \"$sort\": {\"Average\":-1}\n",
    "},{\n",
    "    \"$limit\": 5\n",
    "}]);\n",
    "\n",
    "for document in documents:\n",
    "    pprint(document)\n",
    "\n",
    "    "
   ]
  },
  {
   "cell_type": "code",
   "execution_count": 2,
   "metadata": {
    "collapsed": true
   },
   "outputs": [],
   "source": [
    "# Be sure to run this cell when you are finished. Thank you.\n",
    "client.close()"
   ]
  },
  {
   "cell_type": "markdown",
   "metadata": {},
   "source": [
    "# Save your notebook, then `File > Close and Halt`"
   ]
  },
  {
   "cell_type": "markdown",
   "metadata": {},
   "source": [
    "---"
   ]
  }
 ],
 "metadata": {
  "kernelspec": {
   "display_name": "Python 3",
   "language": "python",
   "name": "python3"
  },
  "language_info": {
   "codemirror_mode": {
    "name": "ipython",
    "version": 3
   },
   "file_extension": ".py",
   "mimetype": "text/x-python",
   "name": "python",
   "nbconvert_exporter": "python",
   "pygments_lexer": "ipython3",
   "version": "3.4.9"
  }
 },
 "nbformat": 4,
 "nbformat_minor": 2
}
