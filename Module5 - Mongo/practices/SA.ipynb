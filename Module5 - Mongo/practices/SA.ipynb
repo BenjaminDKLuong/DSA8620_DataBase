{
 "cells": [
  {
   "cell_type": "markdown",
   "metadata": {},
   "source": [
    "# MongoDB Student Practice\n",
    "\n",
    "The aim of this practice is to offer more opportunities to work with the aggregate pipeline and finding and searching the collections we have access to. We will use the MovieLens data we used for the labs. You are expected to create cells to do data exploration as needed. "
   ]
  },
  {
   "cell_type": "code",
   "execution_count": 4,
   "metadata": {
    "collapsed": true
   },
   "outputs": [],
   "source": [
    "from bson.son import SON # for ordering by more than one column\n",
    "from pprint import pprint\n",
    "from pymongo import MongoClient\n",
    "import pymongo\n",
    "\n",
    "# Initialize a Mongo Client\n",
    "#################################################\n",
    "# Update UPDATE-ME in the connection code\n",
    "#################################################\n",
    "# Client 1 - mongodb-1.dsa.missouri.edu\n",
    "# Client 2 - mongodb-2.dsa.missouri.edu\n",
    "# Client 3 - mongodb-3.dsa.missouri.edu\n",
    "# Client 4 - mongodb-4.dsa.missouri.edu\n",
    "#################################################\n",
    "#\n",
    "client = MongoClient('mongodb-2.dsa.missouri.edu',\n",
    "                     username='ml_small_reader',\n",
    "                     password='mlsmall.read',\n",
    "                     authSource='ml_small')\n",
    "# retrieve the ml_small database from the connection\n",
    "db = client.ml_small"
   ]
  },
  {
   "cell_type": "code",
   "execution_count": 4,
   "metadata": {},
   "outputs": [
    {
     "data": {
      "text/plain": [
       "['item', 'user', 'genre', 'data']"
      ]
     },
     "execution_count": 4,
     "metadata": {},
     "output_type": "execute_result"
    }
   ],
   "source": [
    "db.collection_names()"
   ]
  },
  {
   "cell_type": "code",
   "execution_count": 5,
   "metadata": {},
   "outputs": [
    {
     "data": {
      "text/plain": [
       "{'Action': 0,\n",
       " 'Adventure': 0,\n",
       " 'Animation': 0,\n",
       " \"Children's\": 1,\n",
       " 'Comedy': 1,\n",
       " 'Crime': 0,\n",
       " 'Documentary': 0,\n",
       " 'Drama': 1,\n",
       " 'Fantasy': 0,\n",
       " 'Film-Noir': 0,\n",
       " 'Horror': 0,\n",
       " 'IMDb_URL': 'http://us.imdb.com/M/title-exact?Babe%20(1995)',\n",
       " 'Musical': 0,\n",
       " 'Mystery': 0,\n",
       " 'Romance': 0,\n",
       " 'Sci-Fi': 0,\n",
       " 'Thriller': 0,\n",
       " 'War': 0,\n",
       " 'Western': 0,\n",
       " '_id': ObjectId('5b231f5ad698289b415e67f5'),\n",
       " 'movie_id': 8,\n",
       " 'movie_title': 'Babe (1995)',\n",
       " 'release_date': datetime.datetime(1995, 1, 1, 6, 0),\n",
       " 'unknown': 0,\n",
       " 'video_release_date': ''}"
      ]
     },
     "execution_count": 5,
     "metadata": {},
     "output_type": "execute_result"
    }
   ],
   "source": [
    "db.item.find_one()"
   ]
  },
  {
   "cell_type": "code",
   "execution_count": 6,
   "metadata": {},
   "outputs": [
    {
     "data": {
      "text/plain": [
       "{'_id': ObjectId('5b18e2b3d698289b41f3cf1a'),\n",
       " 'age': 33,\n",
       " 'gender': 'F',\n",
       " 'occupation': 'other',\n",
       " 'user_id': 5,\n",
       " 'zip_code': 15213}"
      ]
     },
     "execution_count": 6,
     "metadata": {},
     "output_type": "execute_result"
    }
   ],
   "source": [
    "db.user.find_one()"
   ]
  },
  {
   "cell_type": "code",
   "execution_count": 7,
   "metadata": {},
   "outputs": [
    {
     "data": {
      "text/plain": [
       "{'_id': ObjectId('5b18e2abd698289b41f3ceff'),\n",
       " 'genre': \"Children's\",\n",
       " 'genre_id': 4}"
      ]
     },
     "execution_count": 7,
     "metadata": {},
     "output_type": "execute_result"
    }
   ],
   "source": [
    "db.genre.find_one()"
   ]
  },
  {
   "cell_type": "code",
   "execution_count": 8,
   "metadata": {},
   "outputs": [
    {
     "data": {
      "text/plain": [
       "{'_id': ObjectId('5b18e05dd698289b41f236d2'),\n",
       " 'item_id': 346,\n",
       " 'rating': 1,\n",
       " 'timestamp': 886397596,\n",
       " 'user_id': 166}"
      ]
     },
     "execution_count": 8,
     "metadata": {},
     "output_type": "execute_result"
    }
   ],
   "source": [
    "db.data.find_one()"
   ]
  },
  {
   "cell_type": "markdown",
   "metadata": {},
   "source": [
    "### Task 1\n",
    "\n",
    "#### Find the 10 most common letters to begin a movie title, sorted by number of occurences and letter.\n",
    "\n",
    "You'll want to use the `$substrCP` operation to extract the first letter"
   ]
  },
  {
   "cell_type": "code",
   "execution_count": 9,
   "metadata": {},
   "outputs": [
    {
     "name": "stdout",
     "output_type": "stream",
     "text": [
      "{'_id': {'movie_title': 'S'}, 'count': 181}\n",
      "{'_id': {'movie_title': 'B'}, 'count': 148}\n",
      "{'_id': {'movie_title': 'M'}, 'count': 131}\n",
      "{'_id': {'movie_title': 'C'}, 'count': 118}\n",
      "{'_id': {'movie_title': 'T'}, 'count': 108}\n",
      "{'_id': {'movie_title': 'A'}, 'count': 94}\n",
      "{'_id': {'movie_title': 'F'}, 'count': 94}\n",
      "{'_id': {'movie_title': 'P'}, 'count': 80}\n",
      "{'_id': {'movie_title': 'D'}, 'count': 80}\n",
      "{'_id': {'movie_title': 'L'}, 'count': 79}\n"
     ]
    }
   ],
   "source": [
    "# Add your code below\n",
    "# -------------------------\n",
    "from bson.son import SON\n",
    "\n",
    "pipeline = [\n",
    "    \n",
    "    {\"$group\" : { \"_id\" :  {'movie_title': { \"$substrCP\": [ \"$movie_title\", 0, 1 ] }} , \"count\" : { \"$sum\" : 1 }}},\n",
    "    {\"$sort\": SON([(\"movie_title\",1),(\"count\", -1)])},\n",
    "    {\"$limit\": 10}\n",
    "]\n",
    "\n",
    "for doc in db.item.aggregate(pipeline):\n",
    "    print(doc)\n",
    "\n",
    "\n",
    "\n",
    "\n"
   ]
  },
  {
   "cell_type": "markdown",
   "metadata": {},
   "source": [
    "### Task 2\n",
    "\n",
    "#### Find out the distribution of occupations of those who provided reviews. Sort by count\n",
    "\n"
   ]
  },
  {
   "cell_type": "code",
   "execution_count": 29,
   "metadata": {},
   "outputs": [
    {
     "name": "stdout",
     "output_type": "stream",
     "text": [
      "{'_id': 'student', 'count': 196}\n",
      "{'_id': 'other', 'count': 105}\n",
      "{'_id': 'educator', 'count': 95}\n",
      "{'_id': 'administrator', 'count': 79}\n",
      "{'_id': 'engineer', 'count': 67}\n",
      "{'_id': 'programmer', 'count': 66}\n",
      "{'_id': 'librarian', 'count': 51}\n",
      "{'_id': 'writer', 'count': 45}\n",
      "{'_id': 'executive', 'count': 32}\n",
      "{'_id': 'scientist', 'count': 31}\n",
      "{'_id': 'artist', 'count': 28}\n",
      "{'_id': 'technician', 'count': 27}\n",
      "{'_id': 'marketing', 'count': 26}\n",
      "{'_id': 'entertainment', 'count': 18}\n",
      "{'_id': 'healthcare', 'count': 16}\n",
      "{'_id': 'retired', 'count': 14}\n",
      "{'_id': 'salesman', 'count': 12}\n",
      "{'_id': 'lawyer', 'count': 12}\n",
      "{'_id': 'none', 'count': 9}\n",
      "{'_id': 'doctor', 'count': 7}\n",
      "{'_id': 'homemaker', 'count': 7}\n"
     ]
    }
   ],
   "source": [
    "# Add your code below\n",
    "# -------------------------\n",
    "documents = db.user.aggregate([{\n",
    "    \"$group\": { \"_id\": \"$occupation\", \"count\": { \"$sum\": 1}}\n",
    "},{\n",
    "    \"$sort\": {\"count\": -1}\n",
    "}]);\n",
    "\n",
    "for document in documents:\n",
    "    pprint(document)\n",
    "\n",
    "\n"
   ]
  },
  {
   "cell_type": "markdown",
   "metadata": {},
   "source": [
    "### Task 3\n",
    "\n",
    "#### Find the Average and Standard Deviation of the age of the reviewers, grouped by gender.\n"
   ]
  },
  {
   "cell_type": "code",
   "execution_count": 40,
   "metadata": {},
   "outputs": [
    {
     "name": "stdout",
     "output_type": "stream",
     "text": [
      "{'Average': 34.149253731343286, 'StdDev': 12.347643114694364, '_id': 'M'}\n",
      "{'Average': 33.81318681318681, 'StdDev': 11.777465371497483, '_id': 'F'}\n"
     ]
    }
   ],
   "source": [
    "# Add your code below\n",
    "# -------------------------\n",
    "documents = db.user.aggregate([{\n",
    "    \"$group\": { \"_id\": \"$gender\", \"Average\": { \"$avg\": \"$age\"}, \"StdDev\": { \"$stdDevPop\": \"$age\"}}\n",
    "}]);\n",
    "\n",
    "for document in documents:\n",
    "    pprint(document)\n",
    "\n",
    "\n"
   ]
  },
  {
   "cell_type": "markdown",
   "metadata": {},
   "source": [
    "### Task 4\n",
    "\n",
    "#### Find the Average, Standard Deviation, and count of the age of the reviewers, grouped by occupation and gender.\n"
   ]
  },
  {
   "cell_type": "code",
   "execution_count": 48,
   "metadata": {},
   "outputs": [
    {
     "name": "stdout",
     "output_type": "stream",
     "text": [
      "{'Average': 37.16279069767442,\n",
      " 'StdDev': 11.288871310623597,\n",
      " '_id': {'gender': 'M', 'occupation': 'administrator'},\n",
      " 'count': 43}\n",
      "{'Average': 40.638888888888886,\n",
      " 'StdDev': 10.454007147123,\n",
      " '_id': {'gender': 'F', 'occupation': 'administrator'},\n",
      " 'count': 36}\n",
      "{'Average': 30.307692307692307,\n",
      " 'StdDev': 9.168378896927916,\n",
      " '_id': {'gender': 'F', 'occupation': 'artist'},\n",
      " 'count': 13}\n",
      "{'Average': 32.333333333333336,\n",
      " 'StdDev': 7.77746031098127,\n",
      " '_id': {'gender': 'M', 'occupation': 'artist'},\n",
      " 'count': 15}\n",
      "{'Average': 43.57142857142857,\n",
      " 'StdDev': 11.574073771730912,\n",
      " '_id': {'gender': 'M', 'occupation': 'doctor'},\n",
      " 'count': 7}\n",
      "{'Average': 43.10144927536232,\n",
      " 'StdDev': 10.67727497061641,\n",
      " '_id': {'gender': 'M', 'occupation': 'educator'},\n",
      " 'count': 69}\n",
      "{'Average': 39.11538461538461,\n",
      " 'StdDev': 8.82882918920006,\n",
      " '_id': {'gender': 'F', 'occupation': 'educator'},\n",
      " 'count': 26}\n",
      "{'Average': 29.5,\n",
      " 'StdDev': 6.5,\n",
      " '_id': {'gender': 'F', 'occupation': 'engineer'},\n",
      " 'count': 2}\n",
      "{'Average': 36.6,\n",
      " 'StdDev': 11.160093740990362,\n",
      " '_id': {'gender': 'M', 'occupation': 'engineer'},\n",
      " 'count': 65}\n",
      "{'Average': 31.0,\n",
      " 'StdDev': 7.0,\n",
      " '_id': {'gender': 'F', 'occupation': 'entertainment'},\n",
      " 'count': 2}\n",
      "{'Average': 29.0,\n",
      " 'StdDev': 10.043654713300334,\n",
      " '_id': {'gender': 'M', 'occupation': 'entertainment'},\n",
      " 'count': 16}\n",
      "{'Average': 38.172413793103445,\n",
      " 'StdDev': 10.741697565440761,\n",
      " '_id': {'gender': 'M', 'occupation': 'executive'},\n",
      " 'count': 29}\n",
      "{'Average': 44.0,\n",
      " 'StdDev': 4.08248290463863,\n",
      " '_id': {'gender': 'F', 'occupation': 'executive'},\n",
      " 'count': 3}\n",
      "{'Average': 39.81818181818182,\n",
      " 'StdDev': 10.364433781124072,\n",
      " '_id': {'gender': 'F', 'occupation': 'healthcare'},\n",
      " 'count': 11}\n",
      "{'Average': 45.4,\n",
      " 'StdDev': 11.235657524150511,\n",
      " '_id': {'gender': 'M', 'occupation': 'healthcare'},\n",
      " 'count': 5}\n",
      "{'Average': 23.0,\n",
      " 'StdDev': 0.0,\n",
      " '_id': {'gender': 'M', 'occupation': 'homemaker'},\n",
      " 'count': 1}\n",
      "{'Average': 34.166666666666664,\n",
      " 'StdDev': 9.872802146413258,\n",
      " '_id': {'gender': 'F', 'occupation': 'homemaker'},\n",
      " 'count': 6}\n",
      "{'Average': 36.2,\n",
      " 'StdDev': 10.037928073063682,\n",
      " '_id': {'gender': 'M', 'occupation': 'lawyer'},\n",
      " 'count': 10}\n",
      "{'Average': 39.5,\n",
      " 'StdDev': 11.5,\n",
      " '_id': {'gender': 'F', 'occupation': 'lawyer'},\n",
      " 'count': 2}\n",
      "{'Average': 40.0,\n",
      " 'StdDev': 10.58951986798659,\n",
      " '_id': {'gender': 'F', 'occupation': 'librarian'},\n",
      " 'count': 29}\n",
      "{'Average': 40.0,\n",
      " 'StdDev': 11.329767710047562,\n",
      " '_id': {'gender': 'M', 'occupation': 'librarian'},\n",
      " 'count': 22}\n",
      "{'Average': 37.875,\n",
      " 'StdDev': 10.319126658782709,\n",
      " '_id': {'gender': 'M', 'occupation': 'marketing'},\n",
      " 'count': 16}\n",
      "{'Average': 37.2,\n",
      " 'StdDev': 7.332121111929343,\n",
      " '_id': {'gender': 'F', 'occupation': 'marketing'},\n",
      " 'count': 10}\n",
      "{'Average': 36.5,\n",
      " 'StdDev': 11.146748404803976,\n",
      " '_id': {'gender': 'F', 'occupation': 'none'},\n",
      " 'count': 4}\n",
      "{'Average': 18.6,\n",
      " 'StdDev': 7.812809993849844,\n",
      " '_id': {'gender': 'M', 'occupation': 'none'},\n",
      " 'count': 5}\n",
      "{'Average': 34.028985507246375,\n",
      " 'StdDev': 10.914650458121796,\n",
      " '_id': {'gender': 'M', 'occupation': 'other'},\n",
      " 'count': 69}\n",
      "{'Average': 35.47222222222222,\n",
      " 'StdDev': 10.169360602404085,\n",
      " '_id': {'gender': 'F', 'occupation': 'other'},\n",
      " 'count': 36}\n",
      "{'Average': 33.21666666666667,\n",
      " 'StdDev': 9.903015814499248,\n",
      " '_id': {'gender': 'M', 'occupation': 'programmer'},\n",
      " 'count': 60}\n",
      "{'Average': 32.166666666666664,\n",
      " 'StdDev': 4.6696419087073,\n",
      " '_id': {'gender': 'F', 'occupation': 'programmer'},\n",
      " 'count': 6}\n",
      "{'Average': 62.53846153846154,\n",
      " 'StdDev': 5.4010737481667555,\n",
      " '_id': {'gender': 'M', 'occupation': 'retired'},\n",
      " 'count': 13}\n",
      "{'Average': 70.0,\n",
      " 'StdDev': 0.0,\n",
      " '_id': {'gender': 'F', 'occupation': 'retired'},\n",
      " 'count': 1}\n",
      "{'Average': 27.0,\n",
      " 'StdDev': 6.48074069840786,\n",
      " '_id': {'gender': 'F', 'occupation': 'salesman'},\n",
      " 'count': 3}\n",
      "{'Average': 38.55555555555556,\n",
      " 'StdDev': 13.961145377328952,\n",
      " '_id': {'gender': 'M', 'occupation': 'salesman'},\n",
      " 'count': 9}\n",
      "{'Average': 28.333333333333332,\n",
      " 'StdDev': 2.0548046676563256,\n",
      " '_id': {'gender': 'F', 'occupation': 'scientist'},\n",
      " 'count': 3}\n",
      "{'Average': 36.32142857142857,\n",
      " 'StdDev': 7.206413668336259,\n",
      " '_id': {'gender': 'M', 'occupation': 'scientist'},\n",
      " 'count': 28}\n",
      "{'Average': 22.669117647058822,\n",
      " 'StdDev': 5.290189514923469,\n",
      " '_id': {'gender': 'M', 'occupation': 'student'},\n",
      " 'count': 136}\n",
      "{'Average': 20.75,\n",
      " 'StdDev': 4.975355933666119,\n",
      " '_id': {'gender': 'F', 'occupation': 'student'},\n",
      " 'count': 60}\n",
      "{'Average': 38.0,\n",
      " 'StdDev': 0.0,\n",
      " '_id': {'gender': 'F', 'occupation': 'technician'},\n",
      " 'count': 1}\n",
      "{'Average': 32.96153846153846,\n",
      " 'StdDev': 9.819449965916425,\n",
      " '_id': {'gender': 'M', 'occupation': 'technician'},\n",
      " 'count': 26}\n",
      "{'Average': 35.34615384615385,\n",
      " 'StdDev': 11.983778483665414,\n",
      " '_id': {'gender': 'M', 'occupation': 'writer'},\n",
      " 'count': 26}\n",
      "{'Average': 37.63157894736842,\n",
      " 'StdDev': 10.131818178993758,\n",
      " '_id': {'gender': 'F', 'occupation': 'writer'},\n",
      " 'count': 19}\n"
     ]
    }
   ],
   "source": [
    "# Add your code below\n",
    "# -------------------------\n",
    "documents = db.user.aggregate([{\n",
    "    \"$group\": { \"_id\": {\"gender\":\"$gender\",\"occupation\":\"$occupation\"}, \n",
    "               \"Average\": { \"$avg\": \"$age\"}, \n",
    "               \"StdDev\": { \"$stdDevPop\": \"$age\"},\n",
    "               \"count\": {\"$sum\":1}}\n",
    "},{\n",
    "    \"$sort\":{\"_id.occupation\":1}\n",
    "}]);\n",
    "\n",
    "for document in documents:\n",
    "    pprint(document)\n",
    "\n"
   ]
  },
  {
   "cell_type": "code",
   "execution_count": 3,
   "metadata": {},
   "outputs": [],
   "source": [
    "# Be sure to run this cell when you are finished. Thank you.\n",
    "client.close()"
   ]
  },
  {
   "cell_type": "markdown",
   "metadata": {
    "collapsed": true
   },
   "source": [
    "# Save your notebook, then `File > Close and Halt`"
   ]
  },
  {
   "cell_type": "markdown",
   "metadata": {},
   "source": [
    "---"
   ]
  }
 ],
 "metadata": {
  "kernelspec": {
   "display_name": "Python 3",
   "language": "python",
   "name": "python3"
  },
  "language_info": {
   "codemirror_mode": {
    "name": "ipython",
    "version": 3
   },
   "file_extension": ".py",
   "mimetype": "text/x-python",
   "name": "python",
   "nbconvert_exporter": "python",
   "pygments_lexer": "ipython3",
   "version": "3.4.9"
  }
 },
 "nbformat": 4,
 "nbformat_minor": 2
}
