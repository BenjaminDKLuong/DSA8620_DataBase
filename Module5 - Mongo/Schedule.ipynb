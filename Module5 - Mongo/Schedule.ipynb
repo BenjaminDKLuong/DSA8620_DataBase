{
 "cells": [
  {
   "cell_type": "code",
   "execution_count": null,
   "metadata": {
    "collapsed": true
   },
   "outputs": [],
   "source": []
  },
  {
   "cell_type": "markdown",
   "metadata": {},
   "source": [
    "## Module 5 : NoSQL Systems\n",
    "\n",
    "**Topics Covered**  \n",
    "  1. NoSQL Systems (Not Only SQL)\n",
    "  1. Key-Value (LevelDB and LMDB)\n",
    "  1. Document Store (MongoDB)"
   ]
  },
  {
   "cell_type": "markdown",
   "metadata": {},
   "source": [
    "## Client Assignments \n",
    "\n",
    "* Client 1: Last name A - G \n",
    "* Client 2: Last name H - M\n",
    "* Client 3: Last name N - S\n",
    "* Client 4: Last name T - Y\n"
   ]
  },
  {
   "cell_type": "markdown",
   "metadata": {},
   "source": [
    "## Readings\n",
    "* [Why NoSQL Database](https://www.couchbase.com/resources/why-nosql)\n",
    "* [What is MongoDB](https://intellipaat.com/blog/what-is-mongodb/)\n",
    "* [Introduction to MongoDB and Python](https://realpython.com/introduction-to-mongodb-and-python/)"
   ]
  },
  {
   "cell_type": "markdown",
   "metadata": {},
   "source": [
    "## Videos\n",
    "* [SQL vs NoSQL](https://www.youtube.com/watch?v=ZS_kXvOeQ5Y)\n"
   ]
  },
  {
   "cell_type": "markdown",
   "metadata": {},
   "source": [
    "## Discussions\n",
    "* [Nosql vs SQL](https://missouri.instructure.com/courses/14888/discussion_topics/376792)"
   ]
  },
  {
   "cell_type": "markdown",
   "metadata": {},
   "source": [
    "## Labs\n",
    "\n",
    "* [Why NoSQL - Comparing SQLite to LMDB](./labs/LMDB.ipynb)\n",
    "* [Introduction to MongoDB](./labs/Introduction-to-MongoDB.ipynb)\n",
    "* [Aggregates](./labs/Aggregates.ipynb)\n",
    "* [Joins](./labs/Joins.ipynb)"
   ]
  },
  {
   "cell_type": "markdown",
   "metadata": {},
   "source": [
    "## Practices\n",
    "* [Searching and Aggregates](./practices/SA.ipynb)"
   ]
  },
  {
   "cell_type": "markdown",
   "metadata": {},
   "source": [
    "## Exercises\n",
    "* [Putting it all together](./exercises/PIAT.ipynb)"
   ]
  },
  {
   "cell_type": "markdown",
   "metadata": {},
   "source": [
    "## Submitting  work\n",
    "\n",
    "#### Steps:\n",
    "  1. Open Terminal in JupyterHub\n",
    "  1. Change into the course folder  \n",
    "  `cd f18dsa8620*`\n",
    "  1. Stage (Git Add) the module's exercise work   \n",
    "  `git  add  module5/practices module5/exercises`\n",
    "  1. Create your work snapshot (Git Commit)  \n",
    "  `git   commit   -m   \"Module 5 submission\"`\n",
    "  1. Upload the snapshot to the server (Git Push)  \n",
    "  `git   push`"
   ]
  }
 ],
 "metadata": {
  "kernelspec": {
   "display_name": "Python 3",
   "language": "python",
   "name": "python3"
  },
  "language_info": {
   "codemirror_mode": {
    "name": "ipython",
    "version": 3
   },
   "file_extension": ".py",
   "mimetype": "text/x-python",
   "name": "python",
   "nbconvert_exporter": "python",
   "pygments_lexer": "ipython3",
   "version": "3.4.9"
  }
 },
 "nbformat": 4,
 "nbformat_minor": 2
}
