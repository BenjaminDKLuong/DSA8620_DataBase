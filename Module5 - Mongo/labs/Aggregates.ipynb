{
 "cells": [
  {
   "cell_type": "markdown",
   "metadata": {},
   "source": [
    "# Aggregates in MongoDB\n",
    "\n",
    "In MongoDB, aggregations are handled via the so-called \"aggregation pipeline\". \n",
    "\n",
    "\n",
    "For each aggregation pipeline, there is a match stage and a group stage. \n",
    "These two stages, when combined together cleverly, \n",
    "allow for powerful aggregate expressions. \n",
    "\n",
    "Documentation for the aggregate pipeline can be found at: https://docs.mongodb.com/v3.4/core/aggregation-pipeline/ which in turn has several related links. \n",
    "If you are looking for more information, we suggest reading these pages. \n",
    "\n",
    "The examples we are providing below are largely based on the exmaples in the documentation, \n",
    "adapted for our data and extended where relevant. "
   ]
  },
  {
   "cell_type": "code",
   "execution_count": 1,
   "metadata": {
    "collapsed": true
   },
   "outputs": [],
   "source": [
    "from bson.son import SON # for ordering by more than one column\n",
    "from pprint import pprint\n",
    "from pymongo import MongoClient\n",
    "import pymongo\n",
    "\n",
    "# Initialize a Mongo Client\n",
    "#################################################\n",
    "# Update UPDATE-ME in the connection code\n",
    "#################################################\n",
    "# Client 1 - mongodb-1.dsa.missouri.edu\n",
    "# Client 2 - mongodb-2.dsa.missouri.edu\n",
    "# Client 3 - mongodb-3.dsa.missouri.edu\n",
    "# Client 4 - mongodb-4.dsa.missouri.edu\n",
    "#################################################\n",
    "#\n",
    "client = MongoClient('mongodb-2.dsa.missouri.edu',\n",
    "                     username='ml_small_reader',\n",
    "                     password='mlsmall.read',\n",
    "                     authSource='ml_small')\n",
    "# retrieve the ml_small database from the connection\n",
    "db = client.ml_small"
   ]
  },
  {
   "cell_type": "markdown",
   "metadata": {},
   "source": [
    "### Number of movies released per year\n",
    "\n",
    "Let's jump into the aggregate pipeline with a few examples, \n",
    "beginning with the number of movies released each year, ordered by date ascending."
   ]
  },
  {
   "cell_type": "code",
   "execution_count": 2,
   "metadata": {},
   "outputs": [
    {
     "data": {
      "text/plain": [
       "{'Action': 0,\n",
       " 'Adventure': 0,\n",
       " 'Animation': 0,\n",
       " \"Children's\": 1,\n",
       " 'Comedy': 1,\n",
       " 'Crime': 0,\n",
       " 'Documentary': 0,\n",
       " 'Drama': 1,\n",
       " 'Fantasy': 0,\n",
       " 'Film-Noir': 0,\n",
       " 'Horror': 0,\n",
       " 'IMDb_URL': 'http://us.imdb.com/M/title-exact?Babe%20(1995)',\n",
       " 'Musical': 0,\n",
       " 'Mystery': 0,\n",
       " 'Romance': 0,\n",
       " 'Sci-Fi': 0,\n",
       " 'Thriller': 0,\n",
       " 'War': 0,\n",
       " 'Western': 0,\n",
       " '_id': ObjectId('5b231f5ad698289b415e67f5'),\n",
       " 'movie_id': 8,\n",
       " 'movie_title': 'Babe (1995)',\n",
       " 'release_date': datetime.datetime(1995, 1, 1, 6, 0),\n",
       " 'unknown': 0,\n",
       " 'video_release_date': ''}"
      ]
     },
     "execution_count": 2,
     "metadata": {},
     "output_type": "execute_result"
    }
   ],
   "source": [
    "db.item.find_one()"
   ]
  },
  {
   "cell_type": "code",
   "execution_count": 3,
   "metadata": {
    "scrolled": true
   },
   "outputs": [
    {
     "name": "stdout",
     "output_type": "stream",
     "text": [
      "{'_id': 1922, 'count': 1}\n",
      "{'_id': 1926, 'count': 1}\n",
      "{'_id': 1930, 'count': 1}\n",
      "{'_id': 1931, 'count': 1}\n",
      "{'_id': 1932, 'count': 1}\n",
      "{'_id': 1933, 'count': 2}\n",
      "{'_id': 1934, 'count': 4}\n",
      "{'_id': 1935, 'count': 4}\n",
      "{'_id': 1936, 'count': 2}\n",
      "{'_id': 1937, 'count': 4}\n",
      "{'_id': 1938, 'count': 3}\n",
      "{'_id': 1939, 'count': 7}\n",
      "{'_id': 1940, 'count': 8}\n",
      "{'_id': 1941, 'count': 5}\n",
      "{'_id': 1942, 'count': 2}\n",
      "{'_id': 1943, 'count': 4}\n",
      "{'_id': 1944, 'count': 5}\n",
      "{'_id': 1945, 'count': 4}\n",
      "{'_id': 1946, 'count': 5}\n",
      "{'_id': 1947, 'count': 5}\n",
      "{'_id': 1948, 'count': 3}\n",
      "{'_id': 1949, 'count': 4}\n",
      "{'_id': 1950, 'count': 7}\n",
      "{'_id': 1951, 'count': 5}\n",
      "{'_id': 1952, 'count': 3}\n",
      "{'_id': 1953, 'count': 2}\n",
      "{'_id': 1954, 'count': 7}\n",
      "{'_id': 1955, 'count': 5}\n",
      "{'_id': 1956, 'count': 4}\n",
      "{'_id': 1957, 'count': 8}\n",
      "{'_id': 1958, 'count': 9}\n",
      "{'_id': 1959, 'count': 4}\n",
      "{'_id': 1960, 'count': 5}\n",
      "{'_id': 1961, 'count': 3}\n",
      "{'_id': 1962, 'count': 5}\n",
      "{'_id': 1963, 'count': 6}\n",
      "{'_id': 1964, 'count': 2}\n",
      "{'_id': 1965, 'count': 5}\n",
      "{'_id': 1966, 'count': 2}\n",
      "{'_id': 1967, 'count': 5}\n",
      "{'_id': 1968, 'count': 6}\n",
      "{'_id': 1969, 'count': 4}\n",
      "{'_id': 1970, 'count': 3}\n",
      "{'_id': 1971, 'count': 7}\n",
      "{'_id': 1972, 'count': 3}\n",
      "{'_id': 1973, 'count': 4}\n",
      "{'_id': 1974, 'count': 8}\n",
      "{'_id': 1975, 'count': 6}\n",
      "{'_id': 1976, 'count': 5}\n",
      "{'_id': 1977, 'count': 4}\n",
      "{'_id': 1978, 'count': 4}\n",
      "{'_id': 1979, 'count': 9}\n",
      "{'_id': 1980, 'count': 8}\n",
      "{'_id': 1981, 'count': 12}\n",
      "{'_id': 1982, 'count': 13}\n",
      "{'_id': 1983, 'count': 5}\n",
      "{'_id': 1984, 'count': 8}\n",
      "{'_id': 1985, 'count': 7}\n",
      "{'_id': 1986, 'count': 15}\n",
      "{'_id': 1987, 'count': 13}\n",
      "{'_id': 1988, 'count': 11}\n",
      "{'_id': 1989, 'count': 15}\n",
      "{'_id': 1990, 'count': 24}\n",
      "{'_id': 1991, 'count': 22}\n",
      "{'_id': 1992, 'count': 37}\n",
      "{'_id': 1993, 'count': 126}\n",
      "{'_id': 1994, 'count': 214}\n",
      "{'_id': 1995, 'count': 219}\n",
      "{'_id': 1996, 'count': 355}\n",
      "{'_id': 1997, 'count': 286}\n",
      "{'_id': 1998, 'count': 65}\n"
     ]
    }
   ],
   "source": [
    "pipeline = [\n",
    "    {\"$group\" : { \"_id\" : {\"$year\": \"$release_date\"} , \"count\" : { \"$sum\" : 1 }}},\n",
    "    {\"$sort\": { \"_id\": 1 }}\n",
    "]\n",
    "for doc in db.item.aggregate(pipeline):\n",
    "    print(doc)"
   ]
  },
  {
   "cell_type": "markdown",
   "metadata": {
    "collapsed": true
   },
   "source": [
    "### Number of movies released per year: Top 10 years, ordered by count.\n"
   ]
  },
  {
   "cell_type": "code",
   "execution_count": 4,
   "metadata": {},
   "outputs": [
    {
     "name": "stdout",
     "output_type": "stream",
     "text": [
      "{'_id': 1996, 'count': 355}\n",
      "{'_id': 1997, 'count': 286}\n",
      "{'_id': 1995, 'count': 219}\n",
      "{'_id': 1994, 'count': 214}\n",
      "{'_id': 1993, 'count': 126}\n",
      "{'_id': 1998, 'count': 65}\n",
      "{'_id': 1992, 'count': 37}\n",
      "{'_id': 1990, 'count': 24}\n",
      "{'_id': 1991, 'count': 22}\n",
      "{'_id': 1989, 'count': 15}\n"
     ]
    }
   ],
   "source": [
    "pipeline = [\n",
    "    {\"$group\" : { \"_id\" : {\"$year\": \"$release_date\"} , \"count\" : { \"$sum\" : 1 }}},\n",
    "    {\"$sort\": { \"count\": -1 }},\n",
    "    {\"$limit\": 10}\n",
    "]\n",
    "\n",
    "for doc in db.item.aggregate(pipeline):\n",
    "    print(doc)"
   ]
  },
  {
   "cell_type": "markdown",
   "metadata": {},
   "source": [
    "**The above query: **\n",
    " 1. Groups the information based on the year of release, calculated using `$year` command and the date.  \n",
    " 1. Creates a new field called \"count\" whose value comes from the `$sum` directive\n",
    " 1. Sort the rows based on the count field in descending order\n",
    " 1. Limit the results to 10 documents."
   ]
  },
  {
   "cell_type": "markdown",
   "metadata": {},
   "source": [
    "### Number of movies released for each month, sorted most to fewest\n"
   ]
  },
  {
   "cell_type": "code",
   "execution_count": 5,
   "metadata": {},
   "outputs": [
    {
     "name": "stdout",
     "output_type": "stream",
     "text": [
      "{'_id': 1, 'count': 1140}\n",
      "{'_id': 3, 'count': 77}\n",
      "{'_id': 2, 'count': 67}\n",
      "{'_id': 4, 'count': 62}\n",
      "{'_id': 5, 'count': 59}\n",
      "{'_id': 8, 'count': 48}\n",
      "{'_id': 6, 'count': 48}\n",
      "{'_id': 10, 'count': 42}\n",
      "{'_id': 12, 'count': 38}\n",
      "{'_id': 9, 'count': 38}\n",
      "{'_id': 7, 'count': 33}\n",
      "{'_id': 11, 'count': 29}\n"
     ]
    }
   ],
   "source": [
    "pipeline = [\n",
    "    {\"$group\" : { \"_id\" : {\"$month\": \"$release_date\"} , \"count\" : { \"$sum\" : 1 }}},\n",
    "    {\"$sort\": { \"count\": -1 }}\n",
    "]\n",
    "\n",
    "for doc in db.item.aggregate(pipeline):\n",
    "    print(doc)"
   ]
  },
  {
   "cell_type": "markdown",
   "metadata": {},
   "source": [
    "As you can see, most of the documents in our dataset were released in Janurary. \n",
    "Now is a good time to highlight the fact that our data may not represent the reality.\n",
    "Seeing such a huge bias for the first month in the year suggest that movies which the data\n",
    "collectors could not find a specific release date for probably ended up with Janurary as the default date. \n",
    "\n",
    "Let's explore this idea by looking at the same breakdown, but based on day."
   ]
  },
  {
   "cell_type": "code",
   "execution_count": 6,
   "metadata": {},
   "outputs": [
    {
     "name": "stdout",
     "output_type": "stream",
     "text": [
      "{'_id': 1, 'count': 1121}\n",
      "{'_id': 16, 'count': 32}\n",
      "{'_id': 23, 'count': 28}\n",
      "{'_id': 20, 'count': 28}\n",
      "{'_id': 25, 'count': 26}\n",
      "{'_id': 13, 'count': 26}\n",
      "{'_id': 27, 'count': 25}\n",
      "{'_id': 9, 'count': 24}\n",
      "{'_id': 14, 'count': 23}\n",
      "{'_id': 26, 'count': 23}\n",
      "{'_id': 6, 'count': 23}\n",
      "{'_id': 22, 'count': 22}\n",
      "{'_id': 10, 'count': 22}\n",
      "{'_id': 8, 'count': 21}\n",
      "{'_id': 30, 'count': 21}\n",
      "{'_id': 2, 'count': 20}\n",
      "{'_id': 11, 'count': 19}\n",
      "{'_id': 4, 'count': 18}\n",
      "{'_id': 18, 'count': 17}\n",
      "{'_id': 19, 'count': 17}\n",
      "{'_id': 29, 'count': 15}\n",
      "{'_id': 7, 'count': 15}\n",
      "{'_id': 12, 'count': 15}\n",
      "{'_id': 28, 'count': 14}\n",
      "{'_id': 21, 'count': 13}\n",
      "{'_id': 17, 'count': 9}\n",
      "{'_id': 15, 'count': 9}\n",
      "{'_id': 5, 'count': 9}\n",
      "{'_id': 3, 'count': 9}\n",
      "{'_id': 31, 'count': 9}\n",
      "{'_id': 24, 'count': 8}\n"
     ]
    }
   ],
   "source": [
    "pipeline = [\n",
    "    {\"$group\" : { \"_id\" : {\"$dayOfMonth\": \"$release_date\"} , \"count\" : { \"$sum\" : 1 }}},\n",
    "    {\"$sort\": { \"count\": -1 }}\n",
    "]\n",
    "\n",
    "for doc in db.item.aggregate(pipeline):\n",
    "    print(doc)"
   ]
  },
  {
   "cell_type": "markdown",
   "metadata": {},
   "source": [
    "With 1121 entries having their release date by the first day of the month, \n",
    "it would seem our suspicions are founded. \n",
    "\n",
    "As just one more example of aggregation with filtering, \n",
    "let's count the number of movies per relese day, where the release month is January."
   ]
  },
  {
   "cell_type": "code",
   "execution_count": 7,
   "metadata": {},
   "outputs": [
    {
     "name": "stdout",
     "output_type": "stream",
     "text": [
      "{'_id': 1, 'count': 1097}\n",
      "{'_id': 10, 'count': 7}\n",
      "{'_id': 16, 'count': 7}\n",
      "{'_id': 24, 'count': 5}\n",
      "{'_id': 30, 'count': 5}\n",
      "{'_id': 31, 'count': 4}\n",
      "{'_id': 9, 'count': 4}\n",
      "{'_id': 17, 'count': 4}\n",
      "{'_id': 29, 'count': 2}\n",
      "{'_id': 23, 'count': 2}\n",
      "{'_id': 15, 'count': 1}\n",
      "{'_id': 21, 'count': 1}\n",
      "{'_id': 22, 'count': 1}\n"
     ]
    }
   ],
   "source": [
    "pipeline = [\n",
    "    {\"$project\": {\n",
    "        \"_id\": {\"$dayOfMonth\": \"$release_date\"}, \n",
    "        \"monthReleased\": {\"$month\": \"$release_date\"}\n",
    "    }},\n",
    "    {\"$match\": {\"monthReleased\": 1}},\n",
    "    {\"$group\" : { \"_id\" : \"$_id\" , \"count\" : { \"$sum\" : 1 }}},\n",
    "    {\"$sort\": { \"count\": -1 }}\n",
    "]\n",
    "\n",
    "for doc in db.item.aggregate(pipeline):\n",
    "    print(doc)"
   ]
  },
  {
   "cell_type": "markdown",
   "metadata": {},
   "source": [
    "**The above pipeline:**\n",
    " 1. Sets the \\_id field to the result of the `$dayOfMonth` operation on the `$releaseDate` field.\n",
    " 1. Calculates a new value to be used for matching, to filter our documents to only those where the match condition is met. This value is the month of the release date.\n",
    " 1. Limits our results using `$match` to those documents that meet the filter.\n",
    " 1. Groups the remaining documents by their release day (of the month) and adds a count field. \n",
    " 1. Sorts the collection in descending order based on the count field."
   ]
  },
  {
   "cell_type": "markdown",
   "metadata": {},
   "source": [
    "There are even more powerful things you can do with the aggregation pipeline.\n",
    "In fact, if you can think of something you want to know about the data, \n",
    "there is almost definitely a way to get the answer using the aggregate pipeline. "
   ]
  },
  {
   "cell_type": "markdown",
   "metadata": {},
   "source": [
    "## <span style=\"background:yellow\">Your Turn</span>\n",
    "\n",
    "Complete following lab work to gain hands-on experience with the Aggregate Pipeline.\n",
    "**Make sure that you have ran the above cells, and have a connection to the DB!**\n",
    "\n",
    "### Task 1\n",
    "\n",
    "#### Get counts of movies based on combinations of (Action, Adventure) genres. \n",
    "This means that your result should have 4 documents."
   ]
  },
  {
   "cell_type": "code",
   "execution_count": 27,
   "metadata": {
    "scrolled": true
   },
   "outputs": [
    {
     "name": "stdout",
     "output_type": "stream",
     "text": [
      "{'_id': {'Action': 0, 'Adventure': 0}, 'count': 1370}\n",
      "{'_id': {'Action': 1, 'Adventure': 0}, 'count': 176}\n",
      "{'_id': {'Action': 1, 'Adventure': 1}, 'count': 75}\n",
      "{'_id': {'Action': 0, 'Adventure': 1}, 'count': 60}\n"
     ]
    }
   ],
   "source": [
    "# Add your code below\n",
    "# -------------------------\n",
    "\n",
    "\n",
    "pipeline = [\n",
    "    \n",
    "    #{\"$match\": {\"Action\": 1,\"Adventure\": 1}},\n",
    "    {\"$group\" : { \"_id\" : { 'Action': \"$Action\", 'Adventure': \"$Adventure\" }, \"count\" : { \"$sum\" : 1 }}},\n",
    "    {\"$sort\": { \"count\": -1 }}\n",
    "]\n",
    "\n",
    "for doc in db.item.aggregate(pipeline):\n",
    "    print(doc)"
   ]
  },
  {
   "cell_type": "code",
   "execution_count": null,
   "metadata": {
    "collapsed": true
   },
   "outputs": [],
   "source": [
    "db.item.find_one()"
   ]
  },
  {
   "cell_type": "markdown",
   "metadata": {},
   "source": [
    "### Task 2\n",
    "\n",
    "#### Get counts of reviewers based on gender.\n",
    "Use the `user` collection. Explore this collection using find_one() if necessary."
   ]
  },
  {
   "cell_type": "code",
   "execution_count": 21,
   "metadata": {},
   "outputs": [
    {
     "name": "stdout",
     "output_type": "stream",
     "text": [
      "{'_id': 'M', 'count': 670}\n",
      "{'_id': 'F', 'count': 273}\n"
     ]
    }
   ],
   "source": [
    "# Add your code below\n",
    "# -------------------------\n",
    "pipeline = [\n",
    "    \n",
    "    {\"$group\" : { \"_id\" : \"$gender\" , \"count\" : { \"$sum\" : 1 }}},\n",
    "    {\"$sort\": { \"count\": -1 }}\n",
    "]\n",
    "\n",
    "for doc in db.user.aggregate(pipeline):\n",
    "    print(doc)\n",
    "\n",
    "\n"
   ]
  },
  {
   "cell_type": "code",
   "execution_count": 20,
   "metadata": {},
   "outputs": [
    {
     "data": {
      "text/plain": [
       "{'_id': ObjectId('5b18e2b3d698289b41f3cf1a'),\n",
       " 'age': 33,\n",
       " 'gender': 'F',\n",
       " 'occupation': 'other',\n",
       " 'user_id': 5,\n",
       " 'zip_code': 15213}"
      ]
     },
     "execution_count": 20,
     "metadata": {},
     "output_type": "execute_result"
    }
   ],
   "source": [
    "db.user.find_one()"
   ]
  },
  {
   "cell_type": "markdown",
   "metadata": {},
   "source": [
    "### Task 3\n",
    "\n",
    "#### Get counts of reviewers, grouped by gender and age.\n",
    "To sort by both gender and age, you will need to use __[SON](https://stackoverflow.com/questions/36566166/sort-the-result-from-a-pymongo-query#36566229)__."
   ]
  },
  {
   "cell_type": "code",
   "execution_count": 5,
   "metadata": {},
   "outputs": [
    {
     "name": "stdout",
     "output_type": "stream",
     "text": [
      "{'_id': {'age': 7, 'gender': 'M'}, 'count': 1}\n",
      "{'_id': {'age': 10, 'gender': 'M'}, 'count': 1}\n",
      "{'_id': {'age': 11, 'gender': 'M'}, 'count': 1}\n",
      "{'_id': {'age': 13, 'gender': 'F'}, 'count': 2}\n",
      "{'_id': {'age': 13, 'gender': 'M'}, 'count': 3}\n",
      "{'_id': {'age': 14, 'gender': 'F'}, 'count': 3}\n",
      "{'_id': {'age': 15, 'gender': 'F'}, 'count': 3}\n",
      "{'_id': {'age': 15, 'gender': 'M'}, 'count': 3}\n",
      "{'_id': {'age': 16, 'gender': 'F'}, 'count': 2}\n",
      "{'_id': {'age': 16, 'gender': 'M'}, 'count': 3}\n",
      "{'_id': {'age': 17, 'gender': 'F'}, 'count': 3}\n",
      "{'_id': {'age': 17, 'gender': 'M'}, 'count': 11}\n",
      "{'_id': {'age': 18, 'gender': 'F'}, 'count': 11}\n",
      "{'_id': {'age': 18, 'gender': 'M'}, 'count': 7}\n",
      "{'_id': {'age': 19, 'gender': 'F'}, 'count': 8}\n",
      "{'_id': {'age': 19, 'gender': 'M'}, 'count': 15}\n",
      "{'_id': {'age': 20, 'gender': 'F'}, 'count': 10}\n",
      "{'_id': {'age': 20, 'gender': 'M'}, 'count': 22}\n",
      "{'_id': {'age': 21, 'gender': 'F'}, 'count': 7}\n",
      "{'_id': {'age': 21, 'gender': 'M'}, 'count': 20}\n",
      "{'_id': {'age': 22, 'gender': 'F'}, 'count': 7}\n",
      "{'_id': {'age': 22, 'gender': 'M'}, 'count': 30}\n",
      "{'_id': {'age': 23, 'gender': 'F'}, 'count': 6}\n",
      "{'_id': {'age': 23, 'gender': 'M'}, 'count': 22}\n",
      "{'_id': {'age': 24, 'gender': 'F'}, 'count': 6}\n",
      "{'_id': {'age': 24, 'gender': 'M'}, 'count': 27}\n",
      "{'_id': {'age': 25, 'gender': 'F'}, 'count': 8}\n",
      "{'_id': {'age': 25, 'gender': 'M'}, 'count': 30}\n",
      "{'_id': {'age': 26, 'gender': 'F'}, 'count': 9}\n",
      "{'_id': {'age': 26, 'gender': 'M'}, 'count': 25}\n",
      "{'_id': {'age': 27, 'gender': 'F'}, 'count': 10}\n",
      "{'_id': {'age': 27, 'gender': 'M'}, 'count': 25}\n",
      "{'_id': {'age': 28, 'gender': 'F'}, 'count': 10}\n",
      "{'_id': {'age': 28, 'gender': 'M'}, 'count': 26}\n",
      "{'_id': {'age': 29, 'gender': 'F'}, 'count': 12}\n",
      "{'_id': {'age': 29, 'gender': 'M'}, 'count': 20}\n",
      "{'_id': {'age': 30, 'gender': 'F'}, 'count': 12}\n",
      "{'_id': {'age': 30, 'gender': 'M'}, 'count': 27}\n",
      "{'_id': {'age': 31, 'gender': 'F'}, 'count': 6}\n",
      "{'_id': {'age': 31, 'gender': 'M'}, 'count': 19}\n",
      "{'_id': {'age': 32, 'gender': 'F'}, 'count': 5}\n",
      "{'_id': {'age': 32, 'gender': 'M'}, 'count': 23}\n",
      "{'_id': {'age': 33, 'gender': 'F'}, 'count': 6}\n",
      "{'_id': {'age': 33, 'gender': 'M'}, 'count': 20}\n",
      "{'_id': {'age': 34, 'gender': 'F'}, 'count': 1}\n",
      "{'_id': {'age': 34, 'gender': 'M'}, 'count': 16}\n",
      "{'_id': {'age': 35, 'gender': 'F'}, 'count': 11}\n",
      "{'_id': {'age': 35, 'gender': 'M'}, 'count': 16}\n",
      "{'_id': {'age': 36, 'gender': 'F'}, 'count': 7}\n",
      "{'_id': {'age': 36, 'gender': 'M'}, 'count': 14}\n",
      "{'_id': {'age': 37, 'gender': 'F'}, 'count': 6}\n",
      "{'_id': {'age': 37, 'gender': 'M'}, 'count': 13}\n",
      "{'_id': {'age': 38, 'gender': 'F'}, 'count': 7}\n",
      "{'_id': {'age': 38, 'gender': 'M'}, 'count': 10}\n",
      "{'_id': {'age': 39, 'gender': 'F'}, 'count': 5}\n",
      "{'_id': {'age': 39, 'gender': 'M'}, 'count': 17}\n",
      "{'_id': {'age': 40, 'gender': 'F'}, 'count': 7}\n",
      "{'_id': {'age': 40, 'gender': 'M'}, 'count': 14}\n",
      "{'_id': {'age': 41, 'gender': 'F'}, 'count': 3}\n",
      "{'_id': {'age': 41, 'gender': 'M'}, 'count': 7}\n",
      "{'_id': {'age': 42, 'gender': 'F'}, 'count': 5}\n",
      "{'_id': {'age': 42, 'gender': 'M'}, 'count': 16}\n",
      "{'_id': {'age': 43, 'gender': 'F'}, 'count': 6}\n",
      "{'_id': {'age': 43, 'gender': 'M'}, 'count': 7}\n",
      "{'_id': {'age': 44, 'gender': 'F'}, 'count': 12}\n",
      "{'_id': {'age': 44, 'gender': 'M'}, 'count': 11}\n",
      "{'_id': {'age': 45, 'gender': 'F'}, 'count': 2}\n",
      "{'_id': {'age': 45, 'gender': 'M'}, 'count': 13}\n",
      "{'_id': {'age': 46, 'gender': 'F'}, 'count': 2}\n",
      "{'_id': {'age': 46, 'gender': 'M'}, 'count': 10}\n",
      "{'_id': {'age': 47, 'gender': 'F'}, 'count': 3}\n",
      "{'_id': {'age': 47, 'gender': 'M'}, 'count': 11}\n",
      "{'_id': {'age': 48, 'gender': 'F'}, 'count': 7}\n",
      "{'_id': {'age': 48, 'gender': 'M'}, 'count': 13}\n",
      "{'_id': {'age': 49, 'gender': 'F'}, 'count': 9}\n",
      "{'_id': {'age': 49, 'gender': 'M'}, 'count': 10}\n",
      "{'_id': {'age': 50, 'gender': 'F'}, 'count': 9}\n",
      "{'_id': {'age': 50, 'gender': 'M'}, 'count': 11}\n",
      "{'_id': {'age': 51, 'gender': 'F'}, 'count': 7}\n",
      "{'_id': {'age': 51, 'gender': 'M'}, 'count': 13}\n",
      "{'_id': {'age': 52, 'gender': 'F'}, 'count': 2}\n",
      "{'_id': {'age': 52, 'gender': 'M'}, 'count': 4}\n",
      "{'_id': {'age': 53, 'gender': 'F'}, 'count': 5}\n",
      "{'_id': {'age': 53, 'gender': 'M'}, 'count': 7}\n",
      "{'_id': {'age': 54, 'gender': 'F'}, 'count': 2}\n",
      "{'_id': {'age': 54, 'gender': 'M'}, 'count': 2}\n",
      "{'_id': {'age': 55, 'gender': 'F'}, 'count': 2}\n",
      "{'_id': {'age': 55, 'gender': 'M'}, 'count': 9}\n",
      "{'_id': {'age': 56, 'gender': 'F'}, 'count': 2}\n",
      "{'_id': {'age': 56, 'gender': 'M'}, 'count': 4}\n",
      "{'_id': {'age': 57, 'gender': 'F'}, 'count': 1}\n",
      "{'_id': {'age': 57, 'gender': 'M'}, 'count': 8}\n",
      "{'_id': {'age': 58, 'gender': 'M'}, 'count': 3}\n",
      "{'_id': {'age': 59, 'gender': 'F'}, 'count': 2}\n",
      "{'_id': {'age': 59, 'gender': 'M'}, 'count': 1}\n",
      "{'_id': {'age': 60, 'gender': 'M'}, 'count': 9}\n",
      "{'_id': {'age': 61, 'gender': 'M'}, 'count': 3}\n",
      "{'_id': {'age': 62, 'gender': 'F'}, 'count': 1}\n",
      "{'_id': {'age': 62, 'gender': 'M'}, 'count': 1}\n",
      "{'_id': {'age': 63, 'gender': 'M'}, 'count': 3}\n",
      "{'_id': {'age': 64, 'gender': 'M'}, 'count': 2}\n",
      "{'_id': {'age': 65, 'gender': 'M'}, 'count': 3}\n",
      "{'_id': {'age': 66, 'gender': 'M'}, 'count': 1}\n",
      "{'_id': {'age': 68, 'gender': 'M'}, 'count': 2}\n",
      "{'_id': {'age': 69, 'gender': 'M'}, 'count': 2}\n",
      "{'_id': {'age': 70, 'gender': 'F'}, 'count': 1}\n",
      "{'_id': {'age': 70, 'gender': 'M'}, 'count': 2}\n",
      "{'_id': {'age': 73, 'gender': 'M'}, 'count': 1}\n"
     ]
    }
   ],
   "source": [
    "# Add your code below\n",
    "# -------------------------\n",
    "from bson.son import SON\n",
    "pipeline = [\n",
    "    \n",
    "    {\"$group\" : { \n",
    "                    \"_id\" : {\"gender\":\"$gender\",\"age\":\"$age\" } , \n",
    "                    \"count\" : { \"$sum\" : 1 }\n",
    "                }\n",
    "    },\n",
    "    {\"$sort\": SON([( \"_id.age\", 1 ),( \"_id.gender\", 1 )])}\n",
    "]\n",
    "\n",
    "for doc in db.user.aggregate(pipeline):\n",
    "    print(doc)\n",
    "\n"
   ]
  },
  {
   "cell_type": "code",
   "execution_count": 20,
   "metadata": {},
   "outputs": [
    {
     "data": {
      "text/plain": [
       "{'_id': ObjectId('5b18e2b3d698289b41f3cf1a'),\n",
       " 'age': 33,\n",
       " 'gender': 'F',\n",
       " 'occupation': 'other',\n",
       " 'user_id': 5,\n",
       " 'zip_code': 15213}"
      ]
     },
     "execution_count": 20,
     "metadata": {},
     "output_type": "execute_result"
    }
   ],
   "source": [
    "db.user.find_one()"
   ]
  },
  {
   "cell_type": "code",
   "execution_count": null,
   "metadata": {
    "collapsed": true
   },
   "outputs": [],
   "source": [
    "# Be sure to run this cell when you are finished. Thank you.\n",
    "client.close()"
   ]
  },
  {
   "cell_type": "markdown",
   "metadata": {},
   "source": [
    "# Save your notebook, then `File > Close and Halt`"
   ]
  },
  {
   "cell_type": "markdown",
   "metadata": {},
   "source": [
    "---"
   ]
  }
 ],
 "metadata": {
  "kernelspec": {
   "display_name": "Python 3",
   "language": "python",
   "name": "python3"
  },
  "language_info": {
   "codemirror_mode": {
    "name": "ipython",
    "version": 3
   },
   "file_extension": ".py",
   "mimetype": "text/x-python",
   "name": "python",
   "nbconvert_exporter": "python",
   "pygments_lexer": "ipython3",
   "version": "3.4.9"
  }
 },
 "nbformat": 4,
 "nbformat_minor": 2
}
