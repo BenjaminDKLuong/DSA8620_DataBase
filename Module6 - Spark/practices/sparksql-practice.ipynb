{
 "cells": [
  {
   "cell_type": "markdown",
   "metadata": {},
   "source": [
    "<div style=\"color:red;font-weight:bold;background:yellow;text-align:center;padding:10px;border:solid\">\n",
    "    <h1>RUN IN EMR CLUSTER ONLY</h1>\n",
    "    If the URL of the current page does not begin with \"ec2\", then do **NOT** proceed!\n",
    "</div>"
   ]
  },
  {
   "cell_type": "markdown",
   "metadata": {
    "collapsed": true
   },
   "source": [
    "# SparkSQL Practice\n",
    "In this practice, you will use the tools you learned in the readings and labs to perform some dataset querying."
   ]
  },
  {
   "cell_type": "markdown",
   "metadata": {},
   "source": [
    "## Connecting to PySpark"
   ]
  },
  {
   "cell_type": "code",
   "execution_count": 1,
   "metadata": {
    "scrolled": true
   },
   "outputs": [],
   "source": [
    "name = !hostname\n",
    "if \"dsa\" in name[0]:\n",
    "    raise RuntimeError(\"Only run this notebook in the EMR Cluster!\")\n",
    "import findspark\n",
    "findspark.init()\n",
    "from pyspark import SparkContext, SparkConf\n",
    "\n",
    "conf = SparkConf().setAppName(\"pyspark-lab\")\n",
    "sc = SparkContext(conf=conf)"
   ]
  },
  {
   "cell_type": "markdown",
   "metadata": {},
   "source": [
    "## 1\n",
    "Load the Datset \n",
    "\n",
    "For this part, we will use the Titanic Dataset, located at `/datasets/titanic.csv`. Ingest this dataset in the cell below"
   ]
  },
  {
   "cell_type": "code",
   "execution_count": 2,
   "metadata": {},
   "outputs": [],
   "source": [
    "from pyspark.sql import SQLContext\n",
    "\n",
    "# To use Spark SQL we create a SQLContext from SparkContext\n",
    "sqlContext = SQLContext(sc)\n",
    "\n",
    "# Location of the dataset on HDFS\n",
    "DATASET = '/datasets/titanic.csv'\n",
    "\n",
    "df = sqlContext.read.format('com.databricks.spark.csv').options(\n",
    "    header='true', inferschema='true').load(DATASET)"
   ]
  },
  {
   "cell_type": "code",
   "execution_count": 3,
   "metadata": {},
   "outputs": [
    {
     "data": {
      "text/plain": [
       "Row(pclass=3, sex=1, age=38.0, sibsp=0, parch=0, fare=7.8958, embarked=1, survived=0)"
      ]
     },
     "execution_count": 3,
     "metadata": {},
     "output_type": "execute_result"
    }
   ],
   "source": [
    "df.head()"
   ]
  },
  {
   "cell_type": "code",
   "execution_count": 4,
   "metadata": {},
   "outputs": [],
   "source": [
    "df.createOrReplaceTempView(\"database\")"
   ]
  },
  {
   "cell_type": "markdown",
   "metadata": {},
   "source": [
    "## 2\n",
    "What was the average age?"
   ]
  },
  {
   "cell_type": "code",
   "execution_count": 5,
   "metadata": {},
   "outputs": [
    {
     "name": "stdout",
     "output_type": "stream",
     "text": [
      "+------------------+\n",
      "|          avg(age)|\n",
      "+------------------+\n",
      "|29.548696629213484|\n",
      "+------------------+\n",
      "\n"
     ]
    }
   ],
   "source": [
    "query = \"SELECT AVG(age) FROM database\"\n",
    "sqlContext.sql(query).show()"
   ]
  },
  {
   "cell_type": "markdown",
   "metadata": {},
   "source": [
    "## 3\n",
    "Show the average `fare` per `pclass` and order it by the average `fare` from highest to lowest"
   ]
  },
  {
   "cell_type": "code",
   "execution_count": 6,
   "metadata": {},
   "outputs": [
    {
     "name": "stdout",
     "output_type": "stream",
     "text": [
      "+------+------------------+\n",
      "|pclass|           average|\n",
      "+------+------------------+\n",
      "|     1| 88.19726064814813|\n",
      "|     2|20.172962222222225|\n",
      "|     3|13.297156477732804|\n",
      "+------+------------------+\n",
      "\n"
     ]
    }
   ],
   "source": [
    "query = \"SELECT pclass,AVG(fare) as average FROM database GROUP BY pclass ORDER BY average DESC\"\n",
    "\n",
    "sqlContext.sql(query).show()"
   ]
  },
  {
   "cell_type": "markdown",
   "metadata": {},
   "source": [
    "## 4\n",
    "What is the average fare for men (sex = 1) in their 20s?"
   ]
  },
  {
   "cell_type": "code",
   "execution_count": 7,
   "metadata": {},
   "outputs": [
    {
     "name": "stdout",
     "output_type": "stream",
     "text": [
      "+------------------+\n",
      "|           average|\n",
      "+------------------+\n",
      "|17.192192063492058|\n",
      "+------------------+\n",
      "\n"
     ]
    }
   ],
   "source": [
    "query = \"SELECT AVG(fare) as average FROM database where (age < 30 AND age >19) AND sex =1 \"\n",
    "\n",
    "sqlContext.sql(query).show()"
   ]
  },
  {
   "cell_type": "markdown",
   "metadata": {},
   "source": [
    "## 5\n",
    "What is the ratio of men to women per class?"
   ]
  },
  {
   "cell_type": "code",
   "execution_count": 8,
   "metadata": {},
   "outputs": [
    {
     "name": "stdout",
     "output_type": "stream",
     "text": [
      "+------+------------------+\n",
      "|pclass|             ratio|\n",
      "+------+------------------+\n",
      "|     1|1.3225806451612903|\n",
      "|     2|1.5714285714285714|\n",
      "|     3|2.1870967741935483|\n",
      "+------+------------------+\n",
      "\n"
     ]
    }
   ],
   "source": [
    "query = \"\"\"\n",
    "SELECT pclass,sum(case when sex = 1 then 1 else 0 end)/ sum(case when sex = 0 then 1 else 0 end) as ratio\n",
    "FROM database \n",
    "GROUP BY pclass\n",
    "ORDER BY pclass\n",
    "\"\"\"\n",
    "\n",
    "sqlContext.sql(query).show()\n"
   ]
  },
  {
   "cell_type": "markdown",
   "metadata": {},
   "source": [
    "## 6\n",
    "What percentage of women (sex = 0) survived in class 3?\n",
    "\n",
    "Hint: You may need 2 separate queries. If your query returns one number, you can fetch it by turning the SQL result into a pandas dataframe and then using `df.iloc[0,0]`"
   ]
  },
  {
   "cell_type": "code",
   "execution_count": 9,
   "metadata": {},
   "outputs": [
    {
     "name": "stdout",
     "output_type": "stream",
     "text": [
      "50.97%\n"
     ]
    }
   ],
   "source": [
    "query1 = \"SELECT count(*) FROM database WHERE sex = 0 AND pclass=3\"\n",
    "query2 = \"SELECT count(*) FROM database WHERE sex = 0 AND pclass=3 AND survived =1\"\n",
    "\n",
    "df = sqlContext.sql(query1).toPandas()\n",
    "total = df.iloc[0,0]\n",
    "\n",
    "df = sqlContext.sql(query2).toPandas()\n",
    "survived = df.iloc[0,0]\n",
    "\n",
    "pct = survived / total * 100\n",
    "print(\"{:.2f}%\".format(pct))"
   ]
  },
  {
   "cell_type": "markdown",
   "metadata": {},
   "source": [
    "## 7\n",
    "What is the average age per class?"
   ]
  },
  {
   "cell_type": "code",
   "execution_count": 10,
   "metadata": {
    "scrolled": true
   },
   "outputs": [
    {
     "name": "stdout",
     "output_type": "stream",
     "text": [
      "+------+------------------+\n",
      "|pclass|          avg(age)|\n",
      "+------+------------------+\n",
      "|     1|37.988055555555555|\n",
      "|     2|29.550944444444443|\n",
      "|     3|25.857793522267208|\n",
      "+------+------------------+\n",
      "\n"
     ]
    }
   ],
   "source": [
    "query = \"\"\"\n",
    "SELECT pclass,avg(age)\n",
    "FROM database \n",
    "GROUP BY pclass\n",
    "ORDER BY pclass\n",
    "\"\"\"\n",
    "\n",
    "sqlContext.sql(query).show()\n"
   ]
  },
  {
   "cell_type": "code",
   "execution_count": null,
   "metadata": {},
   "outputs": [],
   "source": []
  }
 ],
 "metadata": {
  "kernelspec": {
   "display_name": "Python 3",
   "language": "python",
   "name": "python3"
  },
  "language_info": {
   "codemirror_mode": {
    "name": "ipython",
    "version": 3
   },
   "file_extension": ".py",
   "mimetype": "text/x-python",
   "name": "python",
   "nbconvert_exporter": "python",
   "pygments_lexer": "ipython3",
   "version": "3.4.8"
  }
 },
 "nbformat": 4,
 "nbformat_minor": 2
}
