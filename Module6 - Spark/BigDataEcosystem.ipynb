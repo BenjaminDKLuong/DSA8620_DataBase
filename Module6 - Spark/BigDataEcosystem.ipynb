{
 "cells": [
  {
   "cell_type": "markdown",
   "metadata": {},
   "source": [
    "# Big Data Ecosystem\n",
    "\n",
    "This notebook will be used to set up and enter into your own EMR Cluster to work on this module\n",
    "\n",
    "**What is EMR?**\n",
    "\n",
    "EMR is an Amazon Web Service Elastic Map Reduce cluster. In order for you to go through labs, practices, and exercises in this module, you will have to go through this notebook first.\n",
    "\n",
    "### Creating an EMR Cluster"
   ]
  },
  {
   "cell_type": "markdown",
   "metadata": {},
   "source": [
    "#### 1. Run the following cell to import the library needed to create an EMR cluster on the fly"
   ]
  },
  {
   "cell_type": "code",
   "execution_count": 7,
   "metadata": {
    "collapsed": true,
    "scrolled": true
   },
   "outputs": [],
   "source": [
    "name = !hostname\n",
    "if \"dsa\" not in name[0]:\n",
    "    raise RuntimeError(\"Only run this notebook on jupyterhub.dsa.missouri.edu\")\n",
    "import sys\n",
    "sys.path.append('/dsa/data/scripts')\n",
    "import dsa_automation"
   ]
  },
  {
   "cell_type": "markdown",
   "metadata": {},
   "source": [
    "#### 2. Create the cluster\n",
    "The following cell will show you the clusters that have been started by this notebook, and allow you to create a new one.\n",
    "Click `New EMR Cluster` exactly one time, and **DO NOT CLICK ANYTHING ELSE OR RUN ANY OTHER CELL** until you see \"Everything is ready!\" in the cell output. **This will take about 15 to 20 minutes to run.**"
   ]
  },
  {
   "cell_type": "code",
   "execution_count": 8,
   "metadata": {
    "scrolled": true
   },
   "outputs": [
    {
     "data": {
      "text/html": [
       "<table border=\"1\" class=\"dataframe\">\n",
       "  <thead>\n",
       "    <tr style=\"text-align: right;\">\n",
       "      <th></th>\n",
       "      <th>cluster_id</th>\n",
       "      <th>time</th>\n",
       "      <th>state</th>\n",
       "    </tr>\n",
       "  </thead>\n",
       "  <tbody>\n",
       "    <tr>\n",
       "      <th>0</th>\n",
       "      <td>j-3IEM5MZM1DZ3P</td>\n",
       "      <td>2018-11-27 12:23:52.611746</td>\n",
       "      <td>terminated</td>\n",
       "    </tr>\n",
       "    <tr>\n",
       "      <th>1</th>\n",
       "      <td>j-2QEQ2UION78GW</td>\n",
       "      <td>2018-11-28 06:08:39.687411</td>\n",
       "      <td>terminated</td>\n",
       "    </tr>\n",
       "    <tr>\n",
       "      <th>2</th>\n",
       "      <td>j-3KOKL4AK5RK6U</td>\n",
       "      <td>2018-11-28 08:29:43.709037</td>\n",
       "      <td>terminated</td>\n",
       "    </tr>\n",
       "    <tr>\n",
       "      <th>3</th>\n",
       "      <td>j-1Q3Z5G868TPRH</td>\n",
       "      <td>2018-11-28 16:48:22.078350</td>\n",
       "      <td>terminated</td>\n",
       "    </tr>\n",
       "    <tr>\n",
       "      <th>4</th>\n",
       "      <td>j-3U64SU6YL7SLU</td>\n",
       "      <td>2018-11-29 08:28:38.349273</td>\n",
       "      <td>terminated</td>\n",
       "    </tr>\n",
       "    <tr>\n",
       "      <th>5</th>\n",
       "      <td>j-2AQFX2MXP3QJ8</td>\n",
       "      <td>2018-11-29 13:51:48.563163</td>\n",
       "      <td>terminated</td>\n",
       "    </tr>\n",
       "    <tr>\n",
       "      <th>6</th>\n",
       "      <td>j-3E57B7LU3V8K5</td>\n",
       "      <td>2018-11-29 22:21:30.671353</td>\n",
       "      <td>terminated</td>\n",
       "    </tr>\n",
       "    <tr>\n",
       "      <th>7</th>\n",
       "      <td>j-WI8CN6WBXY4T</td>\n",
       "      <td>2018-11-30 06:34:23.331088</td>\n",
       "      <td>terminated</td>\n",
       "    </tr>\n",
       "    <tr>\n",
       "      <th>8</th>\n",
       "      <td>j-2EZ38G1D19V1E</td>\n",
       "      <td>2018-11-30 14:05:19.269091</td>\n",
       "      <td>terminated</td>\n",
       "    </tr>\n",
       "    <tr>\n",
       "      <th>9</th>\n",
       "      <td>j-U6TUEYWQJTUP</td>\n",
       "      <td>2018-12-01 07:10:04.955932</td>\n",
       "      <td>terminated</td>\n",
       "    </tr>\n",
       "    <tr>\n",
       "      <th>10</th>\n",
       "      <td>j-35HQOPFJOG0F9</td>\n",
       "      <td>2018-12-02 08:46:47.046298</td>\n",
       "      <td>terminated</td>\n",
       "    </tr>\n",
       "    <tr>\n",
       "      <th>11</th>\n",
       "      <td>j-25D7KLAL7Q72X</td>\n",
       "      <td>2018-12-02 15:57:22.811596</td>\n",
       "      <td>terminated</td>\n",
       "    </tr>\n",
       "    <tr>\n",
       "      <th>12</th>\n",
       "      <td>j-2P1B3BCYK4FZ8</td>\n",
       "      <td>2018-12-02 21:28:29.679435</td>\n",
       "      <td>terminated</td>\n",
       "    </tr>\n",
       "    <tr>\n",
       "      <th>13</th>\n",
       "      <td>j-HRR8JMD8J3W4</td>\n",
       "      <td>2018-12-02 22:13:50.028095</td>\n",
       "      <td>terminated</td>\n",
       "    </tr>\n",
       "    <tr>\n",
       "      <th>14</th>\n",
       "      <td>j-CD2JWX9U29U2</td>\n",
       "      <td>2018-12-03 12:02:28.586368</td>\n",
       "      <td>terminated</td>\n",
       "    </tr>\n",
       "    <tr>\n",
       "      <th>15</th>\n",
       "      <td>j-A68RI2CCRS3Q</td>\n",
       "      <td>2018-12-03 19:05:54.450801</td>\n",
       "      <td>terminated</td>\n",
       "    </tr>\n",
       "    <tr>\n",
       "      <th>16</th>\n",
       "      <td>j-2KJSJYR3CCGDX</td>\n",
       "      <td>2018-12-04 11:21:24.385907</td>\n",
       "      <td>terminated</td>\n",
       "    </tr>\n",
       "    <tr>\n",
       "      <th>17</th>\n",
       "      <td>j-1CXB76YOO7WUK</td>\n",
       "      <td>2018-12-04 22:14:24.566708</td>\n",
       "      <td>terminated</td>\n",
       "    </tr>\n",
       "    <tr>\n",
       "      <th>18</th>\n",
       "      <td>j-1X94NAW9PF45M</td>\n",
       "      <td>2018-12-05 13:19:47.833978</td>\n",
       "      <td>terminated</td>\n",
       "    </tr>\n",
       "    <tr>\n",
       "      <th>19</th>\n",
       "      <td>j-2MMMLJ1EDJG8T</td>\n",
       "      <td>2018-12-05 20:11:55.413250</td>\n",
       "      <td>terminated</td>\n",
       "    </tr>\n",
       "  </tbody>\n",
       "</table>"
      ],
      "text/plain": [
       "<IPython.core.display.HTML object>"
      ]
     },
     "metadata": {},
     "output_type": "display_data"
    },
    {
     "data": {
      "application/vnd.jupyter.widget-view+json": {
       "model_id": "ffb98b77fd6f44fca6b138907343b12e"
      }
     },
     "metadata": {},
     "output_type": "display_data"
    },
    {
     "name": "stdout",
     "output_type": "stream",
     "text": [
      "Provisioning a new EMR cluster from AWS. Please do not refresh until it is done.\n",
      "............Cluster DNS Active\n",
      "\n",
      "Proceeding with Firewall Rules...\n",
      "Ingress SSH already added\n",
      "Ingress YARN already added\n",
      "Ingress HDFS NameNode already added\n",
      "Ingress Spark History Server already added\n",
      "Ingress Hue already added\n",
      "Ingress HBase already added\n",
      "Ingress Jupyter Notebook already added\n",
      "Ingress Hue already added\n",
      "Ingress Slave SSH already added\n",
      "Ingress Slave YARN NodeManager already added\n",
      "Ingress Slave HDFS DataNode already added\n",
      "\n",
      "\n",
      "Finishing Startup.\n",
      "This will take a few minutes...\n",
      "\n",
      "***Please Wait***\n",
      "\n",
      "Starting......................Done\n",
      "\n",
      "Running Bootstrap Actions.\n",
      "This will take a few minutes...\n",
      "\n",
      "***Please Wait***\n",
      "\n",
      "Bootstrapping....Done[ec2-34-215-154-184.us-west-2.compute.amazonaws.com] out:   % Total    % Received % Xferd  Average Speed   Time    Time     Time  Current\n",
      "[ec2-34-215-154-184.us-west-2.compute.amazonaws.com] out:                                  Dload  Upload   Total   Spent    Left  Speed\n",
      "[ec2-34-215-154-184.us-west-2.compute.amazonaws.com] out: \n",
      "[ec2-34-215-154-184.us-west-2.compute.amazonaws.com] out:   0     0    0     0    0     0      0      0 --:--:-- --:--:-- --:--:--     0\n",
      "[ec2-34-215-154-184.us-west-2.compute.amazonaws.com] out: 100   169  100   169    0     0   1060      0 --:--:-- --:--:-- --:--:--  1062\n",
      "[ec2-34-215-154-184.us-west-2.compute.amazonaws.com] out: \n",
      "Everything is ready!\n"
     ]
    }
   ],
   "source": [
    "dsa_automation.ui_emr()"
   ]
  },
  {
   "cell_type": "markdown",
   "metadata": {},
   "source": [
    "#### 3. Refresh the server list \n",
    "Click the `refresh` button above until you see the last server on the list in **ready** state. It may take a few refreshes, but please click and wait a moment before clicking "
   ]
  },
  {
   "cell_type": "markdown",
   "metadata": {},
   "source": [
    "#### 4. Connect to the cluster\n",
    "Now that the cluster has been created, we can connect to a Jupyter Notebook environment running on the cluster. Run the next cell and click the \"Jupyter Notebook\" button in blue to open the cluster based Jupyter environment.\n",
    "\n",
    "You will notice a `workspace` folder in the cluster environment.\n",
    "\n",
    "When prompted for a password, enter: `jupyter`\n",
    "\n"
   ]
  },
  {
   "cell_type": "code",
   "execution_count": 9,
   "metadata": {
    "scrolled": true
   },
   "outputs": [
    {
     "data": {
      "text/html": [
       "\n",
       "        <p><strong>Log into your dedicated Jupyter from AWS EMR Cluster</strong></p>\n",
       "        <a class=\"jupyter-widgets jupyter-button widget-button mod-primary\" href=\"http://ec2-34-215-154-184.us-west-2.compute.amazonaws.com:9090/\" target=\"_blank\">Jupyter Notebook</a>\n",
       "        <p>\n",
       "          Chrome will suggest that the connection is not private, but it is. This appears this way because we are using self-signed cert that is not recognized by Cert Authorities.\n",
       "          It is safe to proceed by clicking the \"ADVANCED\" link at the left bottom of the page and then the \"Proceed to ...compute.amazonaws.com (unsafe)\" link.\n",
       "        </p>\n",
       "        </blockquote>\n",
       "        <hr/>\n",
       "        <p><strong>Or check out the Hadoop ecosystem provided by AWS EMR</strong></p>\n",
       "        <a class=\"jupyter-widgets jupyter-button widget-button\" href=\"http://ec2-34-215-154-184.us-west-2.compute.amazonaws.com:8088/\" target=\"_blank\">YARN</a>\n",
       "        <a class=\"jupyter-widgets jupyter-button widget-button\" href=\"http://ec2-34-215-154-184.us-west-2.compute.amazonaws.com:50070/\" target=\"_blank\">HDFS</a>\n",
       "        <a class=\"jupyter-widgets jupyter-button widget-button\" href=\"http://ec2-34-215-154-184.us-west-2.compute.amazonaws.com:18080/\" target=\"_blank\">Spark History</a>\n",
       "        <!--\n",
       "        <a class=\"jupyter-widgets jupyter-button widget-button\" href=\"https://ec2-34-215-154-184.us-west-2.compute.amazonaws.com:8888/\" target=\"_blank\">Hue</a>\n",
       "        <a class=\"jupyter-widgets jupyter-button widget-button\" href=\"https://ec2-34-215-154-184.us-west-2.compute.amazonaws.com:16010/\" target=\"_blank\">HBase</a>\n",
       "        -->\n",
       "        <hr/>\n",
       "        <p><strong>Or SSH access to the master node from a\n",
       "            <a href=\"https://jupyterhub.dsa.missouri.edu/user/dlfy6/terminals/1\" target=\"_blank\">terminal</a></strong></p>\n",
       "        <pre>ssh -i /dsa/home/dlfy6/f18dsa8620_dlfy6/module6/EMR-05122018223234-dlfy6.pem hadoop@ec2-34-215-154-184.us-west-2.compute.amazonaws.com</pre>\n",
       "        "
      ],
      "text/plain": [
       "<IPython.core.display.HTML object>"
      ]
     },
     "execution_count": 9,
     "metadata": {},
     "output_type": "execute_result"
    }
   ],
   "source": [
    "dsa_automation.ui_emr_services()"
   ]
  },
  {
   "cell_type": "markdown",
   "metadata": {},
   "source": [
    "#### 4. Clone Down This Repository to Work\n",
    "Now that you have access to your very own cluster, you need to clone this repository. To do that follow the instructions in [this notebook](ClusterInstructions.ipynb)"
   ]
  }
 ],
 "metadata": {
  "kernelspec": {
   "display_name": "Python 3",
   "language": "python",
   "name": "python3"
  },
  "language_info": {
   "codemirror_mode": {
    "name": "ipython",
    "version": 3
   },
   "file_extension": ".py",
   "mimetype": "text/x-python",
   "name": "python",
   "nbconvert_exporter": "python",
   "pygments_lexer": "ipython3",
   "version": "3.4.9"
  }
 },
 "nbformat": 4,
 "nbformat_minor": 2
}
