{
 "cells": [
  {
   "cell_type": "markdown",
   "metadata": {},
   "source": [
    "# Module 6 Big Data Ecosystems\n",
    "\n",
    "Welcome to Big Data Ecosystems. This module will use the Spark framework for Big Data. You will be using AWS EMR instances to run code. \n",
    "\n",
    "# <span style=\"color:red\"> DO NOT WORK ON ANY LABS, PRACTICES, OR EXERCIES ON THE DSA MACHINES! </span>\n",
    "## To spin up your own cluster and work on this module, use the [BigDataEcosystems](BigDataEcosystem.ipynb) notebook.\n"
   ]
  },
  {
   "cell_type": "markdown",
   "metadata": {},
   "source": [
    "## Readings\n",
    "  * [Spark Basics](http://indigo.sgn.missouri.edu/static/PDF/Spark_is_a_cluster.pdf)\n",
    "  * [Spark and Map Reduce (HDFS) Performance Analysis](./resources/spark-hadoop-1.pdf)\n",
    "  * [Spark Machine Learning Performance Compared to Hadoop](./resources/spark-hadoop-ML.pdf)\n",
    "  * [Parallelization with Spark](./resources/spark-threading.pdf)\n",
    "  * [Introduction to Apache Spark with Examples and Use Cases](https://www.toptal.com/spark/introduction-to-apache-spark)"
   ]
  },
  {
   "cell_type": "markdown",
   "metadata": {},
   "source": [
    "## Videos\n",
    "* [Map Reduce](https://www.youtube.com/watch?v=bcjSe0xCHbE)\n",
    "* [What is Apache Spark](https://www.youtube.com/watch?v=SxAxAhn-BDU)\n",
    "* [Spark](https://www.youtube.com/watch?v=QaoJNXW6SQo)"
   ]
  },
  {
   "cell_type": "markdown",
   "metadata": {},
   "source": [
    "## Discussions\n",
    "* [Spark Use Case](https://missouri.instructure.com/courses/14888/discussion_topics/379993)"
   ]
  },
  {
   "cell_type": "markdown",
   "metadata": {},
   "source": [
    "## Labs\n",
    "\n",
    "* [PySpark Parallelization](labs/pyspark.ipynb)\n",
    "* [SparkSQL](labs/sparksql.ipynb)\n",
    "* [SparkML](labs/sparkml.ipynb)"
   ]
  },
  {
   "cell_type": "markdown",
   "metadata": {},
   "source": [
    "## Practices:\n",
    "\n",
    "* [PySpark Parallelization](practices/pyspark-practice.ipynb)\n",
    "* [SparkSQL](practices/sparksql-practice.ipynb)\n",
    "* [SparkML](practices/sparkml-practice.ipynb)"
   ]
  },
  {
   "cell_type": "markdown",
   "metadata": {},
   "source": [
    "## Excercises\n",
    "* [Spark Exercise](exercises/exercise-pyspark.ipynb)"
   ]
  },
  {
   "cell_type": "markdown",
   "metadata": {},
   "source": [
    "## Submitting  work\n",
    "\n",
    "#### Steps:\n",
    "When you have finished the work for this module, **you will need to submit from inside the cluster. **\n",
    "\n",
    "Inside the tab that has \"http://ec2-\" at the top, open a terminal by clicking `New > Terminal`. \n",
    "\n",
    "Once you have a terminal, enter the following commands:\n",
    "```\n",
    "cd workspace/f18dsa8620_PAWPRINT/\n",
    "git add --all\n",
    "git commit -m \"Submitting module 6\"\n",
    "git push origin master\n",
    "```\n",
    "Replace PAWPRINT with your pawprint.\n",
    "\n",
    "Again, unlike on DSA systems, you will be prompted for a username and password when you execute the final command. Enter your pawprint for your username, and your Mizzou password as the password."
   ]
  }
 ],
 "metadata": {
  "kernelspec": {
   "display_name": "Python 3",
   "language": "python",
   "name": "python3"
  },
  "language_info": {
   "codemirror_mode": {
    "name": "ipython",
    "version": 3
   },
   "file_extension": ".py",
   "mimetype": "text/x-python",
   "name": "python",
   "nbconvert_exporter": "python",
   "pygments_lexer": "ipython3",
   "version": "3.4.8"
  }
 },
 "nbformat": 4,
 "nbformat_minor": 2
}
