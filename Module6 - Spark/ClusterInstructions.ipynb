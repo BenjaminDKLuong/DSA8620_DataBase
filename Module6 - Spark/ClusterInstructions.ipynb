{
 "cells": [
  {
   "cell_type": "markdown",
   "metadata": {},
   "source": [
    "# Working in the EMR Cluster\n",
    "\n",
    "You should have a tab open in your browser for which the URL is \"http://ec2-\" followed by some numbers. That URL means that you are in the cluster. \n",
    "\n",
    "When you initialize the cluster, you will see 1 folder:\n",
    "> workspace - This folder is persistant storage, and is where you will do all of your work\n",
    "\n",
    "The `workspace` folder provides a space where anything placed there will not be deleted, even once you terminate the cluster. The issue is that the cluster and DSA systems cannot directly sync up. \n",
    "\n",
    "To solve this problem, we will use `git` to sync between the cluster and DSA systems. \n",
    "\n",
    "### Clone down this repository inside the cluster\n",
    "Inside the tab that has \"http://ec2-\" at the top, open a terminal by clicking `New > Terminal`. \n",
    "\n",
    "Once you have a terminal, enter the following commands:\n",
    "```\n",
    "cd workspace\n",
    "git clone https://git.dsa.missouri.edu/DSA-8620/f18/f18dsa8620_PAWPRINT.git\n",
    "```\n",
    "Replace PAWPRINT at the end of the second command with your pawprint.\n",
    "\n",
    "Unlike on DSA systems, you will be prompted for a username and password. Enter your pawprint for your username, and your Mizzou password as the password.\n",
    "\n",
    "### Do all your work from the Cluster\n",
    "Once you have cloned down the repository, you can click on `workspace > f18dsa8620_PAWPRINT > module6` and then click on `Schedule.ipynb`. \n",
    "\n",
    "You will want to perform all work on a cluster for this module. \n",
    "\n",
    "### Terminate the Cluster when you are finished for the day\n",
    "When you are going to stop working on DSA for a considerable amount of time (> 3hrs):\n",
    "1. Save all of your notebooks inside the cluster, \n",
    "2. Close all tabs with a URL beginning with \"http://ec2-\",\n",
    "3. Look at the DSA JupyterHub tab titled \"BigDataEcosystems\"\n",
    "4. Scroll to the `ui_emr()` cell, click \"Refesh\", and then click \"Terminate\"\n",
    "\n",
    "### Resuming Work\n",
    "If you have terminated your cluster, you will need to restart a cluster in order to continue working. \n",
    "When you are ready to begin work again, redo all the steps inside of the `BigDataEcosystem.ipynb`, but do NOT redo the steps in this notebook. \n",
    "\n",
    "Once you spawn a cluster and connect to it as described in `BigDataEcosystem.ipynb`, you only need to navigate to `workspace > f18dsa8620_PAWPRINT > module6` and then click on `Schedule.ipynb`. \n",
    "\n",
    "Your work in the labs, practices, and excercises will match how they looked when you last used a cluster.\n",
    "\n",
    "### Do NOT expect DSA to match the Cluster\n",
    "Once you begin working on the class material inside the cluster, the notebooks inside of DSA systems will NOT match those inside the cluster. \n",
    "\n",
    "DSA Systems and your cluster cannot sync directly, so although your work will persist between sessions using the cluster, when you look at notebooks inside DSA systems, your work will not be there, and that is OK.\n",
    "\n",
    "### Submitting Work\n",
    "When you have finished the work for this module, you will need to submit from inside the cluster. \n",
    "\n",
    "Inside the tab that has \"http://ec2-\" at the top, open a terminal by clicking `New > Terminal`. \n",
    "\n",
    "Once you have a terminal, enter the following commands:\n",
    "```\n",
    "cd workspace/f18dsa8620_PAWPRINT/\n",
    "git add --all\n",
    "git commit -m \"Submitting module 6\"\n",
    "git push origin master\n",
    "```\n",
    "Replace PAWPRINT with your pawprint.\n",
    "\n",
    "Again, unlike on DSA systems, you will be prompted for a username and password when you execute the final command. Enter your pawprint for your username, and your Mizzou password as the password.\n"
   ]
  },
  {
   "cell_type": "code",
   "execution_count": null,
   "metadata": {
    "collapsed": true
   },
   "outputs": [],
   "source": []
  }
 ],
 "metadata": {
  "kernelspec": {
   "display_name": "Python 3",
   "language": "python",
   "name": "python3"
  },
  "language_info": {
   "codemirror_mode": {
    "name": "ipython",
    "version": 3
   },
   "file_extension": ".py",
   "mimetype": "text/x-python",
   "name": "python",
   "nbconvert_exporter": "python",
   "pygments_lexer": "ipython3",
   "version": "3.4.9"
  }
 },
 "nbformat": 4,
 "nbformat_minor": 2
}
