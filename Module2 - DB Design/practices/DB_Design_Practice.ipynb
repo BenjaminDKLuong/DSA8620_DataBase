{
 "cells": [
  {
   "cell_type": "markdown",
   "metadata": {},
   "source": [
    "# User Requirements to ERD\n",
    "\n",
    "For this practice consider the following scenario.\n",
    "\n",
    "United Helpers is a nonprofit organization that provides aid to people after natural disasters.  \n",
    "•\tIndividuals volunteer their time to carry out the tasks of the organization.  For each volunteer, their name, address, and telephone number are tracked.  Each volunteer may be assigned to several tasks during the time that they are doing volunteer work, and some tasks require many volunteers.  It is possible for a volunteer to be in the system without having been assigned a task yet.  It is possible to have tasks that no one has been assigned.  When a volunteer is assigned to a task, the system should track the start time and end time of that assignment.  \n",
    "\n",
    "•\tFor each task, there is a task code, task description, task type, and a task status.  For example, there may be a task with task code “101,” description of “answer the telephone,” a type of “recurring,” and a status of “ongoing.”  There could be another task with a code of “102,” description of “prepare 5000 packages of basic medical supplies,” a type of “packing,” and a status of “open.”  \n",
    "\n",
    "•\tFor all tasks of type “packing,” there is a packing list that specifies the contents of the packages.  There are many different packing lists to produce different packages, such as basic medical packages, child care packages, food packages, etc.  Each packing list has a packing list ID number, packing list name, and a packing list description, which describes the items that ideally go into making that type of package.  Every packing task is associated with only one packing list.  A packing list may not be associated with any tasks, or may be associated with many tasks.  Tasks that are not packing tasks are not associated with any packing list.\n",
    "\n",
    "•\tPacking tasks result in the creation of packages.  Each individual package of supplies that is produced by the organization is tracked.  Each package is assigned an ID number.  The date the package was created, and total weight of the package is recorded.  A given package is associated with only one task.  Some tasks (e.g., “answer the phones”) will not have produced any packages, while other tasks (e.g., “prepare 5000 packages of basic medical supplies”) will be associated with many packages.  \n",
    "\n",
    "•\tThe packing list describes the ideal contents of each package, but it is not always possible to include the ideal number of each item.  Therefore, the actual items included in each package should be tracked.  A package can contain many different items, and a given item can be used in many different packages.  \n",
    "\n",
    "•\tFor each item that the organization provides, there is an item ID number, item description, item value, and item quantity on hand stored in the system.  Along with tracking the actual items that are placed in each package, the quantity of each item placed in the package must be tracked too.  For example, a packing list may state that basic medical packages should include 100 bandages, 4 bottles of iodine, and 4 bottles of hydrogen peroxide.  However, because of the limited supply of items, a given package may include only 10 bandages, 1 bottle of iodine, and no hydrogen peroxide. The fact that this package includes bandages and iodine needs to be recorded along with the quantity of each that is included.  It is possible for the organization to have items donated that have not been included in any package yet, but every package will contain at least one item.\n",
    "\n"
   ]
  },
  {
   "cell_type": "markdown",
   "metadata": {},
   "source": [
    "### Tip\n",
    "- Read the entire scenerio and then break each bullet point down to sentence level or smaller to start extracting your entities and attributes. \n"
   ]
  },
  {
   "cell_type": "markdown",
   "metadata": {},
   "source": [
    "### Entity Identification\n",
    "\n",
    "In the cell below: what are the entities that you can conceptualize?"
   ]
  },
  {
   "cell_type": "raw",
   "metadata": {},
   "source": [
    "# List your entities ideas below:\n",
    "# -------------------------------\n",
    "volunteer\n",
    "task\n",
    "package\n",
    "item\n",
    "\n",
    "\n",
    "\n",
    "\n",
    "\n",
    "\n",
    "\n",
    "\n"
   ]
  },
  {
   "cell_type": "raw",
   "metadata": {},
   "source": [
    "Each volunteer may be assigned to several tasks \n",
    "some tasks require many volunteers\n",
    "volunteer and task are optional\n",
    "every task is associated with many tasks.\n",
    "Tasks that are not packing tasks are not associated with any packing list.\n"
   ]
  },
  {
   "cell_type": "markdown",
   "metadata": {},
   "source": [
    "### Attribute Identification \n",
    "In the cell below: what are the attributes for each of the entities that you can conceptualize?"
   ]
  },
  {
   "cell_type": "raw",
   "metadata": {},
   "source": [
    "# List your entities and thier attributes ideas below:\n",
    "# -------------------------------\n",
    "\n",
    "volunteer:\n",
    "    volunteer_id\n",
    "    name\n",
    "    address\n",
    "    phone number\n",
    "    \n",
    "task:\n",
    "    task code: int4\n",
    "    task description: varchar(25)\n",
    "    task type: varchar(25)   e.g: recurring,packing\n",
    "    task status: varchar(25)\n",
    "    volunteer_id\n",
    "\n",
    "package:\n",
    "    packing_list_id: int4\n",
    "    packing_list_description\n",
    "    packing_list_name\n",
    "    date: date\n",
    "    weight: float\n",
    "    task code: int4\n",
    "    number types of items: int4\n",
    "    item1: varchar(25)\n",
    "    item1 quality need: int4\n",
    "    item2: varchar(25)\n",
    "    item2 quality need: int4    \n",
    "    item3: varchar(25)\n",
    "    item3 quality need: int4    \n",
    "    item4: varchar(25)\n",
    "    item4 quality need: int4    \n",
    "    item5: varchar(25)\n",
    "    item5 quality need: int4    \n",
    "    item6: varchar(25)\n",
    "    item6 quality need: int4\n",
    "    \n",
    "    \n",
    "item:\n",
    "    item_id: int4\n",
    "    item_description: varchar(25) unique\n",
    "    item_value: int4\n",
    "    item_quantity_on_hand: int4\n",
    "    \n",
    "\n",
    "\n",
    "\n",
    "\n",
    "\n"
   ]
  },
  {
   "cell_type": "markdown",
   "metadata": {},
   "source": [
    "---\n",
    "\n",
    "**Please keep in mind that database design takes practice!**\n",
    "\n",
    "If you did not capture enough details or you went crazy with attributes and complexity, that is fine.\n",
    "This is part of the learning experience!\n",
    "It is important to reflect on your thoughts and how they align to others' ideas.\n",
    "\n",
    "\n",
    "# Save your notebook, then `File > Close and Halt`"
   ]
  },
  {
   "cell_type": "markdown",
   "metadata": {},
   "source": [
    "---"
   ]
  }
 ],
 "metadata": {
  "kernelspec": {
   "display_name": "Python 3",
   "language": "python",
   "name": "python3"
  },
  "language_info": {
   "codemirror_mode": {
    "name": "ipython",
    "version": 3
   },
   "file_extension": ".py",
   "mimetype": "text/x-python",
   "name": "python",
   "nbconvert_exporter": "python",
   "pygments_lexer": "ipython3",
   "version": "3.4.9"
  }
 },
 "nbformat": 4,
 "nbformat_minor": 2
}
