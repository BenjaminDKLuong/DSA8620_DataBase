{
 "cells": [
  {
   "cell_type": "markdown",
   "metadata": {},
   "source": [
    "# Words to Entities and Attributes\n",
    "\n",
    "For this lab, we consider the following set of requirements for a university database that is\n",
    "used to keep track of students’ transcripts.\n",
    "A transcript is a record of a student's grades in courses, organized by semester.\n",
    "\n",
    "\n",
    "### Entity Identification\n",
    "\n",
    "In the cell below, without reading ahead, what are the entities that you can conceptualize as record types for the database?\n"
   ]
  },
  {
   "cell_type": "raw",
   "metadata": {},
   "source": [
    "# List your entities ideas below:\n",
    "# -------------------------------\n",
    "\n",
    "Students\n",
    "Courses\n",
    "Department\n",
    "Professor\n"
   ]
  },
  {
   "cell_type": "markdown",
   "metadata": {},
   "source": [
    "### Entity Detailing (attributes)\n",
    "\n",
    "Your list was great!  \n",
    "However, to continue the lab, we are going to work from the following set of entities.\n",
    " * Student\n",
    " * Department\n",
    " * Course\n",
    " * Instructor\n",
    " * Section\n",
    " * CourseGrade\n",
    " \n",
    "In each of the cells below expand on the entities by identifying possible attributes."
   ]
  },
  {
   "cell_type": "markdown",
   "metadata": {},
   "source": [
    "### Student - attributes"
   ]
  },
  {
   "cell_type": "raw",
   "metadata": {},
   "source": [
    "# List your attributes ideas below:\n",
    "# -------------------------------\n",
    "student_id\n",
    "first_name\n",
    "last_name\n",
    "address\n",
    "phone\n",
    "program\n"
   ]
  },
  {
   "cell_type": "markdown",
   "metadata": {},
   "source": [
    "### Department - attributes"
   ]
  },
  {
   "cell_type": "raw",
   "metadata": {},
   "source": [
    "# List your attributes ideas below:\n",
    "# -------------------------------\n",
    "department_id\n",
    "dep_name\n",
    "courses\n",
    "semester\n",
    "\n",
    "\n",
    "\n",
    "\n"
   ]
  },
  {
   "cell_type": "markdown",
   "metadata": {},
   "source": [
    "### Course - attributes"
   ]
  },
  {
   "cell_type": "raw",
   "metadata": {},
   "source": [
    "# List your attributes ideas below:\n",
    "# -------------------------------\n",
    "Course_id\n",
    "course_name\n",
    "course_code\n",
    "description\n",
    "professor\n",
    "\n",
    "\n",
    "\n",
    "\n",
    "\n"
   ]
  },
  {
   "cell_type": "markdown",
   "metadata": {},
   "source": [
    "### Instructor - attributes"
   ]
  },
  {
   "cell_type": "raw",
   "metadata": {},
   "source": [
    "# List your attributes ideas below:\n",
    "# -------------------------------\n",
    "instructor_id\n",
    "instr_name\n",
    "course\n",
    "section\n",
    "\n",
    "\n",
    "\n",
    "\n"
   ]
  },
  {
   "cell_type": "markdown",
   "metadata": {},
   "source": [
    "### Section - attributes"
   ]
  },
  {
   "cell_type": "raw",
   "metadata": {},
   "source": [
    "# List your attributes ideas below:\n",
    "# -------------------------------\n",
    "section_id\n",
    "sec_name\n",
    "\n",
    "\n",
    "\n",
    "\n",
    "\n",
    "\n"
   ]
  },
  {
   "cell_type": "markdown",
   "metadata": {},
   "source": [
    "### CourseGrade - attributes"
   ]
  },
  {
   "cell_type": "raw",
   "metadata": {},
   "source": [
    "# List your attributes ideas below:\n",
    "# -------------------------------\n",
    "couse\n",
    "grade\n",
    "instructor\n",
    "student\n",
    "semester\n",
    "\n",
    "\n",
    "\n",
    "\n"
   ]
  },
  {
   "cell_type": "markdown",
   "metadata": {},
   "source": [
    "\n",
    "## Check your ideas!\n",
    "\n",
    "\n",
    "### Student\n",
    "The university keeps track of each student’s name, student number, Social Security number, current address and phone number, permanent address and phone number, birth date, sex, class (freshman, sophomore, ..., graduate), major department, minor department (if any), and degree program (B.A., B.S., ..., Ph.D.). Some user applications need to refer to the city, state, and ZIP Code of the student’s permanent address and to the student’s last name. Both Social Security number and student number have unique values for each student.\n",
    "\n",
    "### Department\n",
    "Each department is described by a name, department code, office number, office phone number, and college. Both name and code have unique values for each department.\n",
    "\n",
    "### Course\n",
    "Each course has a course name, description, course number, number of semester hours, level, and offering department. The value of the course number is unique for each course.\n",
    "\n",
    "### Instructor\n",
    "Instructors have a name, home department, and other basic information.\n",
    "\n",
    "### Section\n",
    "Each section has an instructor, semester, year, course, and section number. The section number distinguishes sections of the same course that are taught during the same semester/year; its values are 1, 2, 3, ..., up to the number of sections taught during each semester.\n",
    "\n",
    "### Course Grade\n",
    "A grade report has a student, section, letter grade, and numeric grade (0, 1, 2, 3, or 4)."
   ]
  },
  {
   "cell_type": "markdown",
   "metadata": {},
   "source": [
    "---\n",
    "\n",
    "**Please keep in mind that database design takes practice!**\n",
    "\n",
    "If you did not capture enough details or you went crazy with attributes and complexity, that is fine.\n",
    "This is part of the learning experience!\n",
    "It is important to reflect on your thoughts and how they align to others' ideas.\n",
    "\n",
    "\n",
    "# Save your notebook, then `File > Close and Halt`"
   ]
  },
  {
   "cell_type": "markdown",
   "metadata": {},
   "source": [
    "---"
   ]
  }
 ],
 "metadata": {
  "kernelspec": {
   "display_name": "Python 3",
   "language": "python",
   "name": "python3"
  },
  "language_info": {
   "codemirror_mode": {
    "name": "ipython",
    "version": 3
   },
   "file_extension": ".py",
   "mimetype": "text/x-python",
   "name": "python",
   "nbconvert_exporter": "python",
   "pygments_lexer": "ipython3",
   "version": "3.4.9"
  }
 },
 "nbformat": 4,
 "nbformat_minor": 2
}
