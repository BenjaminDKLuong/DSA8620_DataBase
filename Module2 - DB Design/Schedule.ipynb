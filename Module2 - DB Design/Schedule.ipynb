{
 "cells": [
  {
   "cell_type": "markdown",
   "metadata": {},
   "source": [
    "# Module 2: Database Design"
   ]
  },
  {
   "cell_type": "markdown",
   "metadata": {},
   "source": [
    "## Topics covered\n",
    "  * Relational Model\n",
    "  * Database Design\n",
    "  * Design Normalization\n",
    "  * Basic Data Loading\n",
    "\n",
    "### Resources\n",
    " * [PostgreSQL Cheatsheet](https://web.dsa.missouri.edu/static/PDF/Postgres-Cheat-Sheet.pdf)\n",
    " * [psycopg2](http://initd.org/psycopg/)\n",
    " * [SQL Alchemy](http://docs.sqlalchemy.org/en/latest/)\n",
    "\n"
   ]
  },
  {
   "cell_type": "markdown",
   "metadata": {},
   "source": [
    "## Readings\n",
    "* [Database Fundamentals, The Relational Data Model and Relational Database Constraints](https://web.dsa.missouri.edu/static/PDF/DB/Database_Fundamentals_Ch3.pdf)\n",
    "* [Database Fundamentals, Data Modeling using ER Model](https://web.dsa.missouri.edu/static/PDF/DB/Database_Fundamentals_Ch7.pdf)\n",
    "    * Supplemental: [Crow's Foot Basics](https://www.codeproject.com/Articles/878359/Data-modelling-using-ERD-with-Crow-Foot-Notation)\n",
    "    * Supplemental: [Crow's Foot Cheatsheet](http://www.vivekmchawla.com/erd-crows-foot-relationship-symbols-cheat-sheet/)\n",
    "    * Supplemental: [Extra Crow's Foot Reading](http://www.vertabelo.com/blog/technical-articles/crow-s-foot-notation/)\n",
    "* [Database Fundamentals, Practical Database Design](https://web.dsa.missouri.edu/static/PDF/DB/Database_Fundamentals_Ch10.pdf)\n",
    "* [Normalization](https://www.essentialsql.com/get-ready-to-learn-sql-11-database-third-normal-form-explained-in-simple-english/)\n",
    "* [Database Fundamentals, Functional Dependencies and Normalization](https://web.dsa.missouri.edu/static/PDF/DB/Database_Fundamentals_Ch15.pdf)\n",
    "* [To Normalize or Not, that was the question](http://highscalability.com/blog/2008/7/16/the-mother-of-all-database-normalization-debates-on-coding-h.html)"
   ]
  },
  {
   "cell_type": "markdown",
   "metadata": {},
   "source": [
    "## Videos\n",
    "### Database Design\n",
    "* [Database Design](https://web.dsa.missouri.edu/~garwoode/Module2_Entities_and_Attributes.mp4)\n",
    "* [Database Design (A longer much older version)](https://www.youtube.com/watch?v=KYgiOCOVIHA) - please ignore any reference to assignments, books, etc as this was for an old course but thought some might find it useful. \n",
    "\n",
    "### Creating Tables and Loading Data (Walks thru of the database loading lab below)\n",
    "* [Database Loading Part 1](https://web.dsa.missouri.edu/~garwoode/DB_Loading_Part1.mp4)\n",
    "* [Database Loading Part 2](https://web.dsa.missouri.edu/~garwoode/DB_Loading_Part2.mp4)\n",
    "* [Database Loading Part 3](https://web.dsa.missouri.edu/~garwoode/DB_Loading_Part3.mp4)\n"
   ]
  },
  {
   "cell_type": "markdown",
   "metadata": {},
   "source": [
    "## Discussions\n",
    "\n",
    "* [Share ERD Diagram from Database Design Lab2](https://missouri.instructure.com/courses/14888/discussion_topics/367064)\n"
   ]
  },
  {
   "cell_type": "markdown",
   "metadata": {},
   "source": [
    " \n",
    "## Labs\n",
    "\n",
    "\n",
    "  * [Database Design Lab 1](./labs/DB_Design_1.ipynb)\n",
    "  * [Database Design Lab 2](./labs/DB_Design_2.ipynb)\n",
    "  * [Database Loading](./labs/DB_Loading.ipynb)\n",
    "\n",
    "\n"
   ]
  },
  {
   "cell_type": "markdown",
   "metadata": {},
   "source": [
    "## Practices\n",
    "* [Database Design](./practices/DB_Design_Practice.ipynb)"
   ]
  },
  {
   "cell_type": "markdown",
   "metadata": {},
   "source": [
    "## Exercises\n",
    "  * [Database Design](./exercises/DB_Design.ipynb)"
   ]
  },
  {
   "cell_type": "markdown",
   "metadata": {},
   "source": [
    "## Submitting  work\n",
    "\n",
    "#### Steps:\n",
    "  1. Open Terminal in JupyterHub\n",
    "  1. Change into the course folder\n",
    "  1. Stage (Git Add) the module's practice and exercise work   \n",
    "  `git  add   module2/practices    module2/exercises`\n",
    "  1. Create your work snapshot (Git Commit)  \n",
    "  `git   commit   -m   \"Module 2 submission\"`\n",
    "  1. Upload the snapshot to the server (Git Push)  \n",
    "  `git   push`\n"
   ]
  },
  {
   "cell_type": "markdown",
   "metadata": {},
   "source": [
    "---"
   ]
  }
 ],
 "metadata": {
  "kernelspec": {
   "display_name": "Python 3",
   "language": "python",
   "name": "python3"
  },
  "language_info": {
   "codemirror_mode": {
    "name": "ipython",
    "version": 3
   },
   "file_extension": ".py",
   "mimetype": "text/x-python",
   "name": "python",
   "nbconvert_exporter": "python",
   "pygments_lexer": "ipython3",
   "version": "3.4.9"
  }
 },
 "nbformat": 4,
 "nbformat_minor": 2
}
